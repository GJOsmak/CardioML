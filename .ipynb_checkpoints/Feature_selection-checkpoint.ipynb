{
 "cells": [
  {
   "cell_type": "code",
   "execution_count": 207,
   "metadata": {},
   "outputs": [],
   "source": [
    "#################################\n",
    "# Feature selection\n",
    "#################################"
   ]
  },
  {
   "cell_type": "code",
   "execution_count": 208,
   "metadata": {},
   "outputs": [
    {
     "data": {
      "text/plain": [
       "'\\nГлавная идея:\\n\\nВыборка маленькая, поэтому не будем избегать влияния случайности, например фиксируя random_state, а будем пытаться эту случайность оседлать.\\n\\nКак будем отбирать фичи?\\n\\n1) Фичи будем отбирать на основе лог.регрессии.\\n        а) подберем коэффициент L1-регуляризации\\n        б) будем обучать 1000 моделей на бутстрепленных из X_train данных\\n        в) фичи, которые попали в модель, которая хоть как-то работает (coef > 0) хоть в одной работающей (roc-auc > 0.7) моделе, будем сохранять в словарик\\n\\n2) Отобранные фичи упорядочим по их ценности, за которую примем произведение roc-auc модели, из которой пришла фича, coef и количества моделей, в которые фича была включена.\\n                                            идея: чем в большее число хорошо работающих моделей включается фича - тем она ценнее\\n\\n3) Финально выберем какую-то долю из тех фичей, которые входят в топ-20 фичей упорядоченного списка\\n\\n'"
      ]
     },
     "execution_count": 208,
     "metadata": {},
     "output_type": "execute_result"
    }
   ],
   "source": [
    "\"\"\"\n",
    "Главная идея:\n",
    "\n",
    "Выборка маленькая, поэтому не будем избегать влияния случайности, например фиксируя random_state, а будем пытаться эту случайность оседлать.\n",
    "\n",
    "Как будем отбирать фичи?\n",
    "\n",
    "1) Фичи будем отбирать на основе лог.регрессии.\n",
    "        а) подберем коэффициент L1-регуляризации\n",
    "        б) будем обучать 1000 моделей на бутстрепленных из X_train данных\n",
    "        в) фичи, которые попали в модель, которая хоть как-то работает (coef > 0) хоть в одной работающей (roc-auc > 0.7) моделе, будем сохранять в словарик\n",
    "\n",
    "2) Отобранные фичи упорядочим по их ценности, за которую примем произведение roc-auc модели, из которой пришла фича, coef и количества моделей, в которые фича была включена.\n",
    "                                            идея: чем в большее число хорошо работающих моделей включается фича - тем она ценнее\n",
    "\n",
    "3) Финально выберем какую-то долю из тех фичей, которые входят в топ-20 фичей упорядоченного списка\n",
    "\n",
    "\"\"\""
   ]
  },
  {
   "cell_type": "code",
   "execution_count": 62,
   "metadata": {},
   "outputs": [],
   "source": [
    "import pandas as pd\n",
    "import numpy as np\n",
    "from sklearn.model_selection import train_test_split, cross_val_score, GridSearchCV, RandomizedSearchCV\n",
    "from sklearn import metrics, linear_model, model_selection\n",
    "from sklearn.preprocessing import StandardScaler\n",
    "from sklearn.preprocessing import Normalizer\n",
    "import matplotlib.pyplot as plt\n",
    "import shap\n",
    "import random\n",
    "from sklearn.manifold import MDS\n",
    "from collections import Counter\n",
    "from random import choices\n",
    "from itertools import compress\n",
    "from sklearn.pipeline import make_pipeline\n",
    "import json\n",
    "\n",
    "from FUNCs import plot_mds, FeatureExtraction\n",
    "\n",
    "#roc_auc_scorer = metrics.make_scorer(metrics.roc_auc_score)\n",
    "#scaler = StandardScaler()"
   ]
  },
  {
   "cell_type": "code",
   "execution_count": 2,
   "metadata": {},
   "outputs": [],
   "source": [
    "class Data(object): \n",
    "    def __init__(self):\n",
    "        pass\n",
    "    \n",
    "Data.X = Data()\n",
    "Data.X.train = pd.read_csv('./train_GSE36961.csv', index_col=0)\n",
    "Data.X.test = pd.read_csv('./test_rna_seq_data.csv', index_col=0)\n",
    "Data.y = Data()\n",
    "Data.y.train = list(pd.read_csv('./train_GSE36961_target.csv').iloc[:,1])\n",
    "Data.y.test = list(pd.read_csv('./test_rna_seq_target.csv').iloc[:,1])"
   ]
  },
  {
   "cell_type": "code",
   "execution_count": null,
   "metadata": {},
   "outputs": [],
   "source": []
  },
  {
   "cell_type": "code",
   "execution_count": 4,
   "metadata": {},
   "outputs": [
    {
     "name": "stdout",
     "output_type": "stream",
     "text": [
      "0\n",
      "0 iteration\n",
      "100 iteration\n",
      "200 iteration\n",
      "300 iteration\n",
      "400 iteration\n",
      "1\n",
      "0 iteration\n",
      "100 iteration\n",
      "200 iteration\n",
      "300 iteration\n",
      "400 iteration\n",
      "2\n",
      "0 iteration\n",
      "100 iteration\n",
      "200 iteration\n",
      "300 iteration\n",
      "400 iteration\n",
      "3\n",
      "0 iteration\n",
      "100 iteration\n",
      "200 iteration\n",
      "300 iteration\n",
      "400 iteration\n"
     ]
    }
   ],
   "source": [
    "# Прицеливаемся, сколько итераций внутренней петли нам надо взять\n",
    "\n",
    "X_train, X_test, y_train, y_test = train_test_split(Data.X.train.transpose(), \n",
    "                                                    Data.y.train, \n",
    "                                                    test_size=0.2, \n",
    "                                                    random_state=42)\n",
    "\n",
    "df_bmo = list()\n",
    "df_bf = list()\n",
    "\n",
    "scaler = StandardScaler()\n",
    "X_train = scaler.fit_transform(X_train)\n",
    "X_test = scaler.transform(X_test)\n",
    "\n",
    "# возвращаем имена фичей\n",
    "X_train = pd.DataFrame(X_train, columns=Data.X.train.index)\n",
    "X_test = pd.DataFrame(X_test, columns=Data.X.train.index)\n",
    "\n",
    "\n",
    "for i in range(0,4):\n",
    "    print(i)\n",
    "    fe = FeatureExtraction()\n",
    "    fe.fit(500, X_train, y_train, X_test, y_test)\n",
    "    df_bmo.append(fe.len_best_more_one)\n",
    "    df_bf.append(fe.len_best_feature)"
   ]
  },
  {
   "cell_type": "code",
   "execution_count": 5,
   "metadata": {},
   "outputs": [
    {
     "data": {
      "text/html": [
       "[<matplotlib.lines.Line2D object at 0x7fd930fba950>]"
      ],
      "text/plain": [
       "[<matplotlib.lines.Line2D at 0x7fd930fba950>]"
      ]
     },
     "execution_count": 5,
     "metadata": {},
     "output_type": "execute_result"
    },
    {
     "data": {
      "image/png": "[encoded data removed]",
      "text/plain": [
       "<Figure size 432x288 with 1 Axes>"
      ]
     },
     "metadata": {
      "needs_background": "light"
     },
     "output_type": "display_data"
    }
   ],
   "source": [
    "#посмотрим, как с каждой итерацией нарастают фичи\n",
    "\n",
    "plt.plot(pd.DataFrame(df_bf).mean(), 'green') #прирост новых фичей\n",
    "plt.plot(pd.DataFrame(df_bmo).mean(), 'red') #прирост фичей, которые уже встречались"
   ]
  },
  {
   "cell_type": "code",
   "execution_count": 8,
   "metadata": {},
   "outputs": [],
   "source": [
    "fe = FeatureExtraction()"
   ]
  },
  {
   "cell_type": "code",
   "execution_count": 9,
   "metadata": {},
   "outputs": [
    {
     "name": "stdout",
     "output_type": "stream",
     "text": [
      "0 external loop fitting...\n",
      "0 inner loop fitting...\n",
      "100 inner loop fitting...\n",
      "1 external loop fitting...\n",
      "0 inner loop fitting...\n",
      "100 inner loop fitting...\n",
      "2 external loop fitting...\n",
      "0 inner loop fitting...\n",
      "100 inner loop fitting...\n",
      "3 external loop fitting...\n",
      "0 inner loop fitting...\n",
      "100 inner loop fitting...\n",
      "4 external loop fitting...\n",
      "0 inner loop fitting...\n",
      "100 inner loop fitting...\n",
      "5 external loop fitting...\n",
      "0 inner loop fitting...\n",
      "100 inner loop fitting...\n",
      "6 external loop fitting...\n",
      "0 inner loop fitting...\n",
      "100 inner loop fitting...\n",
      "7 external loop fitting...\n",
      "0 inner loop fitting...\n",
      "100 inner loop fitting...\n",
      "8 external loop fitting...\n",
      "0 inner loop fitting...\n",
      "100 inner loop fitting...\n",
      "9 external loop fitting...\n",
      "0 inner loop fitting...\n",
      "100 inner loop fitting...\n",
      "10 external loop fitting...\n",
      "0 inner loop fitting...\n",
      "100 inner loop fitting...\n",
      "11 external loop fitting...\n",
      "0 inner loop fitting...\n",
      "100 inner loop fitting...\n",
      "12 external loop fitting...\n",
      "0 inner loop fitting...\n",
      "100 inner loop fitting...\n",
      "13 external loop fitting...\n",
      "0 inner loop fitting...\n",
      "100 inner loop fitting...\n",
      "14 external loop fitting...\n",
      "0 inner loop fitting...\n",
      "100 inner loop fitting...\n",
      "15 external loop fitting...\n",
      "0 inner loop fitting...\n",
      "100 inner loop fitting...\n",
      "16 external loop fitting...\n",
      "0 inner loop fitting...\n",
      "100 inner loop fitting...\n",
      "17 external loop fitting...\n",
      "0 inner loop fitting...\n",
      "100 inner loop fitting...\n",
      "18 external loop fitting...\n",
      "0 inner loop fitting...\n",
      "100 inner loop fitting...\n",
      "19 external loop fitting...\n",
      "0 inner loop fitting...\n",
      "100 inner loop fitting...\n",
      "20 external loop fitting...\n",
      "0 inner loop fitting...\n",
      "100 inner loop fitting...\n",
      "21 external loop fitting...\n",
      "0 inner loop fitting...\n",
      "100 inner loop fitting...\n",
      "22 external loop fitting...\n",
      "0 inner loop fitting...\n",
      "100 inner loop fitting...\n",
      "23 external loop fitting...\n",
      "0 inner loop fitting...\n",
      "100 inner loop fitting...\n",
      "24 external loop fitting...\n",
      "0 inner loop fitting...\n",
      "100 inner loop fitting...\n",
      "25 external loop fitting...\n",
      "0 inner loop fitting...\n",
      "100 inner loop fitting...\n",
      "26 external loop fitting...\n",
      "0 inner loop fitting...\n",
      "100 inner loop fitting...\n",
      "27 external loop fitting...\n",
      "0 inner loop fitting...\n",
      "100 inner loop fitting...\n",
      "28 external loop fitting...\n",
      "0 inner loop fitting...\n",
      "100 inner loop fitting...\n",
      "29 external loop fitting...\n",
      "0 inner loop fitting...\n",
      "100 inner loop fitting...\n",
      "30 external loop fitting...\n",
      "0 inner loop fitting...\n",
      "100 inner loop fitting...\n",
      "31 external loop fitting...\n",
      "0 inner loop fitting...\n",
      "100 inner loop fitting...\n",
      "32 external loop fitting...\n",
      "0 inner loop fitting...\n",
      "100 inner loop fitting...\n",
      "33 external loop fitting...\n",
      "0 inner loop fitting...\n",
      "100 inner loop fitting...\n",
      "34 external loop fitting...\n",
      "0 inner loop fitting...\n",
      "100 inner loop fitting...\n",
      "35 external loop fitting...\n",
      "0 inner loop fitting...\n",
      "100 inner loop fitting...\n",
      "36 external loop fitting...\n",
      "0 inner loop fitting...\n",
      "100 inner loop fitting...\n",
      "37 external loop fitting...\n",
      "0 inner loop fitting...\n",
      "100 inner loop fitting...\n",
      "38 external loop fitting...\n",
      "0 inner loop fitting...\n",
      "100 inner loop fitting...\n",
      "39 external loop fitting...\n",
      "0 inner loop fitting...\n",
      "100 inner loop fitting...\n",
      "40 external loop fitting...\n",
      "0 inner loop fitting...\n",
      "100 inner loop fitting...\n",
      "41 external loop fitting...\n",
      "0 inner loop fitting...\n",
      "100 inner loop fitting...\n",
      "42 external loop fitting...\n",
      "0 inner loop fitting...\n",
      "100 inner loop fitting...\n",
      "43 external loop fitting...\n",
      "0 inner loop fitting...\n",
      "100 inner loop fitting...\n",
      "44 external loop fitting...\n",
      "0 inner loop fitting...\n",
      "100 inner loop fitting...\n",
      "45 external loop fitting...\n",
      "0 inner loop fitting...\n",
      "100 inner loop fitting...\n",
      "46 external loop fitting...\n",
      "0 inner loop fitting...\n",
      "100 inner loop fitting...\n",
      "47 external loop fitting...\n",
      "0 inner loop fitting...\n",
      "100 inner loop fitting...\n",
      "48 external loop fitting...\n",
      "0 inner loop fitting...\n",
      "100 inner loop fitting...\n",
      "49 external loop fitting...\n",
      "0 inner loop fitting...\n",
      "100 inner loop fitting...\n",
      "50 external loop fitting...\n",
      "0 inner loop fitting...\n",
      "100 inner loop fitting...\n",
      "51 external loop fitting...\n",
      "0 inner loop fitting...\n",
      "100 inner loop fitting...\n",
      "52 external loop fitting...\n",
      "0 inner loop fitting...\n",
      "100 inner loop fitting...\n",
      "53 external loop fitting...\n",
      "0 inner loop fitting...\n",
      "100 inner loop fitting...\n",
      "54 external loop fitting...\n",
      "0 inner loop fitting...\n",
      "100 inner loop fitting...\n",
      "55 external loop fitting...\n",
      "0 inner loop fitting...\n",
      "100 inner loop fitting...\n",
      "56 external loop fitting...\n",
      "0 inner loop fitting...\n",
      "100 inner loop fitting...\n",
      "57 external loop fitting...\n",
      "0 inner loop fitting...\n",
      "100 inner loop fitting...\n",
      "58 external loop fitting...\n",
      "0 inner loop fitting...\n",
      "100 inner loop fitting...\n",
      "59 external loop fitting...\n",
      "0 inner loop fitting...\n",
      "100 inner loop fitting...\n",
      "60 external loop fitting...\n",
      "0 inner loop fitting...\n",
      "100 inner loop fitting...\n",
      "61 external loop fitting...\n",
      "0 inner loop fitting...\n",
      "100 inner loop fitting...\n",
      "62 external loop fitting...\n",
      "0 inner loop fitting...\n",
      "100 inner loop fitting...\n",
      "63 external loop fitting...\n",
      "0 inner loop fitting...\n",
      "100 inner loop fitting...\n",
      "64 external loop fitting...\n",
      "0 inner loop fitting...\n",
      "100 inner loop fitting...\n",
      "65 external loop fitting...\n",
      "0 inner loop fitting...\n",
      "100 inner loop fitting...\n",
      "66 external loop fitting...\n",
      "0 inner loop fitting...\n",
      "100 inner loop fitting...\n",
      "67 external loop fitting...\n",
      "0 inner loop fitting...\n",
      "100 inner loop fitting...\n",
      "68 external loop fitting...\n",
      "0 inner loop fitting...\n",
      "100 inner loop fitting...\n",
      "69 external loop fitting...\n",
      "0 inner loop fitting...\n",
      "100 inner loop fitting...\n",
      "70 external loop fitting...\n",
      "0 inner loop fitting...\n",
      "100 inner loop fitting...\n",
      "71 external loop fitting...\n",
      "0 inner loop fitting...\n",
      "100 inner loop fitting...\n",
      "72 external loop fitting...\n",
      "0 inner loop fitting...\n",
      "100 inner loop fitting...\n",
      "73 external loop fitting...\n",
      "0 inner loop fitting...\n",
      "100 inner loop fitting...\n",
      "74 external loop fitting...\n",
      "0 inner loop fitting...\n",
      "100 inner loop fitting...\n",
      "75 external loop fitting...\n",
      "0 inner loop fitting...\n",
      "100 inner loop fitting...\n",
      "76 external loop fitting...\n",
      "0 inner loop fitting...\n",
      "100 inner loop fitting...\n",
      "77 external loop fitting...\n",
      "0 inner loop fitting...\n",
      "100 inner loop fitting...\n",
      "78 external loop fitting...\n",
      "0 inner loop fitting...\n",
      "100 inner loop fitting...\n",
      "79 external loop fitting...\n",
      "0 inner loop fitting...\n",
      "100 inner loop fitting...\n",
      "80 external loop fitting...\n",
      "0 inner loop fitting...\n",
      "100 inner loop fitting...\n",
      "81 external loop fitting...\n",
      "0 inner loop fitting...\n",
      "100 inner loop fitting...\n",
      "82 external loop fitting...\n",
      "0 inner loop fitting...\n",
      "100 inner loop fitting...\n",
      "83 external loop fitting...\n",
      "0 inner loop fitting...\n",
      "100 inner loop fitting...\n",
      "84 external loop fitting...\n",
      "0 inner loop fitting...\n",
      "100 inner loop fitting...\n",
      "85 external loop fitting...\n",
      "0 inner loop fitting...\n",
      "100 inner loop fitting...\n",
      "86 external loop fitting...\n",
      "0 inner loop fitting...\n",
      "100 inner loop fitting...\n",
      "87 external loop fitting...\n",
      "0 inner loop fitting...\n",
      "100 inner loop fitting...\n",
      "88 external loop fitting...\n",
      "0 inner loop fitting...\n",
      "100 inner loop fitting...\n",
      "89 external loop fitting...\n",
      "0 inner loop fitting...\n",
      "100 inner loop fitting...\n",
      "90 external loop fitting...\n",
      "0 inner loop fitting...\n",
      "100 inner loop fitting...\n",
      "91 external loop fitting...\n",
      "0 inner loop fitting...\n",
      "100 inner loop fitting...\n",
      "92 external loop fitting...\n",
      "0 inner loop fitting...\n",
      "100 inner loop fitting...\n",
      "93 external loop fitting...\n",
      "0 inner loop fitting...\n",
      "100 inner loop fitting...\n",
      "94 external loop fitting...\n",
      "0 inner loop fitting...\n",
      "100 inner loop fitting...\n",
      "95 external loop fitting...\n",
      "0 inner loop fitting...\n",
      "100 inner loop fitting...\n",
      "96 external loop fitting...\n",
      "0 inner loop fitting...\n",
      "100 inner loop fitting...\n",
      "97 external loop fitting...\n",
      "0 inner loop fitting...\n",
      "100 inner loop fitting...\n",
      "98 external loop fitting...\n",
      "0 inner loop fitting...\n",
      "100 inner loop fitting...\n",
      "99 external loop fitting...\n",
      "0 inner loop fitting...\n",
      "100 inner loop fitting...\n",
      "CPU times: user 2h 56min 58s, sys: 6h 47min 55s, total: 9h 44min 53s\n",
      "Wall time: 2h 57min 33s\n"
     ]
    }
   ],
   "source": [
    "%%time\n",
    "fe.fit_all_loops(X=Data.X.train.transpose(), \n",
    "                 y=Data.y.train, extr_itter=100, inner_itter=200)"
   ]
  },
  {
   "cell_type": "code",
   "execution_count": 10,
   "metadata": {},
   "outputs": [],
   "source": [
    "fe.fold_size_finder()"
   ]
  },
  {
   "cell_type": "code",
   "execution_count": 26,
   "metadata": {},
   "outputs": [
    {
     "data": {
      "text/plain": [
       "<matplotlib.collections.LineCollection at 0x7fd3c5094290>"
      ]
     },
     "execution_count": 26,
     "metadata": {},
     "output_type": "execute_result"
    },
    {
     "data": {
      "image/png": "[encoded data removed]",
      "text/plain": [
       "<Figure size 432x288 with 1 Axes>"
      ]
     },
     "metadata": {
      "needs_background": "light"
     },
     "output_type": "display_data"
    }
   ],
   "source": [
    "plt.plot(fe.fold_sizes)\n",
    "plt.vlines(18, 0.25, 0.435)"
   ]
  },
  {
   "cell_type": "code",
   "execution_count": null,
   "metadata": {},
   "outputs": [],
   "source": [
    "fe.list_feature_dicts_sort"
   ]
  },
  {
   "cell_type": "code",
   "execution_count": 13,
   "metadata": {},
   "outputs": [
    {
     "data": {
      "text/plain": [
       "array([False, False, False,  True, False, False, False, False, False,\n",
       "       False])"
      ]
     },
     "execution_count": 13,
     "metadata": {},
     "output_type": "execute_result"
    }
   ],
   "source": [
    "fe.fold_sizes[15:25] == max(fe.fold_sizes[15:25])"
   ]
  },
  {
   "cell_type": "code",
   "execution_count": 63,
   "metadata": {},
   "outputs": [],
   "source": [
    "with open('./list_feature_dicts_200.json', 'w') as fp:\n",
    "    json.dump(fe.list_feature_dicts_sort, fp)"
   ]
  },
  {
   "cell_type": "code",
   "execution_count": 95,
   "metadata": {},
   "outputs": [
    {
     "name": "stdout",
     "output_type": "stream",
     "text": [
      "C1R CDC42EP4 CEBPD FCN3 MT1M MYH6 PRKCD RASD1 TUBA3C TUBA3E ZFP36\n"
     ]
    },
    {
     "data": {
      "image/png": "[encoded data removed]",
      "text/plain": [
       "<Figure size 432x288 with 1 Axes>"
      ]
     },
     "metadata": {
      "needs_background": "light"
     },
     "output_type": "display_data"
    }
   ],
   "source": [
    "#отбираем гены, которые всегда занимают в словарях первые n мест\n",
    "TOP = 18\n",
    "lfd_sort = fe.list_feature_dicts_sort\n",
    "\n",
    "top_gene_list = map(lambda x: list(x.keys())[:TOP], lfd_sort)\n",
    "\n",
    "top_gene = set()\n",
    "for i in top_gene_list:\n",
    "    top_gene.update(i)\n",
    "\n",
    "# посчитаем gene_weight, как долю моделей, где gene находится на первых n-местах\n",
    "\n",
    "gene_weight = dict()\n",
    "for gene in top_gene:\n",
    "    value = sum(list(map(lambda x: gene in list(x.keys())[:TOP], lfd_sort)))/len(lfd_sort)\n",
    "    gene_weight[gene] = value\n",
    "\n",
    "#q_prob = np.quantile(list(gene_weight.values()), 0.92)\n",
    "q_prob = 0.5 #отберем гены, которые не менее чем в 50% случаев встречаются на первых n позициях наборов из lfd_sort\n",
    "\n",
    "best_features = [k for k in gene_weight.keys() if gene_weight[k] >= q_prob]\n",
    "plt.hist(gene_weight.values())\n",
    "plt.vlines(q_prob, 0, 40, 'red')\n",
    "print(*sorted(best_features))"
   ]
  },
  {
   "cell_type": "code",
   "execution_count": 89,
   "metadata": {},
   "outputs": [],
   "source": [
    "with open('./top_gene_weight.json', 'w') as fp:\n",
    "    json.dump(gene_weight, fp)"
   ]
  },
  {
   "cell_type": "code",
   "execution_count": 90,
   "metadata": {},
   "outputs": [],
   "source": [
    "pd.DataFrame({'feature': best_features}).to_csv('./best_features.csv', index_label=False)"
   ]
  },
  {
   "cell_type": "code",
   "execution_count": null,
   "metadata": {},
   "outputs": [],
   "source": []
  }
 ],
 "metadata": {
  "kernelspec": {
   "display_name": "Python 3",
   "language": "python",
   "name": "python3"
  },
  "language_info": {
   "codemirror_mode": {
    "name": "ipython",
    "version": 3
   },
   "file_extension": ".py",
   "mimetype": "text/x-python",
   "name": "python",
   "nbconvert_exporter": "python",
   "pygments_lexer": "ipython3",
   "version": "3.7.6"
  }
 },
 "nbformat": 4,
 "nbformat_minor": 4
}
