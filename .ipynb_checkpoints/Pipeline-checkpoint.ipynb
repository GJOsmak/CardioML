{
 "cells": [
  {
   "cell_type": "code",
   "execution_count": 1,
   "metadata": {},
   "outputs": [],
   "source": [
    "##################################\n",
    "# Download, merging and annotation\n",
    "##################################"
   ]
  },
  {
   "cell_type": "code",
   "execution_count": 2,
   "metadata": {},
   "outputs": [],
   "source": [
    "import GEOparse\n",
    "import pandas as pd\n",
    "import numpy as np\n",
    "\n",
    "\n",
    "# для визуализации распределения семплов в пространстве признаков\n",
    "def plot_mds(X, target, colors = ['green', 'red'], labels = ['CTRL', 'HCM']):\n",
    "    scaler = StandardScaler()\n",
    "    X_scaled = scaler.fit_transform(X)\n",
    "    mds = MDS(2,random_state=0)\n",
    "    X_2d = mds.fit_transform(X_scaled)\n",
    "    \n",
    "    plt.rcParams['figure.figsize'] = [7, 7]\n",
    "    plt.rc('font', size=14)\n",
    "    for i in np.unique(target):\n",
    "        subset = X_2d[target == i]\n",
    "        x = [row[0] for row in subset]\n",
    "        y = [row[1] for row in subset]\n",
    "        plt.scatter(x, y, c=colors[i], label = labels[i])\n",
    "    plt.legend()\n",
    "    plt.show()"
   ]
  },
  {
   "cell_type": "code",
   "execution_count": 3,
   "metadata": {},
   "outputs": [
    {
     "name": "stderr",
     "output_type": "stream",
     "text": [
      "16-Aug-2021 21:49:45 DEBUG utils - Directory ./ already exists. Skipping.\n",
      "16-Aug-2021 21:49:45 INFO GEOparse - File already exist: using local version.\n",
      "16-Aug-2021 21:49:45 INFO GEOparse - Parsing ./GSE36961_family.soft.gz: \n",
      "16-Aug-2021 21:49:45 DEBUG GEOparse - DATABASE: GeoMiame\n",
      "16-Aug-2021 21:49:45 DEBUG GEOparse - SERIES: GSE36961\n",
      "16-Aug-2021 21:49:45 DEBUG GEOparse - PLATFORM: GPL15389\n",
      "16-Aug-2021 21:49:45 DEBUG GEOparse - SAMPLE: GSM907203\n",
      "16-Aug-2021 21:49:45 DEBUG GEOparse - SAMPLE: GSM907204\n",
      "16-Aug-2021 21:49:45 DEBUG GEOparse - SAMPLE: GSM907205\n",
      "16-Aug-2021 21:49:45 DEBUG GEOparse - SAMPLE: GSM907206\n",
      "16-Aug-2021 21:49:45 DEBUG GEOparse - SAMPLE: GSM907207\n",
      "16-Aug-2021 21:49:45 DEBUG GEOparse - SAMPLE: GSM907208\n",
      "16-Aug-2021 21:49:45 DEBUG GEOparse - SAMPLE: GSM907209\n",
      "16-Aug-2021 21:49:45 DEBUG GEOparse - SAMPLE: GSM907210\n",
      "16-Aug-2021 21:49:46 DEBUG GEOparse - SAMPLE: GSM907211\n",
      "16-Aug-2021 21:49:46 DEBUG GEOparse - SAMPLE: GSM907212\n",
      "16-Aug-2021 21:49:46 DEBUG GEOparse - SAMPLE: GSM907213\n",
      "16-Aug-2021 21:49:46 DEBUG GEOparse - SAMPLE: GSM907214\n",
      "16-Aug-2021 21:49:46 DEBUG GEOparse - SAMPLE: GSM907215\n",
      "16-Aug-2021 21:49:46 DEBUG GEOparse - SAMPLE: GSM907216\n",
      "16-Aug-2021 21:49:46 DEBUG GEOparse - SAMPLE: GSM907217\n",
      "16-Aug-2021 21:49:46 DEBUG GEOparse - SAMPLE: GSM907218\n",
      "16-Aug-2021 21:49:46 DEBUG GEOparse - SAMPLE: GSM907219\n",
      "16-Aug-2021 21:49:46 DEBUG GEOparse - SAMPLE: GSM907220\n",
      "16-Aug-2021 21:49:46 DEBUG GEOparse - SAMPLE: GSM907221\n",
      "16-Aug-2021 21:49:46 DEBUG GEOparse - SAMPLE: GSM907222\n",
      "16-Aug-2021 21:49:46 DEBUG GEOparse - SAMPLE: GSM907223\n",
      "16-Aug-2021 21:49:46 DEBUG GEOparse - SAMPLE: GSM907224\n",
      "16-Aug-2021 21:49:47 DEBUG GEOparse - SAMPLE: GSM907225\n",
      "16-Aug-2021 21:49:47 DEBUG GEOparse - SAMPLE: GSM907226\n",
      "16-Aug-2021 21:49:47 DEBUG GEOparse - SAMPLE: GSM907227\n",
      "16-Aug-2021 21:49:47 DEBUG GEOparse - SAMPLE: GSM907228\n",
      "16-Aug-2021 21:49:47 DEBUG GEOparse - SAMPLE: GSM907229\n",
      "16-Aug-2021 21:49:47 DEBUG GEOparse - SAMPLE: GSM907230\n",
      "16-Aug-2021 21:49:47 DEBUG GEOparse - SAMPLE: GSM907231\n",
      "16-Aug-2021 21:49:47 DEBUG GEOparse - SAMPLE: GSM907232\n",
      "16-Aug-2021 21:49:47 DEBUG GEOparse - SAMPLE: GSM907233\n",
      "16-Aug-2021 21:49:47 DEBUG GEOparse - SAMPLE: GSM907234\n",
      "16-Aug-2021 21:49:47 DEBUG GEOparse - SAMPLE: GSM907235\n",
      "16-Aug-2021 21:49:47 DEBUG GEOparse - SAMPLE: GSM907236\n",
      "16-Aug-2021 21:49:47 DEBUG GEOparse - SAMPLE: GSM907237\n",
      "16-Aug-2021 21:49:47 DEBUG GEOparse - SAMPLE: GSM907238\n",
      "16-Aug-2021 21:49:47 DEBUG GEOparse - SAMPLE: GSM907239\n",
      "16-Aug-2021 21:49:48 DEBUG GEOparse - SAMPLE: GSM907240\n",
      "16-Aug-2021 21:49:48 DEBUG GEOparse - SAMPLE: GSM907241\n",
      "16-Aug-2021 21:49:48 DEBUG GEOparse - SAMPLE: GSM907242\n",
      "16-Aug-2021 21:49:48 DEBUG GEOparse - SAMPLE: GSM907243\n",
      "16-Aug-2021 21:49:48 DEBUG GEOparse - SAMPLE: GSM907244\n",
      "16-Aug-2021 21:49:48 DEBUG GEOparse - SAMPLE: GSM907245\n",
      "16-Aug-2021 21:49:48 DEBUG GEOparse - SAMPLE: GSM907246\n",
      "16-Aug-2021 21:49:48 DEBUG GEOparse - SAMPLE: GSM907247\n",
      "16-Aug-2021 21:49:48 DEBUG GEOparse - SAMPLE: GSM907248\n",
      "16-Aug-2021 21:49:48 DEBUG GEOparse - SAMPLE: GSM907249\n",
      "16-Aug-2021 21:49:48 DEBUG GEOparse - SAMPLE: GSM907250\n",
      "16-Aug-2021 21:49:48 DEBUG GEOparse - SAMPLE: GSM907251\n",
      "16-Aug-2021 21:49:48 DEBUG GEOparse - SAMPLE: GSM907252\n",
      "16-Aug-2021 21:49:49 DEBUG GEOparse - SAMPLE: GSM907253\n",
      "16-Aug-2021 21:49:49 DEBUG GEOparse - SAMPLE: GSM907254\n",
      "16-Aug-2021 21:49:49 DEBUG GEOparse - SAMPLE: GSM907255\n",
      "16-Aug-2021 21:49:49 DEBUG GEOparse - SAMPLE: GSM907256\n",
      "16-Aug-2021 21:49:49 DEBUG GEOparse - SAMPLE: GSM907257\n",
      "16-Aug-2021 21:49:49 DEBUG GEOparse - SAMPLE: GSM907258\n",
      "16-Aug-2021 21:49:49 DEBUG GEOparse - SAMPLE: GSM907259\n",
      "16-Aug-2021 21:49:49 DEBUG GEOparse - SAMPLE: GSM907260\n",
      "16-Aug-2021 21:49:49 DEBUG GEOparse - SAMPLE: GSM907261\n",
      "16-Aug-2021 21:49:49 DEBUG GEOparse - SAMPLE: GSM907262\n",
      "16-Aug-2021 21:49:49 DEBUG GEOparse - SAMPLE: GSM907263\n",
      "16-Aug-2021 21:49:49 DEBUG GEOparse - SAMPLE: GSM907264\n",
      "16-Aug-2021 21:49:49 DEBUG GEOparse - SAMPLE: GSM907265\n",
      "16-Aug-2021 21:49:49 DEBUG GEOparse - SAMPLE: GSM907266\n",
      "16-Aug-2021 21:49:50 DEBUG GEOparse - SAMPLE: GSM907267\n",
      "16-Aug-2021 21:49:50 DEBUG GEOparse - SAMPLE: GSM907268\n",
      "16-Aug-2021 21:49:50 DEBUG GEOparse - SAMPLE: GSM907269\n",
      "16-Aug-2021 21:49:50 DEBUG GEOparse - SAMPLE: GSM907270\n",
      "16-Aug-2021 21:49:50 DEBUG GEOparse - SAMPLE: GSM907271\n",
      "16-Aug-2021 21:49:50 DEBUG GEOparse - SAMPLE: GSM907272\n",
      "16-Aug-2021 21:49:50 DEBUG GEOparse - SAMPLE: GSM907273\n",
      "16-Aug-2021 21:49:50 DEBUG GEOparse - SAMPLE: GSM907274\n",
      "16-Aug-2021 21:49:50 DEBUG GEOparse - SAMPLE: GSM907275\n",
      "16-Aug-2021 21:49:50 DEBUG GEOparse - SAMPLE: GSM907276\n",
      "16-Aug-2021 21:49:50 DEBUG GEOparse - SAMPLE: GSM907277\n",
      "16-Aug-2021 21:49:50 DEBUG GEOparse - SAMPLE: GSM907278\n",
      "16-Aug-2021 21:49:50 DEBUG GEOparse - SAMPLE: GSM907279\n",
      "16-Aug-2021 21:49:50 DEBUG GEOparse - SAMPLE: GSM907280\n",
      "16-Aug-2021 21:49:50 DEBUG GEOparse - SAMPLE: GSM907281\n",
      "16-Aug-2021 21:49:51 DEBUG GEOparse - SAMPLE: GSM907282\n",
      "16-Aug-2021 21:49:51 DEBUG GEOparse - SAMPLE: GSM907283\n",
      "16-Aug-2021 21:49:51 DEBUG GEOparse - SAMPLE: GSM907284\n",
      "16-Aug-2021 21:49:51 DEBUG GEOparse - SAMPLE: GSM907285\n",
      "16-Aug-2021 21:49:51 DEBUG GEOparse - SAMPLE: GSM907286\n",
      "16-Aug-2021 21:49:51 DEBUG GEOparse - SAMPLE: GSM907287\n",
      "16-Aug-2021 21:49:51 DEBUG GEOparse - SAMPLE: GSM907288\n",
      "16-Aug-2021 21:49:51 DEBUG GEOparse - SAMPLE: GSM907289\n",
      "16-Aug-2021 21:49:51 DEBUG GEOparse - SAMPLE: GSM907290\n",
      "16-Aug-2021 21:49:51 DEBUG GEOparse - SAMPLE: GSM907291\n",
      "16-Aug-2021 21:49:51 DEBUG GEOparse - SAMPLE: GSM907292\n",
      "16-Aug-2021 21:49:51 DEBUG GEOparse - SAMPLE: GSM907293\n",
      "16-Aug-2021 21:49:51 DEBUG GEOparse - SAMPLE: GSM907294\n",
      "16-Aug-2021 21:49:51 DEBUG GEOparse - SAMPLE: GSM907295\n",
      "16-Aug-2021 21:49:52 DEBUG GEOparse - SAMPLE: GSM907296\n",
      "16-Aug-2021 21:49:52 DEBUG GEOparse - SAMPLE: GSM907297\n",
      "16-Aug-2021 21:49:52 DEBUG GEOparse - SAMPLE: GSM907298\n",
      "16-Aug-2021 21:49:52 DEBUG GEOparse - SAMPLE: GSM907299\n",
      "16-Aug-2021 21:49:52 DEBUG GEOparse - SAMPLE: GSM907300\n",
      "16-Aug-2021 21:49:52 DEBUG GEOparse - SAMPLE: GSM907301\n",
      "16-Aug-2021 21:49:52 DEBUG GEOparse - SAMPLE: GSM907302\n",
      "16-Aug-2021 21:49:52 DEBUG GEOparse - SAMPLE: GSM907303\n",
      "16-Aug-2021 21:49:52 DEBUG GEOparse - SAMPLE: GSM907304\n",
      "16-Aug-2021 21:49:52 DEBUG GEOparse - SAMPLE: GSM907305\n",
      "16-Aug-2021 21:49:52 DEBUG GEOparse - SAMPLE: GSM907306\n",
      "16-Aug-2021 21:49:52 DEBUG GEOparse - SAMPLE: GSM907307\n",
      "16-Aug-2021 21:49:52 DEBUG GEOparse - SAMPLE: GSM907308\n",
      "16-Aug-2021 21:49:52 DEBUG GEOparse - SAMPLE: GSM907309\n",
      "16-Aug-2021 21:49:53 DEBUG GEOparse - SAMPLE: GSM907310\n",
      "16-Aug-2021 21:49:53 DEBUG GEOparse - SAMPLE: GSM907311\n",
      "16-Aug-2021 21:49:53 DEBUG GEOparse - SAMPLE: GSM907312\n",
      "16-Aug-2021 21:49:53 DEBUG GEOparse - SAMPLE: GSM907313\n",
      "16-Aug-2021 21:49:53 DEBUG GEOparse - SAMPLE: GSM907314\n",
      "16-Aug-2021 21:49:53 DEBUG GEOparse - SAMPLE: GSM907315\n",
      "16-Aug-2021 21:49:53 DEBUG GEOparse - SAMPLE: GSM907316\n",
      "16-Aug-2021 21:49:53 DEBUG GEOparse - SAMPLE: GSM907317\n",
      "16-Aug-2021 21:49:53 DEBUG GEOparse - SAMPLE: GSM907318\n",
      "16-Aug-2021 21:49:53 DEBUG GEOparse - SAMPLE: GSM907319\n",
      "16-Aug-2021 21:49:53 DEBUG GEOparse - SAMPLE: GSM907320\n",
      "16-Aug-2021 21:49:53 DEBUG GEOparse - SAMPLE: GSM907321\n",
      "16-Aug-2021 21:49:53 DEBUG GEOparse - SAMPLE: GSM907322\n",
      "16-Aug-2021 21:49:53 DEBUG GEOparse - SAMPLE: GSM907323\n",
      "16-Aug-2021 21:49:54 DEBUG GEOparse - SAMPLE: GSM907324\n",
      "16-Aug-2021 21:49:54 DEBUG GEOparse - SAMPLE: GSM907325\n",
      "16-Aug-2021 21:49:54 DEBUG GEOparse - SAMPLE: GSM907326\n",
      "16-Aug-2021 21:49:54 DEBUG GEOparse - SAMPLE: GSM907327\n",
      "16-Aug-2021 21:49:54 DEBUG GEOparse - SAMPLE: GSM907328\n",
      "16-Aug-2021 21:49:54 DEBUG GEOparse - SAMPLE: GSM907329\n",
      "16-Aug-2021 21:49:54 DEBUG GEOparse - SAMPLE: GSM907330\n",
      "16-Aug-2021 21:49:54 DEBUG GEOparse - SAMPLE: GSM907331\n",
      "16-Aug-2021 21:49:54 DEBUG GEOparse - SAMPLE: GSM907332\n",
      "16-Aug-2021 21:49:54 DEBUG GEOparse - SAMPLE: GSM907333\n",
      "16-Aug-2021 21:49:54 DEBUG GEOparse - SAMPLE: GSM907334\n",
      "16-Aug-2021 21:49:54 DEBUG GEOparse - SAMPLE: GSM907335\n",
      "16-Aug-2021 21:49:54 DEBUG GEOparse - SAMPLE: GSM907336\n",
      "16-Aug-2021 21:49:54 DEBUG GEOparse - SAMPLE: GSM907337\n",
      "16-Aug-2021 21:49:55 DEBUG GEOparse - SAMPLE: GSM907338\n",
      "16-Aug-2021 21:49:55 DEBUG GEOparse - SAMPLE: GSM907339\n",
      "16-Aug-2021 21:49:55 DEBUG GEOparse - SAMPLE: GSM907340\n",
      "16-Aug-2021 21:49:55 DEBUG GEOparse - SAMPLE: GSM907341\n",
      "16-Aug-2021 21:49:55 DEBUG GEOparse - SAMPLE: GSM907342\n"
     ]
    },
    {
     "name": "stderr",
     "output_type": "stream",
     "text": [
      "16-Aug-2021 21:49:55 DEBUG GEOparse - SAMPLE: GSM907343\n",
      "16-Aug-2021 21:49:55 DEBUG GEOparse - SAMPLE: GSM907344\n",
      "16-Aug-2021 21:49:55 DEBUG GEOparse - SAMPLE: GSM907345\n",
      "16-Aug-2021 21:49:55 DEBUG GEOparse - SAMPLE: GSM907346\n",
      "16-Aug-2021 21:49:55 DEBUG GEOparse - SAMPLE: GSM907347\n"
     ]
    }
   ],
   "source": [
    "dataset_name = \"GSE36961\" # набор на 145 семплов\n",
    "\n",
    "gse = GEOparse.get_GEO(dataset_name)\n",
    "data_train = gse.pivot_samples('VALUE')\n",
    "\n",
    "# вытаскиваем лейблы семплов\n",
    "\n",
    "experiments = {}\n",
    "for i, (idx, row) in enumerate(gse.phenotype_data.iterrows()):\n",
    "    tmp = {}\n",
    "    tmp[\"Experiment\"] = idx\n",
    "    tmp['platform_id'] = row['platform_id']\n",
    "    tmp['status'] = 'HCM' if 'HCM' in row['source_name_ch1'] else 'CTRL'\n",
    "    experiments[i] = tmp\n",
    "experiments = pd.DataFrame(experiments).T\n",
    "\n",
    "gsm_to_stat = dict(zip(experiments['Experiment'], experiments['status']))\n",
    "data_train.columns = [gsm_to_stat[i] for i in data_train.columns]"
   ]
  },
  {
   "cell_type": "code",
   "execution_count": 4,
   "metadata": {},
   "outputs": [
    {
     "name": "stderr",
     "output_type": "stream",
     "text": [
      "16-Aug-2021 21:49:57 DEBUG utils - Directory ./ already exists. Skipping.\n",
      "16-Aug-2021 21:49:57 INFO GEOparse - File already exist: using local version.\n",
      "16-Aug-2021 21:49:57 INFO GEOparse - Parsing ./GSE1145_family.soft.gz: \n",
      "16-Aug-2021 21:49:57 DEBUG GEOparse - DATABASE: GeoMiame\n",
      "16-Aug-2021 21:49:57 DEBUG GEOparse - SERIES: GSE1145\n",
      "16-Aug-2021 21:49:57 DEBUG GEOparse - PLATFORM: GPL570\n",
      "/opt/anaconda3/lib/python3.7/site-packages/GEOparse/GEOparse.py:104: DtypeWarning: Columns (2) have mixed types. Specify dtype option on import or set low_memory=False.\n",
      "  return parse_GSE(filepath)\n",
      "16-Aug-2021 21:49:59 DEBUG GEOparse - PLATFORM: GPL8300\n",
      "16-Aug-2021 21:49:59 DEBUG GEOparse - SAMPLE: GSM18422\n",
      "16-Aug-2021 21:49:59 DEBUG GEOparse - SAMPLE: GSM18423\n",
      "16-Aug-2021 21:49:59 DEBUG GEOparse - SAMPLE: GSM18424\n",
      "16-Aug-2021 21:49:59 DEBUG GEOparse - SAMPLE: GSM18425\n",
      "16-Aug-2021 21:49:59 DEBUG GEOparse - SAMPLE: GSM18426\n",
      "16-Aug-2021 21:50:00 DEBUG GEOparse - SAMPLE: GSM18427\n",
      "16-Aug-2021 21:50:00 DEBUG GEOparse - SAMPLE: GSM18428\n",
      "16-Aug-2021 21:50:00 DEBUG GEOparse - SAMPLE: GSM18429\n",
      "16-Aug-2021 21:50:00 DEBUG GEOparse - SAMPLE: GSM18430\n",
      "16-Aug-2021 21:50:00 DEBUG GEOparse - SAMPLE: GSM18431\n",
      "16-Aug-2021 21:50:00 DEBUG GEOparse - SAMPLE: GSM18432\n",
      "16-Aug-2021 21:50:00 DEBUG GEOparse - SAMPLE: GSM18433\n",
      "16-Aug-2021 21:50:00 DEBUG GEOparse - SAMPLE: GSM18434\n",
      "16-Aug-2021 21:50:00 DEBUG GEOparse - SAMPLE: GSM18435\n",
      "16-Aug-2021 21:50:01 DEBUG GEOparse - SAMPLE: GSM18436\n",
      "16-Aug-2021 21:50:01 DEBUG GEOparse - SAMPLE: GSM18442\n",
      "16-Aug-2021 21:50:01 DEBUG GEOparse - SAMPLE: GSM18443\n",
      "16-Aug-2021 21:50:01 DEBUG GEOparse - SAMPLE: GSM18444\n",
      "16-Aug-2021 21:50:01 DEBUG GEOparse - SAMPLE: GSM18445\n",
      "16-Aug-2021 21:50:01 DEBUG GEOparse - SAMPLE: GSM18446\n",
      "16-Aug-2021 21:50:01 DEBUG GEOparse - SAMPLE: GSM18447\n",
      "16-Aug-2021 21:50:01 DEBUG GEOparse - SAMPLE: GSM18448\n",
      "16-Aug-2021 21:50:01 DEBUG GEOparse - SAMPLE: GSM18449\n",
      "16-Aug-2021 21:50:01 DEBUG GEOparse - SAMPLE: GSM18450\n",
      "16-Aug-2021 21:50:02 DEBUG GEOparse - SAMPLE: GSM18451\n",
      "16-Aug-2021 21:50:02 DEBUG GEOparse - SAMPLE: GSM18452\n",
      "16-Aug-2021 21:50:02 DEBUG GEOparse - SAMPLE: GSM18477\n",
      "16-Aug-2021 21:50:02 DEBUG GEOparse - SAMPLE: GSM18478\n",
      "16-Aug-2021 21:50:02 DEBUG GEOparse - SAMPLE: GSM18479\n",
      "16-Aug-2021 21:50:02 DEBUG GEOparse - SAMPLE: GSM18480\n",
      "16-Aug-2021 21:50:02 DEBUG GEOparse - SAMPLE: GSM18481\n",
      "16-Aug-2021 21:50:02 DEBUG GEOparse - SAMPLE: GSM18482\n",
      "16-Aug-2021 21:50:02 DEBUG GEOparse - SAMPLE: GSM18483\n",
      "16-Aug-2021 21:50:02 DEBUG GEOparse - SAMPLE: GSM18484\n",
      "16-Aug-2021 21:50:03 DEBUG GEOparse - SAMPLE: GSM18485\n",
      "16-Aug-2021 21:50:03 DEBUG GEOparse - SAMPLE: GSM18486\n",
      "16-Aug-2021 21:50:03 DEBUG GEOparse - SAMPLE: GSM18487\n",
      "16-Aug-2021 21:50:03 DEBUG GEOparse - SAMPLE: GSM25784\n",
      "16-Aug-2021 21:50:03 DEBUG GEOparse - SAMPLE: GSM25785\n",
      "16-Aug-2021 21:50:03 DEBUG GEOparse - SAMPLE: GSM25786\n",
      "16-Aug-2021 21:50:03 DEBUG GEOparse - SAMPLE: GSM25787\n",
      "16-Aug-2021 21:50:03 DEBUG GEOparse - SAMPLE: GSM25788\n",
      "16-Aug-2021 21:50:03 DEBUG GEOparse - SAMPLE: GSM25789\n",
      "16-Aug-2021 21:50:03 DEBUG GEOparse - SAMPLE: GSM25790\n",
      "16-Aug-2021 21:50:03 DEBUG GEOparse - SAMPLE: GSM25791\n",
      "16-Aug-2021 21:50:03 DEBUG GEOparse - SAMPLE: GSM25792\n",
      "16-Aug-2021 21:50:03 DEBUG GEOparse - SAMPLE: GSM25793\n",
      "16-Aug-2021 21:50:03 DEBUG GEOparse - SAMPLE: GSM25794\n",
      "16-Aug-2021 21:50:03 DEBUG GEOparse - SAMPLE: GSM25795\n",
      "16-Aug-2021 21:50:03 DEBUG GEOparse - SAMPLE: GSM25796\n",
      "16-Aug-2021 21:50:03 DEBUG GEOparse - SAMPLE: GSM25797\n",
      "16-Aug-2021 21:50:03 DEBUG GEOparse - SAMPLE: GSM25798\n",
      "16-Aug-2021 21:50:03 DEBUG GEOparse - SAMPLE: GSM25799\n",
      "16-Aug-2021 21:50:03 DEBUG GEOparse - SAMPLE: GSM25800\n",
      "16-Aug-2021 21:50:03 DEBUG GEOparse - SAMPLE: GSM25801\n",
      "16-Aug-2021 21:50:03 DEBUG GEOparse - SAMPLE: GSM25802\n",
      "16-Aug-2021 21:50:04 DEBUG GEOparse - SAMPLE: GSM25803\n",
      "16-Aug-2021 21:50:04 DEBUG GEOparse - SAMPLE: GSM25804\n",
      "16-Aug-2021 21:50:04 DEBUG GEOparse - SAMPLE: GSM25805\n",
      "16-Aug-2021 21:50:04 DEBUG GEOparse - SAMPLE: GSM25806\n",
      "16-Aug-2021 21:50:04 DEBUG GEOparse - SAMPLE: GSM25807\n",
      "16-Aug-2021 21:50:04 DEBUG GEOparse - SAMPLE: GSM25808\n",
      "16-Aug-2021 21:50:04 DEBUG GEOparse - SAMPLE: GSM25809\n",
      "16-Aug-2021 21:50:04 DEBUG GEOparse - SAMPLE: GSM25810\n",
      "16-Aug-2021 21:50:04 DEBUG GEOparse - SAMPLE: GSM25811\n",
      "16-Aug-2021 21:50:05 DEBUG GEOparse - SAMPLE: GSM25812\n",
      "16-Aug-2021 21:50:05 DEBUG GEOparse - SAMPLE: GSM25813\n",
      "16-Aug-2021 21:50:05 DEBUG GEOparse - SAMPLE: GSM25814\n",
      "16-Aug-2021 21:50:05 DEBUG GEOparse - SAMPLE: GSM25815\n",
      "16-Aug-2021 21:50:05 DEBUG GEOparse - SAMPLE: GSM25816\n",
      "16-Aug-2021 21:50:05 DEBUG GEOparse - SAMPLE: GSM25817\n",
      "16-Aug-2021 21:50:05 DEBUG GEOparse - SAMPLE: GSM25818\n",
      "16-Aug-2021 21:50:05 DEBUG GEOparse - SAMPLE: GSM25819\n",
      "16-Aug-2021 21:50:05 DEBUG GEOparse - SAMPLE: GSM25820\n",
      "16-Aug-2021 21:50:05 DEBUG GEOparse - SAMPLE: GSM25821\n",
      "16-Aug-2021 21:50:06 DEBUG GEOparse - SAMPLE: GSM25822\n",
      "16-Aug-2021 21:50:06 DEBUG GEOparse - SAMPLE: GSM25823\n",
      "16-Aug-2021 21:50:06 DEBUG GEOparse - SAMPLE: GSM25825\n",
      "16-Aug-2021 21:50:06 DEBUG GEOparse - SAMPLE: GSM25826\n",
      "16-Aug-2021 21:50:06 DEBUG GEOparse - SAMPLE: GSM25827\n",
      "16-Aug-2021 21:50:06 DEBUG GEOparse - SAMPLE: GSM25828\n",
      "16-Aug-2021 21:50:06 DEBUG GEOparse - SAMPLE: GSM25829\n",
      "16-Aug-2021 21:50:06 DEBUG GEOparse - SAMPLE: GSM25830\n",
      "16-Aug-2021 21:50:06 DEBUG GEOparse - SAMPLE: GSM25831\n",
      "16-Aug-2021 21:50:06 DEBUG GEOparse - SAMPLE: GSM25832\n",
      "16-Aug-2021 21:50:07 DEBUG GEOparse - SAMPLE: GSM25833\n",
      "16-Aug-2021 21:50:07 DEBUG GEOparse - SAMPLE: GSM25834\n",
      "16-Aug-2021 21:50:07 DEBUG GEOparse - SAMPLE: GSM25835\n",
      "16-Aug-2021 21:50:07 DEBUG GEOparse - SAMPLE: GSM25836\n",
      "16-Aug-2021 21:50:07 DEBUG GEOparse - SAMPLE: GSM25837\n",
      "16-Aug-2021 21:50:07 DEBUG GEOparse - SAMPLE: GSM25838\n",
      "16-Aug-2021 21:50:07 DEBUG GEOparse - SAMPLE: GSM25839\n",
      "16-Aug-2021 21:50:07 DEBUG GEOparse - SAMPLE: GSM25840\n",
      "16-Aug-2021 21:50:07 DEBUG GEOparse - SAMPLE: GSM25841\n",
      "16-Aug-2021 21:50:08 DEBUG GEOparse - SAMPLE: GSM25842\n",
      "16-Aug-2021 21:50:08 DEBUG GEOparse - SAMPLE: GSM25843\n",
      "16-Aug-2021 21:50:08 DEBUG GEOparse - SAMPLE: GSM25844\n",
      "16-Aug-2021 21:50:08 DEBUG GEOparse - SAMPLE: GSM25845\n",
      "16-Aug-2021 21:50:08 DEBUG GEOparse - SAMPLE: GSM25846\n",
      "16-Aug-2021 21:50:08 DEBUG GEOparse - SAMPLE: GSM25847\n",
      "16-Aug-2021 21:50:08 DEBUG GEOparse - SAMPLE: GSM25848\n",
      "16-Aug-2021 21:50:08 DEBUG GEOparse - SAMPLE: GSM25849\n",
      "16-Aug-2021 21:50:08 DEBUG GEOparse - SAMPLE: GSM25850\n",
      "16-Aug-2021 21:50:08 DEBUG GEOparse - SAMPLE: GSM25851\n",
      "16-Aug-2021 21:50:09 DEBUG GEOparse - SAMPLE: GSM25852\n",
      "16-Aug-2021 21:50:09 DEBUG GEOparse - SAMPLE: GSM25853\n",
      "16-Aug-2021 21:50:09 DEBUG GEOparse - SAMPLE: GSM25854\n",
      "/opt/anaconda3/lib/python3.7/site-packages/ipykernel_launcher.py:28: UserWarning: Boolean Series key will be reindexed to match DataFrame index.\n"
     ]
    }
   ],
   "source": [
    "dataset_name = \"GSE1145\"\n",
    "\n",
    "gse = GEOparse.get_GEO(dataset_name)\n",
    "data_test = gse.pivot_samples('VALUE')\n",
    "data_test.head()\n",
    "\n",
    "# вытаскиваем лейблы семплов\n",
    "\n",
    "def status_extr(row):\n",
    "    if 'N' in row['title']:\n",
    "        return 'CTRL'\n",
    "    elif 'hypertrophic cardiomyopathy' in row['description'].split('Keywords = ')[1]:\n",
    "        return 'HCM'\n",
    "    else:\n",
    "        return 9999\n",
    "\n",
    "experiments = {}\n",
    "for i, (idx, row) in enumerate(gse.phenotype_data.iterrows()):\n",
    "    tmp = {}\n",
    "    tmp['title'] = row['title'][3:]\n",
    "    tmp[\"Experiment\"] = idx\n",
    "    tmp['platform_id'] = row['platform_id']\n",
    "    tmp['description'] = row['description'].split('Keywords = ')[1]\n",
    "    tmp['status'] = status_extr(row)\n",
    "    experiments[i] = tmp\n",
    "experiments = pd.DataFrame(experiments).T\n",
    "\n",
    "tmp_exp = experiments[experiments['status'] != 9999][experiments['platform_id'] == 'GPL570']\n",
    "\n",
    "data_test = data_test.filter(tmp_exp['Experiment'])    #отбираем ту часть эксперимента, которая нам нужна, сделанная на GPL570. \n",
    "                                                    #Другая часть - исследование экспрессии микроРНК\n",
    "gsm_to_stat = dict(zip(tmp_exp['Experiment'], tmp_exp['status']))\n",
    "data_test.columns = [gsm_to_stat[i] for i in data_test.columns]"
   ]
  },
  {
   "cell_type": "code",
   "execution_count": 5,
   "metadata": {},
   "outputs": [],
   "source": [
    "# data_test в качестве индексов содержит probeset id, здесь перегоняем их в Gene Symbol \n",
    "\n",
    "data_test['index'] = data_test.index\n",
    "\n",
    "# annotate with GPL\n",
    "data_test = data_test.reset_index().merge(gse.gpls['GPL570'].table[[\"ID\", \"Gene Symbol\"]],\n",
    "                                left_on='index', right_on=\"ID\").set_index('index')\n",
    "del data_test[\"ID\"]\n",
    "# remove probes without ENTREZ\n",
    "data_test = data_test.dropna(subset=['Gene Symbol'])\n",
    "# remove probes with more than one gene assigned\n",
    "data_test = data_test[~data_test['Gene Symbol'].str.contains(\"///\")]\n",
    "# for each gene average LFC over probes\n",
    "data_test = data_test.groupby('Gene Symbol').median()"
   ]
  },
  {
   "cell_type": "code",
   "execution_count": 6,
   "metadata": {},
   "outputs": [
    {
     "name": "stdout",
     "output_type": "stream",
     "text": [
      "test: (21655, 16)\n",
      "train: (37846, 145)\n",
      "\n",
      "test: (14830, 16)\n",
      "train: (14830, 145)\n"
     ]
    }
   ],
   "source": [
    "print('test:', data_test.shape)\n",
    "print('train:', data_train.shape)\n",
    "\n",
    "# отбираем те гены, которые есть в обоих наборах\n",
    "set_test = set(data_test.index)\n",
    "gene_universe = set_test.intersection(data_train.index)\n",
    "\n",
    "data_train = data_train.filter(gene_universe, axis=0)\n",
    "data_test = data_test.filter(gene_universe, axis=0)\n",
    "\n",
    "print()\n",
    "print('test:', data_test.shape)\n",
    "print('train:', data_train.shape)"
   ]
  },
  {
   "cell_type": "code",
   "execution_count": 7,
   "metadata": {},
   "outputs": [],
   "source": [
    "class Data(object): \n",
    "    def __init__(self):\n",
    "        pass\n",
    "    \n",
    "Data.X = Data()\n",
    "Data.X.train = data_train\n",
    "Data.X.test = data_test\n",
    "Data.y = Data()\n",
    "Data.y.train = list(map(int, Data.X.train.columns == 'HCM'))\n",
    "Data.y.test = list(map(int, Data.X.test.columns == 'HCM'))"
   ]
  },
  {
   "cell_type": "code",
   "execution_count": 49,
   "metadata": {},
   "outputs": [],
   "source": [
    "#################################\n",
    "# Feature selection\n",
    "#################################"
   ]
  },
  {
   "cell_type": "code",
   "execution_count": null,
   "metadata": {},
   "outputs": [],
   "source": [
    "\"\"\"\n",
    "Главная идея:\n",
    "\n",
    "Выборка маленькая, поэтому не будем избегать влияния случайности, например фиксируя random_state, а будем пытаться эту случайность оседлать.\n",
    "\n",
    "Как будем отбирать фичи?\n",
    "\n",
    "1) Фичи будем отбирать на основе лог.регрессии.\n",
    "        а) подберем коэффициент L1-регуляризации\n",
    "        б) будем обучать 1000 моделей на бутстрепленных из X_train данных\n",
    "        в) фичи, которые попали в модель, которая хоть как-то работает (coef > 0) хоть в одной работающей (roc-auc > 0.7) моделе, будем сохранять в словарик\n",
    "\n",
    "2) Отобранные фичи упорядочим по их ценности, за которую примем произведение roc-auc модели, из которой пришла фича, coef и количества моделей, в которые фича была включена.\n",
    "                                            идея: чем в большее число хорошо работающих моделей включается фича - тем она ценнее\n",
    "\n",
    "3) Финально выберем какую-то долю из тех фичей, которые входят в топ-20 фичей упорядоченного списка\n",
    "\n",
    "\"\"\""
   ]
  },
  {
   "cell_type": "code",
   "execution_count": 8,
   "metadata": {},
   "outputs": [],
   "source": [
    "import pandas as pd\n",
    "import numpy as np\n",
    "from sklearn.model_selection import train_test_split, cross_val_score, GridSearchCV, RandomizedSearchCV\n",
    "from sklearn import metrics, linear_model, model_selection\n",
    "from sklearn.preprocessing import StandardScaler\n",
    "import matplotlib.pyplot as plt\n",
    "import shap\n",
    "import random\n",
    "from sklearn.manifold import MDS\n",
    "from collections import Counter\n",
    "from random import choices\n",
    "from itertools import compress\n",
    "\n",
    "roc_auc_scorer = metrics.make_scorer(metrics.roc_auc_score)\n",
    "scaler = StandardScaler()"
   ]
  },
  {
   "cell_type": "code",
   "execution_count": 9,
   "metadata": {},
   "outputs": [],
   "source": [
    "# train test split and scaling\n",
    "\n",
    "X_train, X_test, y_train, y_test = train_test_split(Data.X.train.transpose(), Data.y.train, test_size=0.2, random_state=42)\n",
    "X_train = scaler.fit_transform(X_train)\n",
    "X_test = scaler.transform(X_test)\n",
    "\n",
    "# возвращаем имена фичей\n",
    "X_train = pd.DataFrame(X_train, columns=Data.X.train.index)\n",
    "X_test = pd.DataFrame(X_test, columns=Data.X.train.index)"
   ]
  },
  {
   "cell_type": "code",
   "execution_count": 10,
   "metadata": {},
   "outputs": [],
   "source": [
    "C = np.array([0.2, 0.1, 0.05, 0.04, 0.03, 0.02, 0.01])"
   ]
  },
  {
   "cell_type": "code",
   "execution_count": 64,
   "metadata": {},
   "outputs": [
    {
     "name": "stdout",
     "output_type": "stream",
     "text": [
      "0\n",
      "1\n",
      "2\n",
      "3\n",
      "4\n",
      "5\n",
      "6\n",
      "7\n",
      "8\n",
      "9\n"
     ]
    },
    {
     "data": {
      "text/html": [
       "[<matplotlib.lines.Line2D object at 0x7fcb00b3a350>]"
      ],
      "text/plain": [
       "[<matplotlib.lines.Line2D at 0x7fcb00b3a350>]"
      ]
     },
     "execution_count": 64,
     "metadata": {},
     "output_type": "execute_result"
    },
    {
     "data": {
      "image/png": "[encoded data removed]",
      "text/plain": [
       "<Figure size 432x288 with 1 Axes>"
      ]
     },
     "metadata": {
      "needs_background": "light"
     },
     "output_type": "display_data"
    }
   ],
   "source": [
    "# Подбираем коэффициент регуляризации. Выбираем тот, после которого всё качество идет по п*зде\n",
    "\n",
    "result_df_train = pd.DataFrame()\n",
    "result_df_test = pd.DataFrame()\n",
    "\n",
    "\n",
    "# 10 раз шатаем модель по разным random_state, потом усредняем по смотрим на результат по коэффициентам\n",
    "\n",
    "for a in range(0,10):\n",
    "    print(a)\n",
    "    random_state = random.randint(1,100)\n",
    "    roc_auc_train = list()\n",
    "    roc_auc_test = list()\n",
    "    for i in C:\n",
    "        linear_regressor = linear_model.LogisticRegression(penalty='l1', C=i, solver='liblinear', random_state=random_state)\n",
    "        linear_regressor.fit(X_train, y_train)\n",
    "        roc_auc_train.append(metrics.roc_auc_score(y_train, linear_regressor.predict(X_train)))\n",
    "        roc_auc_test.append(metrics.roc_auc_score(y_test, linear_regressor.predict(X_test)))\n",
    "    result_df_train[a] = roc_auc_train\n",
    "    result_df_test[a] = roc_auc_test\n",
    "\n",
    "plt.plot(result_df_train.apply(np.mean, axis=1))\n",
    "plt.plot(result_df_test.apply(np.mean, axis=1))"
   ]
  },
  {
   "cell_type": "code",
   "execution_count": 11,
   "metadata": {},
   "outputs": [],
   "source": [
    "class FeatureExtraction(object):\n",
    "    \n",
    "    \"\"\"\n",
    "    Класс для экстракции фичей. Главная идея не фиксировать случайность, а оседлать её :)\n",
    "    \n",
    "    \"\"\"\n",
    "    \n",
    "    \n",
    "    def __init__(self, ):\n",
    "        pass\n",
    "        \n",
    "    def fit(self, n_iter, X_train, y_train, X_test, y_test, C=0.03):\n",
    "        \n",
    "        \"\"\"\n",
    "        Будем n_iter раз бутстрепить сбалансированную train выборку из X_train.\n",
    "        Обучаем лог.рег. с L1-решуляризацией, с коэффициентом как мы отобрали выше.\n",
    "        Тестим на X_test, значение добавляем в roc_auc_list\n",
    "        \n",
    "        Если на X_test модель работает круче 0.7, то: \n",
    "            1) ненулевые фичи модели добавляем в словарик отобранных фичей feature_dict\n",
    "            2) обновляем число фичей в перменной len_best_feature = len(feature_dict.keys())\n",
    "        Если нет, то:\n",
    "            3) дублируем последнее значение в len_best_feature, т.к. число фичей не изменилось\n",
    "        \"\"\"\n",
    "        \n",
    "        len_best_feature = [0] # заводим лист, в котором будем отслеживать изменение количества фичей\n",
    "        roc_auc_list = list() # аналогично, отслеживаем как меняется roc-auc, так для интереса\n",
    "        feature_dict = dict() # # словарь \"ген: log.reg.coef\"\n",
    "        \n",
    "        for i in range(0, n_iter):\n",
    "\n",
    "            random_state = random.randint(0, 500) # явным образом шатаем рандомстейт\n",
    "\n",
    "            # чтобы получить сбаланнсированную выборку, бутстрепим отдельно семплы из контроля и из опыта\n",
    "\n",
    "            mask = np.array(y_train) == 0\n",
    "\n",
    "            CTRL_rows = list(compress(range(0, len(mask)), mask))\n",
    "            HCM_rows = list(compress(range(0, len(mask)), mask == False))\n",
    "\n",
    "            _HCM_rows = choices(HCM_rows, k=50) # бутстрепим номера строк из группы больных\n",
    "            _CTRL_rows = choices(CTRL_rows, k=50) # бутстрепим номера строк из группы здоровых\n",
    "\n",
    "            # объединяем это всё дело обратно\n",
    "\n",
    "            _X_train = pd.DataFrame(X_train).iloc[_HCM_rows + _CTRL_rows,:]\n",
    "            _y_train = np.array(y_train)[_HCM_rows + _CTRL_rows]\n",
    "\n",
    "            # обучаем лог.рег. с ранее отобранным коэффициентом регуляризации\n",
    "\n",
    "            linear_regressor = linear_model.LogisticRegression(penalty='l1', C=C, solver='liblinear', \n",
    "                                                               random_state=random_state)\n",
    "            linear_regressor.fit(_X_train, _y_train)\n",
    "\n",
    "            # тестим\n",
    "\n",
    "            roc_auc = metrics.roc_auc_score(y_score=linear_regressor.predict(X_test), y_true=y_test)\n",
    "            roc_auc_list.append(roc_auc)\n",
    "\n",
    "            # далее отбираем фичи из моделей, которые хоть как-то работают (roc_auc > 0.7)\n",
    "\n",
    "            if roc_auc > 0.7:\n",
    "                # отбираем смысловые фичи\n",
    "                mask = linear_regressor.coef_ != 0 \n",
    "                genes = X_train.columns[mask[0]]\n",
    "                values = linear_regressor.coef_[mask]\n",
    "\n",
    "                _feature_dict = dict(zip(genes, abs(values)*roc_auc)) #делаем временный словарь \"ген: его ценность\"\n",
    "\n",
    "                # обнавляем глобальный словарь фичей\n",
    "                for gene, values in _feature_dict.items():\n",
    "                    if gene in feature_dict:\n",
    "                        feature_dict[gene].append(values)\n",
    "                    else:\n",
    "                        feature_dict[gene] = [values]\n",
    "\n",
    "                len_best_feature.append(len(feature_dict.keys()))\n",
    "            \n",
    "            else:\n",
    "                # если модель была говёной, то просто дублируем предыдущее значение. Ну, число фичей то не изменилось :)\n",
    "                len_best_feature.append(len_best_feature[-1]) \n",
    "        \n",
    "        self.len_best_feature = len_best_feature\n",
    "        self.feature_dict = feature_dict\n",
    "        self.roc_auc_list = roc_auc_list\n",
    "    "
   ]
  },
  {
   "cell_type": "code",
   "execution_count": 146,
   "metadata": {},
   "outputs": [],
   "source": [
    "fe = FeatureExtraction()"
   ]
  },
  {
   "cell_type": "code",
   "execution_count": 151,
   "metadata": {},
   "outputs": [],
   "source": [
    "fe.fit(1000, X_train, y_train, X_test, y_test)"
   ]
  },
  {
   "cell_type": "code",
   "execution_count": 154,
   "metadata": {},
   "outputs": [
    {
     "data": {
      "text/html": [
       "[<matplotlib.lines.Line2D object at 0x7fcb04b54150>]"
      ],
      "text/plain": [
       "[<matplotlib.lines.Line2D at 0x7fcb04b54150>]"
      ]
     },
     "execution_count": 154,
     "metadata": {},
     "output_type": "execute_result"
    },
    {
     "data": {
      "image/png": "[encoded data removed]",
      "text/plain": [
       "<Figure size 432x288 with 1 Axes>"
      ]
     },
     "metadata": {
      "needs_background": "light"
     },
     "output_type": "display_data"
    }
   ],
   "source": [
    "#посмотрим, как с каждой итерацией нарастают фичи\n",
    "\n",
    "plt.plot(fe.len_best_feature)"
   ]
  },
  {
   "cell_type": "code",
   "execution_count": 153,
   "metadata": {},
   "outputs": [
    {
     "data": {
      "text/html": [
       "[<matplotlib.lines.Line2D object at 0x7fcb047b5590>]"
      ],
      "text/plain": [
       "[<matplotlib.lines.Line2D at 0x7fcb047b5590>]"
      ]
     },
     "execution_count": 153,
     "metadata": {},
     "output_type": "execute_result"
    },
    {
     "data": {
      "image/png": "[encoded data removed]",
      "text/plain": [
       "<Figure size 432x288 with 1 Axes>"
      ]
     },
     "metadata": {
      "needs_background": "light"
     },
     "output_type": "display_data"
    }
   ],
   "source": [
    "# посмотрим как выглядит производная, видно, что, в целом, после 300 итерации прирост фичей постоянный и монотонный, \n",
    "# по одной фиче за итерацию. Ну, и всё чаще встречаются нули, т.е. новых фичей не приростает\n",
    "plt.plot(np.diff(fe.len_best_feature))"
   ]
  },
  {
   "cell_type": "code",
   "execution_count": 91,
   "metadata": {},
   "outputs": [
    {
     "data": {
      "text/plain": [
       "(array([244.,   7.,  10.,   1.,   2.,   1.,   1.,   1.,   0.,   1.]),\n",
       " array([  1. ,  64.1, 127.2, 190.3, 253.4, 316.5, 379.6, 442.7, 505.8,\n",
       "        568.9, 632. ]),\n",
       " <a list of 10 Patch objects>)"
      ]
     },
     "execution_count": 91,
     "metadata": {},
     "output_type": "execute_result"
    },
    {
     "data": {
      "image/png": "[encoded data removed]",
      "text/plain": [
       "<Figure size 432x288 with 1 Axes>"
      ]
     },
     "metadata": {
      "needs_background": "light"
     },
     "output_type": "display_data"
    }
   ],
   "source": [
    "# а вот так выглядит распределение фичей по частоте их включения в модельки.\n",
    "# больше 200 фичей включались только один раз, ну, очевидно, что это мусор.\n",
    "\n",
    "feature_distr = list(map(lambda x: len(fe.feature_dict[x]), fe.feature_dict))\n",
    "plt.hist(feature_distr)"
   ]
  },
  {
   "cell_type": "code",
   "execution_count": 12,
   "metadata": {},
   "outputs": [],
   "source": [
    "\"\"\"\n",
    "Идея: повторим экстракцию фичей 40 раз (вычислительно емко получается для ноутбучика), \n",
    "отсортируем каждый из получившихся наборов по важности фичей, найдем размер окна для отбора n-топ фичей, \n",
    "в котором состав фичей минимально изменяется от набора к набору. А потом отберем те фичи, которые всегда встречаются в окне этого размера.\n",
    "\"\"\"\n",
    "\n",
    "list_feature_dicts = list()\n",
    "for i in range(0,40):\n",
    "    fe = FeatureExtraction()\n",
    "    fe.fit(300, \n",
    "           X_train, y_train, X_test, y_test)\n",
    "    list_feature_dicts.append(fe.feature_dict)"
   ]
  },
  {
   "cell_type": "code",
   "execution_count": 13,
   "metadata": {},
   "outputs": [],
   "source": [
    "lfd = list_feature_dicts"
   ]
  },
  {
   "cell_type": "code",
   "execution_count": 14,
   "metadata": {},
   "outputs": [],
   "source": [
    "# удаляем фичи, которые были включены только в одну модель, как сказали выше - это мусор\n",
    "\n",
    "for i in range(0, len(lfd)):\n",
    "    d = lfd[i]\n",
    "    lfd[i] = {k : v for k, v in d.items() if len(v)>1}"
   ]
  },
  {
   "cell_type": "code",
   "execution_count": 124,
   "metadata": {},
   "outputs": [],
   "source": [
    "#сортируем фичи в порядке убывания их значимости\n",
    "#значимость считаем как (число включений в моедль)*(roc_auc_модели)*(abs(coef_))\n",
    "\n",
    "lfd_sort = list()\n",
    "for d in lfd:\n",
    "    lfd_sort.append(dict(sorted(d.items(), key=lambda item: len(item[1])*np.median(item[1]), reverse=True)))"
   ]
  },
  {
   "cell_type": "code",
   "execution_count": 125,
   "metadata": {},
   "outputs": [],
   "source": [
    "\"\"\"\n",
    "Идея:\n",
    "\n",
    "Хотим выбрать топ n генов, который минимально изменяется от набора в lfd к набору (с точностью до перестановки). \n",
    "Очевидно 1 < n < минимального набора генов.\n",
    "\n",
    "\"\"\"\n",
    "\n",
    "result = list()\n",
    "\n",
    "min_len = min(list(map(lambda x: len(x.keys()), lfd_sort))) # минимальная длина словаря feature_dict \n",
    "\n",
    "for yeld in range(1, min_len):\n",
    "    \n",
    "    similarity = np.zeros((20,20))\n",
    "    \n",
    "    for i in range(0,20):\n",
    "        for j in range(0,20):\n",
    "            one_set = set(list(lfd_sort[i].keys())[:yeld])\n",
    "            two_set = set(list(lfd_sort[j].keys())[:yeld])\n",
    "            sim = len(one_set.intersection(two_set))/yeld\n",
    "            similarity[i,j] = sim\n",
    "    \n",
    "    result.append(np.mean(similarity))"
   ]
  },
  {
   "cell_type": "code",
   "execution_count": 126,
   "metadata": {},
   "outputs": [
    {
     "data": {
      "text/html": [
       "[<matplotlib.lines.Line2D object at 0x7fea36bb0490>]"
      ],
      "text/plain": [
       "[<matplotlib.lines.Line2D at 0x7fea36bb0490>]"
      ]
     },
     "execution_count": 126,
     "metadata": {},
     "output_type": "execute_result"
    },
    {
     "data": {
      "image/png": "[encoded data removed]",
      "text/plain": [
       "<Figure size 504x504 with 1 Axes>"
      ]
     },
     "metadata": {
      "needs_background": "light"
     },
     "output_type": "display_data"
    }
   ],
   "source": [
    "plt.plot(result)\n",
    "\n",
    "\"\"\"\n",
    "В окне до 20 фичей всё немного колабисит. Очевидно топовые фичи прыгают по позициям от 0 до 20. \n",
    "После 20 график стабильно падает, стало быть на следующих позициях уже становится всё больше и больше рандома.\n",
    "Найдем точку перелома (она оказалась равна 18), и дальше будем оперировать окном этого размера.\n",
    "\"\"\""
   ]
  },
  {
   "cell_type": "code",
   "execution_count": 232,
   "metadata": {},
   "outputs": [
    {
     "data": {
      "text/plain": [
       "array([False, False, False,  True, False, False, False, False, False,\n",
       "       False])"
      ]
     },
     "execution_count": 232,
     "metadata": {},
     "output_type": "execute_result"
    }
   ],
   "source": [
    "result[15:25] == max(result[15:25])"
   ]
  },
  {
   "cell_type": "code",
   "execution_count": 169,
   "metadata": {},
   "outputs": [],
   "source": [
    "#отбираем гены, которые входят в топ 20 словарей\n",
    "TOP = 18\n",
    "\n",
    "top_20_gene_list = map(lambda x: list(x.keys())[:TOP], lfd_sort)\n",
    "\n",
    "top_gene = set()\n",
    "for i in top_20_gene_list:\n",
    "    top_gene.update(i)"
   ]
  },
  {
   "cell_type": "code",
   "execution_count": 170,
   "metadata": {},
   "outputs": [],
   "source": [
    "gene_weight = dict()\n",
    "for gene in top_gene:\n",
    "    value = sum(list(map(lambda x: gene in list(x.keys())[:TOP], lfd_sort)))/len(lfd_sort)\n",
    "    gene_weight[gene] = value"
   ]
  },
  {
   "cell_type": "code",
   "execution_count": 171,
   "metadata": {},
   "outputs": [
    {
     "data": {
      "text/plain": [
       "(array([ 4.,  2.,  2.,  0.,  0.,  1.,  0.,  0.,  4., 13.]),\n",
       " array([0.025 , 0.1225, 0.22  , 0.3175, 0.415 , 0.5125, 0.61  , 0.7075,\n",
       "        0.805 , 0.9025, 1.    ]),\n",
       " <a list of 10 Patch objects>)"
      ]
     },
     "execution_count": 171,
     "metadata": {},
     "output_type": "execute_result"
    },
    {
     "data": {
      "image/png": "[encoded data removed]",
      "text/plain": [
       "<Figure size 504x504 with 1 Axes>"
      ]
     },
     "metadata": {
      "needs_background": "light"
     },
     "output_type": "display_data"
    }
   ],
   "source": [
    "plt.hist(list(gene_weight.values()))"
   ]
  },
  {
   "cell_type": "code",
   "execution_count": 172,
   "metadata": {},
   "outputs": [],
   "source": [
    "best_features = [k for k in gene_weight.keys() if gene_weight[k] > 0.95]"
   ]
  },
  {
   "cell_type": "code",
   "execution_count": 173,
   "metadata": {},
   "outputs": [
    {
     "name": "stdout",
     "output_type": "stream",
     "text": [
      "FCN3 MT1X PROS1 MYH6 CDC42EP4 ZFP36 PRKCD LYVE1 CEBPD MT1M RASD1 S1PR3\n"
     ]
    }
   ],
   "source": [
    "print(*best_features)"
   ]
  },
  {
   "cell_type": "code",
   "execution_count": null,
   "metadata": {},
   "outputs": [],
   "source": [
    "#################################\n",
    "# model train\n",
    "#################################"
   ]
  },
  {
   "cell_type": "code",
   "execution_count": 1,
   "metadata": {},
   "outputs": [],
   "source": [
    "import pandas as pd\n",
    "import numpy as np\n",
    "import matplotlib.pyplot as plt\n",
    "from sklearn.preprocessing import StandardScaler\n",
    "from sklearn.manifold import MDS\n",
    "from sklearn.preprocessing import Normalizer\n",
    "from sklearn.ensemble import StackingClassifier\n",
    "from sklearn.linear_model import LogisticRegression\n",
    "from sklearn.pipeline import make_pipeline\n",
    "from sklearn.model_selection import train_test_split, cross_val_score\n",
    "from sklearn.ensemble import RandomForestClassifier\n",
    "from sklearn import metrics\n",
    "from sklearn.preprocessing import Normalizer\n",
    "\n",
    "# для визуализации распределения семплов в пространстве признаков\n",
    "def plot_mds(X, target, colors = ['green', 'red'], labels = ['CTRL', 'HCM']):\n",
    "    scaler = StandardScaler()\n",
    "    X_scaled = scaler.fit_transform(X)\n",
    "    mds = MDS(2,random_state=0)\n",
    "    X_2d = mds.fit_transform(X_scaled)\n",
    "    \n",
    "    plt.rcParams['figure.figsize'] = [7, 7]\n",
    "    plt.rc('font', size=14)\n",
    "    for i in np.unique(target):\n",
    "        subset = X_2d[target == i]\n",
    "        x = [row[0] for row in subset]\n",
    "        y = [row[1] for row in subset]\n",
    "        plt.scatter(x, y, c=colors[i], label = labels[i])\n",
    "    plt.legend()\n",
    "    plt.show()\n",
    "\n",
    "scaler = StandardScaler()\n",
    "Normalizer = Normalizer()\n",
    "\n",
    "def StandartScaling(X):\n",
    "    \n",
    "    scaler = StandardScaler()\n",
    "    \"\"\"\n",
    "    X - matrix, features in columns, samples in rows\n",
    "    \"\"\"\n",
    "    \n",
    "    colnames = X.columns \n",
    "    X = X.transpose()   # StandardScaler работает по столбцам, поэтому транспонируем, чтобы в столбцах оказались семплы\n",
    "    X = scaler.fit_transform(X)\n",
    "    X = pd.DataFrame(X.transpose(), columns=colnames)\n",
    "    return(X)"
   ]
  },
  {
   "cell_type": "code",
   "execution_count": 2,
   "metadata": {},
   "outputs": [
    {
     "name": "stdout",
     "output_type": "stream",
     "text": [
      "(145, 12) (16, 12)\n"
     ]
    }
   ],
   "source": [
    "best_features = ['FCN3', 'MT1X', 'PROS1', 'MYH6', 'CDC42EP4', 'ZFP36', 'PRKCD', 'LYVE1', 'CEBPD', 'MT1M', 'RASD1', 'S1PR3']\n",
    "\n",
    "#X = Data.X.train.transpose().filter(best_features, axis=1)\n",
    "#X_test_out = Data.X.test.transpose().filter(best_features, axis=1)\n",
    "#y = Data.y.train\n",
    "#y_test_out = Data.y.test\n",
    "\n",
    "X = pd.read_csv('./X_train.csv', index_col=0).transpose().filter(best_features, axis=1)\n",
    "X_test_out = pd.read_csv('./X_test_out.csv', index_col=0).transpose().filter(best_features, axis=1)\n",
    "\n",
    "y = list(pd.read_csv('./y_train.csv').iloc[:,1])\n",
    "y_test_out = list(pd.read_csv('./y_test_out.csv').iloc[:,1])\n",
    "\n",
    "print(X.shape, X_test_out.shape)"
   ]
  },
  {
   "cell_type": "code",
   "execution_count": 6,
   "metadata": {},
   "outputs": [
    {
     "name": "stdout",
     "output_type": "stream",
     "text": [
      "(145, 12) (16, 12)\n"
     ]
    }
   ],
   "source": [
    "colnames = X.columns\n",
    "\n",
    "#X = StandartScaling(X)\n",
    "#X_test_out = StandartScaling(X_test_out)\n",
    "\n",
    "X = pd.DataFrame(Normalizer.fit_transform(X), columns=colnames)\n",
    "X_test_out = pd.DataFrame(Normalizer.fit_transform(X_test_out), columns=colnames)\n",
    "\n",
    "print(X.shape, X_test_out.shape)"
   ]
  },
  {
   "cell_type": "code",
   "execution_count": 13,
   "metadata": {},
   "outputs": [
    {
     "data": {
      "image/png": "[encoded data removed]",
      "text/plain": [
       "<Figure size 504x504 with 1 Axes>"
      ]
     },
     "metadata": {
      "needs_background": "light"
     },
     "output_type": "display_data"
    }
   ],
   "source": [
    "plot_mds(X_test_out, y_test_out)"
   ]
  },
  {
   "cell_type": "code",
   "execution_count": 14,
   "metadata": {},
   "outputs": [
    {
     "data": {
      "image/png": "[encoded data removed]",
      "text/plain": [
       "<Figure size 504x504 with 1 Axes>"
      ]
     },
     "metadata": {
      "needs_background": "light"
     },
     "output_type": "display_data"
    }
   ],
   "source": [
    "plot_mds(X, y)"
   ]
  },
  {
   "cell_type": "code",
   "execution_count": 15,
   "metadata": {},
   "outputs": [
    {
     "data": {
      "image/png": "[encoded data removed]",
      "text/plain": [
       "<Figure size 504x504 with 1 Axes>"
      ]
     },
     "metadata": {
      "needs_background": "light"
     },
     "output_type": "display_data"
    }
   ],
   "source": [
    "plot_mds(pd.concat([X, X_test_out]), y + y_test_out)"
   ]
  },
  {
   "cell_type": "code",
   "execution_count": 85,
   "metadata": {},
   "outputs": [
    {
     "data": {
      "text/html": [
       "[<matplotlib.lines.Line2D object at 0x7fbb7a5eae50>]"
      ],
      "text/plain": [
       "[<matplotlib.lines.Line2D at 0x7fbb7a5eae50>]"
      ]
     },
     "execution_count": 85,
     "metadata": {},
     "output_type": "execute_result"
    },
    {
     "data": {
      "image/png": "[encoded data removed]",
      "text/plain": [
       "<Figure size 432x288 with 1 Axes>"
      ]
     },
     "metadata": {
      "needs_background": "light"
     },
     "output_type": "display_data"
    }
   ],
   "source": [
    "\"\"\"\n",
    "\n",
    "##\n",
    "## Тюнинг случайного леса\n",
    "##\n",
    "##\n",
    "\n",
    "class stack_model(object):\n",
    "    \n",
    "    def __init__(self, rf_params):\n",
    "        \n",
    "        self.rf_params = rf_params\n",
    "\n",
    "        self.estimators = [\n",
    "            ('rf', make_pipeline(StandardScaler(),\n",
    "                                 RandomForestClassifier(**self.rf_params))),\n",
    "            ('logreg', make_pipeline(StandardScaler(),\n",
    "                                     LogisticRegression(solver='liblinear', random_state=42, class_weight='balanced', \n",
    "                                                        penalty='l2', C=0.05)))\n",
    "             ]\n",
    "        self.clf = StackingClassifier(estimators=self.estimators, \n",
    "                                 final_estimator=LogisticRegression(penalty='l2', C=1), \n",
    "                                 passthrough = False)\n",
    "\n",
    "X_train, X_test, y_train, y_test = train_test_split(X, y, test_size=0.2, random_state=42)\n",
    "\n",
    "test_res = list()\n",
    "test_out = list()\n",
    "train_res = list()\n",
    "\n",
    "for i in range(1,10):\n",
    "    d = {'random_state': 42, 'n_estimators': 50, 'max_samples': 0.5, 'max_features': 'auto', \n",
    "                     'max_depth': i, 'class_weight': 'balanced', 'bootstrap': 'True'}\n",
    "    model = stack_model(d)\n",
    "    clfStack = model.clf.fit(X_train, y_train)\n",
    "    \n",
    "    train_res.append(metrics.roc_auc_score(y_score=clfStack.predict(X_train), y_true=y_train))\n",
    "    test_out.append(metrics.roc_auc_score(y_score=clfStack.predict(X_test_out), y_true=y_test_out))\n",
    "    test_res.append(metrics.roc_auc_score(y_score=clfStack.predict(X_test), y_true=y_test))\n",
    "\n",
    "plt.plot(train_res)\n",
    "plt.plot(test_out)\n",
    "plt.plot(test_res)\n",
    "\n",
    "\"\"\""
   ]
  },
  {
   "cell_type": "code",
   "execution_count": 88,
   "metadata": {},
   "outputs": [],
   "source": [
    "rf_params = {'random_state': 42, 'n_estimators': 50, 'max_samples': 0.5, 'max_features': 'auto', \n",
    "             'max_depth': 3, 'class_weight': 'balanced', 'bootstrap': 'True'}\n",
    "\n",
    "estimators = [\n",
    "    ('rf', make_pipeline(RandomForestClassifier(**rf_params))),\n",
    "    ('logreg', make_pipeline(StandardScaler(),\n",
    "                             LogisticRegression(solver='liblinear', random_state=42, class_weight='balanced', \n",
    "                                                penalty='l2', C=0.05)))\n",
    "     ]\n",
    "clf = StackingClassifier(estimators=estimators, \n",
    "                         final_estimator=LogisticRegression(penalty='l2', C=1), \n",
    "                         passthrough = False)"
   ]
  },
  {
   "cell_type": "code",
   "execution_count": 89,
   "metadata": {},
   "outputs": [
    {
     "name": "stdout",
     "output_type": "stream",
     "text": [
      "train: 1.0\n",
      "test_in: 0.9444444444444444\n",
      "test_out: 0.9545454545454545\n"
     ]
    }
   ],
   "source": [
    "X_train, X_test, y_train, y_test = train_test_split(X, y, test_size=0.2, random_state=42)\n",
    "\n",
    "clfStack = clf.fit(X_train, y_train)\n",
    "\n",
    "print(\"train:\", metrics.roc_auc_score(y_score=clfStack.predict(X_train), \n",
    "                                      y_true=y_train))\n",
    "print('test_in:', metrics.roc_auc_score(y_score=clfStack.predict(X_test), \n",
    "                                           y_true=y_test))\n",
    "print(\"test_out:\", metrics.roc_auc_score(y_score=clfStack.predict(X_test_out), \n",
    "                                     y_true=y_test_out))"
   ]
  },
  {
   "cell_type": "code",
   "execution_count": 90,
   "metadata": {},
   "outputs": [
    {
     "data": {
      "text/html": [
       "[<matplotlib.lines.Line2D object at 0x7fbb5d4dcc50>]"
      ],
      "text/plain": [
       "[<matplotlib.lines.Line2D at 0x7fbb5d4dcc50>]"
      ]
     },
     "execution_count": 90,
     "metadata": {},
     "output_type": "execute_result"
    },
    {
     "data": {
      "image/png": "[encoded data removed]",
      "text/plain": [
       "<Figure size 432x288 with 1 Axes>"
      ]
     },
     "metadata": {
      "needs_background": "light"
     },
     "output_type": "display_data"
    }
   ],
   "source": [
    "plt.plot(clf.estimators_[0].predict_proba(X_test_out)[:,1], 'blue')\n",
    "plt.plot(clf.estimators_[1].predict_proba(X_test_out)[:,1], 'red')\n",
    "plt.plot(clf.predict_proba(X_test_out)[:,1], 'green')"
   ]
  },
  {
   "cell_type": "code",
   "execution_count": 91,
   "metadata": {},
   "outputs": [
    {
     "data": {
      "text/plain": [
       "{'FCN3': -0.3105841805969075,\n",
       " 'MT1X': -0.14348393162356524,\n",
       " 'PROS1': 0.5348508314173762,\n",
       " 'MYH6': -0.09753956441499112,\n",
       " 'CDC42EP4': 0.2295586116021682,\n",
       " 'ZFP36': -0.16427593822594527,\n",
       " 'PRKCD': 0.3048515100144499,\n",
       " 'LYVE1': -0.26471296238774716,\n",
       " 'CEBPD': -0.1405727523348504,\n",
       " 'MT1M': -0.24584481567686625,\n",
       " 'RASD1': -0.3916718275029203,\n",
       " 'S1PR3': 0.2374160702076284}"
      ]
     },
     "execution_count": 91,
     "metadata": {},
     "output_type": "execute_result"
    }
   ],
   "source": [
    "dict(zip(colnames, clf.estimators_[1].steps[1][1].coef_[0]))"
   ]
  },
  {
   "cell_type": "code",
   "execution_count": 12,
   "metadata": {},
   "outputs": [],
   "source": [
    "#################################\n",
    "# interpretaion\n",
    "#################################"
   ]
  },
  {
   "cell_type": "code",
   "execution_count": 70,
   "metadata": {},
   "outputs": [],
   "source": [
    "import shap"
   ]
  },
  {
   "cell_type": "code",
   "execution_count": 71,
   "metadata": {},
   "outputs": [],
   "source": [
    "X_train_summary = shap.kmeans(X_train, 10)\n",
    "ex = shap.KernelExplainer(clfStack.predict, X_train_summary)"
   ]
  },
  {
   "cell_type": "code",
   "execution_count": 72,
   "metadata": {},
   "outputs": [
    {
     "data": {
      "application/vnd.jupyter.widget-view+json": {
       "model_id": "ea90bae0b80a4fffa92ec406df870924",
       "version_major": 2,
       "version_minor": 0
      },
      "text/plain": [
       "  0%|          | 0/16 [00:00<?, ?it/s]"
      ]
     },
     "metadata": {},
     "output_type": "display_data"
    },
    {
     "name": "stderr",
     "output_type": "stream",
     "text": [
      "l1_reg=\"auto\" is deprecated and in the next version (v0.29) the behavior will change from a conditional use of AIC to simply \"num_features(10)\"!\n",
      "l1_reg=\"auto\" is deprecated and in the next version (v0.29) the behavior will change from a conditional use of AIC to simply \"num_features(10)\"!\n",
      "l1_reg=\"auto\" is deprecated and in the next version (v0.29) the behavior will change from a conditional use of AIC to simply \"num_features(10)\"!\n",
      "l1_reg=\"auto\" is deprecated and in the next version (v0.29) the behavior will change from a conditional use of AIC to simply \"num_features(10)\"!\n",
      "l1_reg=\"auto\" is deprecated and in the next version (v0.29) the behavior will change from a conditional use of AIC to simply \"num_features(10)\"!\n",
      "l1_reg=\"auto\" is deprecated and in the next version (v0.29) the behavior will change from a conditional use of AIC to simply \"num_features(10)\"!\n",
      "l1_reg=\"auto\" is deprecated and in the next version (v0.29) the behavior will change from a conditional use of AIC to simply \"num_features(10)\"!\n",
      "l1_reg=\"auto\" is deprecated and in the next version (v0.29) the behavior will change from a conditional use of AIC to simply \"num_features(10)\"!\n",
      "l1_reg=\"auto\" is deprecated and in the next version (v0.29) the behavior will change from a conditional use of AIC to simply \"num_features(10)\"!\n",
      "l1_reg=\"auto\" is deprecated and in the next version (v0.29) the behavior will change from a conditional use of AIC to simply \"num_features(10)\"!\n",
      "l1_reg=\"auto\" is deprecated and in the next version (v0.29) the behavior will change from a conditional use of AIC to simply \"num_features(10)\"!\n",
      "l1_reg=\"auto\" is deprecated and in the next version (v0.29) the behavior will change from a conditional use of AIC to simply \"num_features(10)\"!\n",
      "l1_reg=\"auto\" is deprecated and in the next version (v0.29) the behavior will change from a conditional use of AIC to simply \"num_features(10)\"!\n",
      "l1_reg=\"auto\" is deprecated and in the next version (v0.29) the behavior will change from a conditional use of AIC to simply \"num_features(10)\"!\n",
      "l1_reg=\"auto\" is deprecated and in the next version (v0.29) the behavior will change from a conditional use of AIC to simply \"num_features(10)\"!\n",
      "l1_reg=\"auto\" is deprecated and in the next version (v0.29) the behavior will change from a conditional use of AIC to simply \"num_features(10)\"!\n"
     ]
    },
    {
     "data": {
      "text/html": [
       "\n",
       "<div id='iEF1Z970LY4UND4OAZIQB'>\n",
       "<div style='color: #900; text-align: center;'>\n",
       "  <b>Visualization omitted, Javascript library not loaded!</b><br>\n",
       "  Have you run `initjs()` in this notebook? If this notebook was from another\n",
       "  user you must also trust this notebook (File -> Trust notebook). If you are viewing\n",
       "  this notebook on github the Javascript has been stripped for security. If you are using\n",
       "  JupyterLab this error is because a JupyterLab extension has not yet been written.\n",
       "</div></div>\n",
       " <script>\n",
       "   if (window.SHAP) SHAP.ReactDom.render(\n",
       "    SHAP.React.createElement(SHAP.AdditiveForceArrayVisualizer, {\"outNames\": [\"model output value\"], \"baseValue\": 0.7413793103448275, \"link\": \"identity\", \"featureNames\": [\"FCN3\", \"MT1X\", \"PROS1\", \"MYH6\", \"CDC42EP4\", \"ZFP36\", \"PRKCD\", \"LYVE1\", \"CEBPD\", \"MT1M\", \"RASD1\", \"S1PR3\"], \"explanations\": [{\"outValue\": -2.220446049250313e-16, \"simIndex\": 5.0, \"features\": {\"0\": {\"effect\": 0.06502430755024013, \"value\": 0.07193324120339768}, \"1\": {\"effect\": -0.03790034354679095, \"value\": 0.39523211757581045}, \"2\": {\"effect\": -0.4875832116749502, \"value\": 0.0944923077449269}, \"3\": {\"effect\": -0.05847217085820727, \"value\": 0.8921181513224301}, \"4\": {\"effect\": -0.14839913643113015, \"value\": 0.053688191166030894}, \"5\": {\"effect\": 0.05535004236482299, \"value\": 0.08484459810834546}, \"6\": {\"effect\": -0.20087329405287885, \"value\": 0.009136166177589835}, \"7\": {\"effect\": 0.09301819638429043, \"value\": 0.03931893540295708}, \"8\": {\"effect\": 0.04524522896496466, \"value\": 0.07916646571353879}, \"9\": {\"effect\": 0.041931579025780374, \"value\": 0.043979096314370476}, \"10\": {\"effect\": 0.05163265782227652, \"value\": 0.11013530672088978}, \"11\": {\"effect\": -0.16035316589324533, \"value\": 0.04209320609555481}}}, {\"outValue\": 0.0, \"simIndex\": 3.0, \"features\": {\"0\": {\"effect\": 0.07102488251870437, \"value\": 0.0902929569665778}, \"1\": {\"effect\": 0.020314774969541705, \"value\": 0.23525729612134105}, \"2\": {\"effect\": -0.5453092867066296, \"value\": 0.13149463648550463}, \"3\": {\"effect\": -0.09367647906946502, \"value\": 0.9341348155934271}, \"4\": {\"effect\": -0.1539961740018145, \"value\": 0.04786730625321511}, \"5\": {\"effect\": 0.04378632369379143, \"value\": 0.11653409677122012}, \"6\": {\"effect\": -0.20537477410820132, \"value\": 0.013379409712292015}, \"7\": {\"effect\": 0.07923480241026748, \"value\": 0.051127885254785975}, \"8\": {\"effect\": 0.03383282709285684, \"value\": 0.13725733365012713}, \"9\": {\"effect\": 0.07483525085567044, \"value\": 0.017653276342043365}, \"10\": {\"effect\": 0.06942297650717044, \"value\": 0.048802339985357886}, \"11\": {\"effect\": -0.1354744345067198, \"value\": 0.08003166403486493}}}, {\"outValue\": 0.0, \"simIndex\": 1.0, \"features\": {\"0\": {\"effect\": 0.07057113310257307, \"value\": 0.08339884500671534}, \"1\": {\"effect\": 0.01468686059995511, \"value\": 0.24699032942299035}, \"2\": {\"effect\": -0.6084636247962354, \"value\": 0.060933247042594424}, \"3\": {\"effect\": -0.0811388271412612, \"value\": 0.9464016659801863}, \"4\": {\"effect\": -0.15434975084517247, \"value\": 0.034468840821733925}, \"5\": {\"effect\": 0.05692866250557177, \"value\": 0.10154177556286882}, \"6\": {\"effect\": -0.1790269112962025, \"value\": 0.011321434118185973}, \"7\": {\"effect\": 0.099901933827521, \"value\": 0.015320242374925552}, \"8\": {\"effect\": 0.04342922543565447, \"value\": 0.10658204666908323}, \"9\": {\"effect\": 0.06583913271510555, \"value\": 0.03303022438154287}, \"10\": {\"effect\": 0.05890690799066153, \"value\": 0.057220798456414194}, \"11\": {\"effect\": -0.1286640524429985, \"value\": 0.07116719622139427}}}, {\"outValue\": 1.0, \"simIndex\": 14.0, \"features\": {\"0\": {\"effect\": 0.07747486223187702, \"value\": 0.054483182810607426}, \"1\": {\"effect\": -0.041519823029389, \"value\": 0.3338611153479071}, \"2\": {\"effect\": 0.22199131055340313, \"value\": 0.7361094014656329}, \"3\": {\"effect\": -0.023016796761283487, \"value\": 0.4458398446185401}, \"4\": {\"effect\": -0.10106253018603076, \"value\": 0.08215081566383217}, \"5\": {\"effect\": 0.04919573766584917, \"value\": 0.20257519010795857}, \"6\": {\"effect\": -0.11864695056946836, \"value\": 0.02224437583380642}, \"7\": {\"effect\": 0.1771112845225218, \"value\": 0.07003620178588939}, \"8\": {\"effect\": 0.0031858128058950275, \"value\": 0.29085599036952514}, \"9\": {\"effect\": 0.06528896038530443, \"value\": 0.02726665266694613}, \"10\": {\"effect\": 0.05242301205047514, \"value\": 0.04741590702744676}, \"11\": {\"effect\": -0.10380419001398167, \"value\": 0.06452773647688685}}}, {\"outValue\": 0.0, \"simIndex\": 4.0, \"features\": {\"0\": {\"effect\": 0.10279233821939679, \"value\": 0.04160306268721406}, \"1\": {\"effect\": 0.028163553755061743, \"value\": 0.14965541957848422}, \"2\": {\"effect\": -0.5229536428662959, \"value\": 0.1301506738871265}, \"3\": {\"effect\": -0.10477390294528827, \"value\": 0.9675473607817358}, \"4\": {\"effect\": -0.165936560797161, \"value\": 0.0412247704899418}, \"5\": {\"effect\": 0.061827829936702716, \"value\": 0.0972785951129562}, \"6\": {\"effect\": -0.27022181260663075, \"value\": 0.00866743082390202}, \"7\": {\"effect\": 0.08530545034921858, \"value\": 0.025808606866702662}, \"8\": {\"effect\": 0.05370930790244327, \"value\": 0.08394303857471448}, \"9\": {\"effect\": 0.08200043756399106, \"value\": 0.01795223451375237}, \"10\": {\"effect\": 0.06801205965909435, \"value\": 0.04383044714475313}, \"11\": {\"effect\": -0.15930436851536023, \"value\": 0.03989620829312162}}}, {\"outValue\": 0.0, \"simIndex\": 10.0, \"features\": {\"0\": {\"effect\": 0.07079085145935149, \"value\": 0.10152213503410426}, \"1\": {\"effect\": 0.014582135981494215, \"value\": 0.2946137077456042}, \"2\": {\"effect\": -0.5174508747055083, \"value\": 0.26165887857222997}, \"3\": {\"effect\": -0.03640528019671774, \"value\": 0.6912271567452166}, \"4\": {\"effect\": -0.12536210843489987, \"value\": 0.10860149174526154}, \"5\": {\"effect\": -0.0637673581083476, \"value\": 0.4557210703757928}, \"6\": {\"effect\": -0.1706073438816441, \"value\": 0.0456807239359768}, \"7\": {\"effect\": 0.07231126637861923, \"value\": 0.09420012354993124}, \"8\": {\"effect\": -0.0031941081734435384, \"value\": 0.3383493418343914}, \"9\": {\"effect\": 0.06113310685235218, \"value\": 0.019851471430524823}, \"10\": {\"effect\": 0.0725090578947098, \"value\": 0.014628616316091053}, \"11\": {\"effect\": -0.11591865541079327, \"value\": 0.10540846306541965}}}, {\"outValue\": 0.0, \"simIndex\": 9.0, \"features\": {\"0\": {\"effect\": 0.07831033927493336, \"value\": 0.05131795188926282}, \"1\": {\"effect\": -0.07328069581103591, \"value\": 0.7107444369007184}, \"2\": {\"effect\": -0.47744763061158096, \"value\": 0.07413261906349226}, \"3\": {\"effect\": -0.001755731886235734, \"value\": 0.39190929592694235}, \"4\": {\"effect\": -0.09295923476442042, \"value\": 0.08934908573642454}, \"5\": {\"effect\": -0.0749320668687114, \"value\": 0.4722622727951938}, \"6\": {\"effect\": -0.15201483396312204, \"value\": 0.02338653877886053}, \"7\": {\"effect\": 0.092203689866589, \"value\": 0.022410009489081142}, \"8\": {\"effect\": -0.007036286631167482, \"value\": 0.30055865957430905}, \"9\": {\"effect\": 0.0317753326525283, \"value\": 0.07472790061685093}, \"10\": {\"effect\": 0.062013271624055816, \"value\": 0.02427611683050888}, \"11\": {\"effect\": -0.12625546322666004, \"value\": 0.06743235730981757}}}, {\"outValue\": 2.220446049250313e-16, \"simIndex\": 2.0, \"features\": {\"0\": {\"effect\": 0.06359941954679255, \"value\": 0.1077359654411181}, \"1\": {\"effect\": 0.03206183836355603, \"value\": 0.20164506696744697}, \"2\": {\"effect\": -0.6005344673917002, \"value\": 0.0857139370390002}, \"3\": {\"effect\": -0.08719330868386399, \"value\": 0.9516280762086308}, \"4\": {\"effect\": -0.15160087708467684, \"value\": 0.038755717894238935}, \"5\": {\"effect\": 0.05251717265372097, \"value\": 0.11018937905308113}, \"6\": {\"effect\": -0.17406296056312676, \"value\": 0.011914903426519014}, \"7\": {\"effect\": 0.07735460092384339, \"value\": 0.04785036954911146}, \"8\": {\"effect\": 0.04627548750220592, \"value\": 0.11078512422440709}, \"9\": {\"effect\": 0.06946765594550258, \"value\": 0.012818792651979077}, \"10\": {\"effect\": 0.06545272355578263, \"value\": 0.037590639899084254}, \"11\": {\"effect\": -0.1347165951128636, \"value\": 0.06973740150846584}}}, {\"outValue\": 0.0, \"simIndex\": 7.0, \"features\": {\"0\": {\"effect\": 0.07219521377406399, \"value\": 0.10812561561856222}, \"1\": {\"effect\": -0.03790842995237653, \"value\": 0.3729494017171515}, \"2\": {\"effect\": -0.4058724585949024, \"value\": 0.20983881122020887}, \"3\": {\"effect\": -0.08566068389877307, \"value\": 0.8164842801538366}, \"4\": {\"effect\": -0.1533648714769818, \"value\": 0.07116564805439737}, \"5\": {\"effect\": 0.034219623984589054, \"value\": 0.1596265089544185}, \"6\": {\"effect\": -0.20810669346154864, \"value\": 0.011817174031172996}, \"7\": {\"effect\": 0.07314883103432007, \"value\": 0.08010639367798253}, \"8\": {\"effect\": 0.01213132431877531, \"value\": 0.2590526080833653}, \"9\": {\"effect\": 0.048624091729871366, \"value\": 0.023628240995663213}, \"10\": {\"effect\": 0.037318944617412, \"value\": 0.1464657802530346}, \"11\": {\"effect\": -0.1281042024192769, \"value\": 0.11098677635944312}}}, {\"outValue\": -2.220446049250313e-16, \"simIndex\": 6.0, \"features\": {\"0\": {\"effect\": 0.07197438899426145, \"value\": 0.09318647001024077}, \"1\": {\"effect\": -0.034540665818925065, \"value\": 0.3587917679511544}, \"2\": {\"effect\": -0.42960500296941295, \"value\": 0.13882332936577468}, \"3\": {\"effect\": -0.09563417528611312, \"value\": 0.8941113125193711}, \"4\": {\"effect\": -0.18655704848028487, \"value\": 0.0406367887952225}, \"5\": {\"effect\": 0.054579701872928765, \"value\": 0.07539665941963854}, \"6\": {\"effect\": -0.21575757153171177, \"value\": 0.014739196578275202}, \"7\": {\"effect\": 0.07973582478314023, \"value\": 0.08614925814089547}, \"8\": {\"effect\": 0.03698754875413335, \"value\": 0.13791589404793675}, \"9\": {\"effect\": 0.05258657933588784, \"value\": 0.021505197442513873}, \"10\": {\"effect\": 0.06569073087756733, \"value\": 0.03566934512274348}, \"11\": {\"effect\": -0.14083962087629887, \"value\": 0.0902622851882642}}}, {\"outValue\": 0.0, \"simIndex\": 8.0, \"features\": {\"0\": {\"effect\": 0.058220990214014334, \"value\": 0.11124035739542669}, \"1\": {\"effect\": -0.040980685680007234, \"value\": 0.35519561229676466}, \"2\": {\"effect\": -0.42026927516530227, \"value\": 0.1301221030521384}, \"3\": {\"effect\": -0.05368114325121298, \"value\": 0.782265898753932}, \"4\": {\"effect\": -0.11805495035675112, \"value\": 0.06060334013129351}, \"5\": {\"effect\": -0.03331503500122651, \"value\": 0.33866547091207955}, \"6\": {\"effect\": -0.16721579678281528, \"value\": 0.011865695548412594}, \"7\": {\"effect\": 0.06951705393231195, \"value\": 0.06559942246746724}, \"8\": {\"effect\": -0.002477937530500962, \"value\": 0.29482054144462394}, \"9\": {\"effect\": 0.04435736577890309, \"value\": 0.03577797928154752}, \"10\": {\"effect\": 0.04145037328663753, \"value\": 0.10154968045026214}, \"11\": {\"effect\": -0.118930269788878, \"value\": 0.10614736828980131}}}, {\"outValue\": 1.0, \"simIndex\": 13.0, \"features\": {\"0\": {\"effect\": 0.053604476897908065, \"value\": 0.048978376470960115}, \"1\": {\"effect\": -0.005763146009898107, \"value\": 0.3175384310826616}, \"2\": {\"effect\": 0.1729487160396625, \"value\": 0.663357998618148}, \"3\": {\"effect\": -0.010223183452718554, \"value\": 0.4540485669070716}, \"4\": {\"effect\": -0.07681318807349205, \"value\": 0.08249874047081104}, \"5\": {\"effect\": 0.03559837657042614, \"value\": 0.2506504502417652}, \"6\": {\"effect\": -0.09817643078230834, \"value\": 0.017726307779369784}, \"7\": {\"effect\": 0.09919797551445628, \"value\": 0.015293809275393363}, \"8\": {\"effect\": 0.003948877826772695, \"value\": 0.25379704171315703}, \"9\": {\"effect\": 0.15106771322031773, \"value\": 0.02110201998896972}, \"10\": {\"effect\": -0.010587755392091308, \"value\": 0.31588112440962274}, \"11\": {\"effect\": -0.05618174270386256, \"value\": 0.12548942831659843}}}, {\"outValue\": 1.0, \"simIndex\": 12.0, \"features\": {\"0\": {\"effect\": 0.03705119917084673, \"value\": 0.06592125676675932}, \"1\": {\"effect\": 0.025274266323740413, \"value\": 0.2840048409808054}, \"2\": {\"effect\": 0.17470796565129038, \"value\": 0.6563772447959046}, \"3\": {\"effect\": -0.00979141689238297, \"value\": 0.5425080710754464}, \"4\": {\"effect\": -0.051383010063798834, \"value\": 0.07444352034085774}, \"5\": {\"effect\": 0.02805671107467428, \"value\": 0.2226787626612655}, \"6\": {\"effect\": -0.06165402343667581, \"value\": 0.02197375225558644}, \"7\": {\"effect\": 0.05810927154503154, \"value\": 0.08120185459966714}, \"8\": {\"effect\": 0.0006857826224219987, \"value\": 0.30249554574315374}, \"9\": {\"effect\": 0.08098775865171592, \"value\": 0.029290188861265574}, \"10\": {\"effect\": 0.023120553320404552, \"value\": 0.16170302596092848}, \"11\": {\"effect\": -0.04654436831209574, \"value\": 0.09558215594601867}}}, {\"outValue\": 1.0, \"simIndex\": 11.0, \"features\": {\"0\": {\"effect\": 0.04487266781614142, \"value\": 0.04685840377186161}, \"1\": {\"effect\": 0.01464790857319076, \"value\": 0.3137003584885447}, \"2\": {\"effect\": 0.18191243476869248, \"value\": 0.5578670769899777}, \"3\": {\"effect\": -0.009184896178413976, \"value\": 0.5715172315949894}, \"4\": {\"effect\": -0.047210741493020764, \"value\": 0.06405332235096933}, \"5\": {\"effect\": 0.02457360493792987, \"value\": 0.22102447369911957}, \"6\": {\"effect\": -0.04912529346849215, \"value\": 0.0319253822047962}, \"7\": {\"effect\": 0.035363406058933455, \"value\": 0.17565149483068876}, \"8\": {\"effect\": 0.01718468304708043, \"value\": 0.3484784317010659}, \"9\": {\"effect\": 0.06032092516944032, \"value\": 0.044123871563273145}, \"10\": {\"effect\": 0.017609814418088177, \"value\": 0.19293643916151954}, \"11\": {\"effect\": -0.03234382399439756, \"value\": 0.12693630992953867}}}, {\"outValue\": 1.0, \"simIndex\": 16.0, \"features\": {\"0\": {\"effect\": 0.04193804872039156, \"value\": 0.06298807985101819}, \"1\": {\"effect\": -0.0958018783952887, \"value\": 0.4180716618176812}, \"2\": {\"effect\": 0.12207497871903716, \"value\": 0.4766403087096272}, \"3\": {\"effect\": -0.023689756808352197, \"value\": 0.37635489312825776}, \"4\": {\"effect\": -0.1107351803352959, \"value\": 0.11228261363945678}, \"5\": {\"effect\": 0.10569825899383675, \"value\": 0.28246426311645473}, \"6\": {\"effect\": -0.1673213477415886, \"value\": 0.02849195036492726}, \"7\": {\"effect\": -0.05431958746379778, \"value\": 0.2638211753433991}, \"8\": {\"effect\": 0.1858454208541485, \"value\": 0.3994564745052258}, \"9\": {\"effect\": 0.24432506300939208, \"value\": 0.0876632472058377}, \"10\": {\"effect\": 0.07849681336240913, \"value\": 0.32709383989253943}, \"11\": {\"effect\": -0.06789014325971954, \"value\": 0.12398406681518191}}}, {\"outValue\": 1.0, \"simIndex\": 15.0, \"features\": {\"0\": {\"effect\": 0.05363687530261632, \"value\": 0.02383685276341921}, \"1\": {\"effect\": -0.08260104328746724, \"value\": 0.5360272771124764}, \"2\": {\"effect\": 0.14581680923333254, \"value\": 0.5336365706718449}, \"3\": {\"effect\": -0.014191571605746384, \"value\": 0.2687631478441602}, \"4\": {\"effect\": -0.09366801405653402, \"value\": 0.09969351174898067}, \"5\": {\"effect\": 0.04654601647191706, \"value\": 0.28479246591746976}, \"6\": {\"effect\": -0.15147358235910835, \"value\": 0.011037270263356404}, \"7\": {\"effect\": 0.20486184948563949, \"value\": 0.12148018453981713}, \"8\": {\"effect\": -0.003056942487312947, \"value\": 0.31038460975330573}, \"9\": {\"effect\": 0.21960060472471432, \"value\": 0.028534011673206378}, \"10\": {\"effect\": 0.039079518535441254, \"value\": 0.38407172897336006}, \"11\": {\"effect\": -0.1059298303023195, \"value\": 0.06720307399854697}}}], \"plot_cmap\": \"RdBu\", \"ordering_keys\": null, \"ordering_keys_time_format\": null}),\n",
       "    document.getElementById('iEF1Z970LY4UND4OAZIQB')\n",
       "  );\n",
       "</script>"
      ],
      "text/plain": [
       "<IPython.core.display.HTML object>"
      ]
     },
     "execution_count": 72,
     "metadata": {},
     "output_type": "execute_result"
    }
   ],
   "source": [
    "shap_values = ex.shap_values(X_test_out)\n",
    "shap.force_plot(ex.expected_value, shap_values, X_test_out)"
   ]
  },
  {
   "cell_type": "code",
   "execution_count": 73,
   "metadata": {},
   "outputs": [],
   "source": [
    "def shap_plot(X, y, shap_values):\n",
    "\n",
    "    spdf = pd.DataFrame(shap_values[np.array(y) != 1,:], columns=X.columns)\n",
    "\n",
    "    spdf_ctrl = pd.DataFrame(spdf.sum(axis=0), columns=['CTRL'])\n",
    "\n",
    "    spdf_hcn = pd.DataFrame(shap_values[np.array(y) == 1,:], columns=X.columns)\n",
    "    spdf_hcn = pd.DataFrame(spdf_hcn.sum(axis=0), columns=['HCM'])\n",
    "\n",
    "    spdf = pd.concat([spdf_hcn, spdf_ctrl], axis=1)\n",
    "\n",
    "    x = spdf['CTRL']\n",
    "    y = spdf['HCM']\n",
    "\n",
    "    plt.figure(figsize=(13,13))\n",
    "    plt.scatter(x, y)\n",
    "    plt.axvline(0)\n",
    "    plt.axhline(0)\n",
    "    plt.xlabel('CTRL SHAPE value')\n",
    "    plt.ylabel('HCM SHAPE value')\n",
    "    for i, txt in enumerate(spdf.index):\n",
    "        plt.annotate(txt, (x[i], y[i]))\n",
    "\n",
    "    return(spdf)\n",
    "    #plt.savefig('./shape_by_gene.png', dpi = 300)"
   ]
  },
  {
   "cell_type": "code",
   "execution_count": 92,
   "metadata": {},
   "outputs": [
    {
     "data": {
      "application/vnd.jupyter.widget-view+json": {
       "model_id": "9070f64a62ac4a01bebbffc919c33c75",
       "version_major": 2,
       "version_minor": 0
      },
      "text/plain": [
       "  0%|          | 0/16 [00:00<?, ?it/s]"
      ]
     },
     "metadata": {},
     "output_type": "display_data"
    },
    {
     "name": "stderr",
     "output_type": "stream",
     "text": [
      "l1_reg=\"auto\" is deprecated and in the next version (v0.29) the behavior will change from a conditional use of AIC to simply \"num_features(10)\"!\n",
      "l1_reg=\"auto\" is deprecated and in the next version (v0.29) the behavior will change from a conditional use of AIC to simply \"num_features(10)\"!\n",
      "l1_reg=\"auto\" is deprecated and in the next version (v0.29) the behavior will change from a conditional use of AIC to simply \"num_features(10)\"!\n",
      "l1_reg=\"auto\" is deprecated and in the next version (v0.29) the behavior will change from a conditional use of AIC to simply \"num_features(10)\"!\n",
      "l1_reg=\"auto\" is deprecated and in the next version (v0.29) the behavior will change from a conditional use of AIC to simply \"num_features(10)\"!\n",
      "l1_reg=\"auto\" is deprecated and in the next version (v0.29) the behavior will change from a conditional use of AIC to simply \"num_features(10)\"!\n",
      "l1_reg=\"auto\" is deprecated and in the next version (v0.29) the behavior will change from a conditional use of AIC to simply \"num_features(10)\"!\n",
      "l1_reg=\"auto\" is deprecated and in the next version (v0.29) the behavior will change from a conditional use of AIC to simply \"num_features(10)\"!\n",
      "l1_reg=\"auto\" is deprecated and in the next version (v0.29) the behavior will change from a conditional use of AIC to simply \"num_features(10)\"!\n",
      "l1_reg=\"auto\" is deprecated and in the next version (v0.29) the behavior will change from a conditional use of AIC to simply \"num_features(10)\"!\n",
      "l1_reg=\"auto\" is deprecated and in the next version (v0.29) the behavior will change from a conditional use of AIC to simply \"num_features(10)\"!\n",
      "l1_reg=\"auto\" is deprecated and in the next version (v0.29) the behavior will change from a conditional use of AIC to simply \"num_features(10)\"!\n",
      "l1_reg=\"auto\" is deprecated and in the next version (v0.29) the behavior will change from a conditional use of AIC to simply \"num_features(10)\"!\n",
      "l1_reg=\"auto\" is deprecated and in the next version (v0.29) the behavior will change from a conditional use of AIC to simply \"num_features(10)\"!\n",
      "l1_reg=\"auto\" is deprecated and in the next version (v0.29) the behavior will change from a conditional use of AIC to simply \"num_features(10)\"!\n",
      "l1_reg=\"auto\" is deprecated and in the next version (v0.29) the behavior will change from a conditional use of AIC to simply \"num_features(10)\"!\n"
     ]
    },
    {
     "data": {
      "text/html": [
       "<div>\n",
       "<style scoped>\n",
       "    .dataframe tbody tr th:only-of-type {\n",
       "        vertical-align: middle;\n",
       "    }\n",
       "\n",
       "    .dataframe tbody tr th {\n",
       "        vertical-align: top;\n",
       "    }\n",
       "\n",
       "    .dataframe thead th {\n",
       "        text-align: right;\n",
       "    }\n",
       "</style>\n",
       "<table border=\"1\" class=\"dataframe\">\n",
       "  <thead>\n",
       "    <tr style=\"text-align: right;\">\n",
       "      <th></th>\n",
       "      <th>HCM</th>\n",
       "      <th>CTRL</th>\n",
       "    </tr>\n",
       "    <tr>\n",
       "      <th>ID_REF</th>\n",
       "      <th></th>\n",
       "      <th></th>\n",
       "    </tr>\n",
       "  </thead>\n",
       "  <tbody>\n",
       "    <tr>\n",
       "      <th>FCN3</th>\n",
       "      <td>0.230142</td>\n",
       "      <td>0.766463</td>\n",
       "    </tr>\n",
       "    <tr>\n",
       "      <th>MT1X</th>\n",
       "      <td>-0.141824</td>\n",
       "      <td>-0.135519</td>\n",
       "    </tr>\n",
       "    <tr>\n",
       "      <th>PROS1</th>\n",
       "      <td>0.789210</td>\n",
       "      <td>-4.831890</td>\n",
       "    </tr>\n",
       "    <tr>\n",
       "      <th>MYH6</th>\n",
       "      <td>-0.068446</td>\n",
       "      <td>-0.711849</td>\n",
       "    </tr>\n",
       "    <tr>\n",
       "      <th>CDC42EP4</th>\n",
       "      <td>-0.370166</td>\n",
       "      <td>-1.533376</td>\n",
       "    </tr>\n",
       "    <tr>\n",
       "      <th>ZFP36</th>\n",
       "      <td>0.243095</td>\n",
       "      <td>0.270213</td>\n",
       "    </tr>\n",
       "    <tr>\n",
       "      <th>PRKCD</th>\n",
       "      <td>-0.516368</td>\n",
       "      <td>-2.032647</td>\n",
       "    </tr>\n",
       "    <tr>\n",
       "      <th>LYVE1</th>\n",
       "      <td>0.326324</td>\n",
       "      <td>1.007529</td>\n",
       "    </tr>\n",
       "    <tr>\n",
       "      <th>CEBPD</th>\n",
       "      <td>0.193941</td>\n",
       "      <td>0.252659</td>\n",
       "    </tr>\n",
       "    <tr>\n",
       "      <th>MT1M</th>\n",
       "      <td>0.759182</td>\n",
       "      <td>0.615843</td>\n",
       "    </tr>\n",
       "    <tr>\n",
       "      <th>RASD1</th>\n",
       "      <td>0.139535</td>\n",
       "      <td>0.649717</td>\n",
       "    </tr>\n",
       "    <tr>\n",
       "      <th>S1PR3</th>\n",
       "      <td>-0.291521</td>\n",
       "      <td>-1.472313</td>\n",
       "    </tr>\n",
       "  </tbody>\n",
       "</table>\n",
       "</div>"
      ],
      "text/plain": [
       "               HCM      CTRL\n",
       "ID_REF                      \n",
       "FCN3      0.230142  0.766463\n",
       "MT1X     -0.141824 -0.135519\n",
       "PROS1     0.789210 -4.831890\n",
       "MYH6     -0.068446 -0.711849\n",
       "CDC42EP4 -0.370166 -1.533376\n",
       "ZFP36     0.243095  0.270213\n",
       "PRKCD    -0.516368 -2.032647\n",
       "LYVE1     0.326324  1.007529\n",
       "CEBPD     0.193941  0.252659\n",
       "MT1M      0.759182  0.615843\n",
       "RASD1     0.139535  0.649717\n",
       "S1PR3    -0.291521 -1.472313"
      ]
     },
     "execution_count": 92,
     "metadata": {},
     "output_type": "execute_result"
    },
    {
     "data": {
      "image/png": "[encoded data removed]",
      "text/plain": [
       "<Figure size 936x936 with 1 Axes>"
      ]
     },
     "metadata": {
      "needs_background": "light"
     },
     "output_type": "display_data"
    }
   ],
   "source": [
    "shap_values = ex.shap_values(X_test_out)\n",
    "shap_plot(X_test_out, y_test_out, shap_values)"
   ]
  },
  {
   "cell_type": "code",
   "execution_count": null,
   "metadata": {},
   "outputs": [],
   "source": []
  }
 ],
 "metadata": {
  "kernelspec": {
   "display_name": "Python 3",
   "language": "python",
   "name": "python3"
  },
  "language_info": {
   "codemirror_mode": {
    "name": "ipython",
    "version": 3
   },
   "file_extension": ".py",
   "mimetype": "text/x-python",
   "name": "python",
   "nbconvert_exporter": "python",
   "pygments_lexer": "ipython3",
   "version": "3.7.6"
  }
 },
 "nbformat": 4,
 "nbformat_minor": 4
}
