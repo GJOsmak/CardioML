{
 "cells": [
  {
   "cell_type": "code",
   "execution_count": 1,
   "metadata": {},
   "outputs": [],
   "source": [
    "##################################\n",
    "# Download, merging and annotation\n",
    "##################################"
   ]
  },
  {
   "cell_type": "code",
   "execution_count": 2,
   "metadata": {},
   "outputs": [],
   "source": [
    "import GEOparse\n",
    "import pandas as pd\n",
    "import numpy as np\n",
    "\n",
    "\n",
    "# для визуализации распределения семплов в пространстве признаков\n",
    "def plot_mds(X, target, colors = ['green', 'red'], labels = ['CTRL', 'HCM']):\n",
    "    scaler = StandardScaler()\n",
    "    X_scaled = scaler.fit_transform(X)\n",
    "    mds = MDS(2,random_state=0)\n",
    "    X_2d = mds.fit_transform(X_scaled)\n",
    "    \n",
    "    plt.rcParams['figure.figsize'] = [7, 7]\n",
    "    plt.rc('font', size=14)\n",
    "    for i in np.unique(target):\n",
    "        subset = X_2d[target == i]\n",
    "        x = [row[0] for row in subset]\n",
    "        y = [row[1] for row in subset]\n",
    "        plt.scatter(x, y, c=colors[i], label = labels[i])\n",
    "    plt.legend()\n",
    "    plt.show()"
   ]
  },
  {
   "cell_type": "code",
   "execution_count": 3,
   "metadata": {},
   "outputs": [
    {
     "name": "stderr",
     "output_type": "stream",
     "text": [
      "16-Aug-2021 21:49:45 DEBUG utils - Directory ./ already exists. Skipping.\n",
      "16-Aug-2021 21:49:45 INFO GEOparse - File already exist: using local version.\n",
      "16-Aug-2021 21:49:45 INFO GEOparse - Parsing ./GSE36961_family.soft.gz: \n",
      "16-Aug-2021 21:49:45 DEBUG GEOparse - DATABASE: GeoMiame\n",
      "16-Aug-2021 21:49:45 DEBUG GEOparse - SERIES: GSE36961\n",
      "16-Aug-2021 21:49:45 DEBUG GEOparse - PLATFORM: GPL15389\n",
      "16-Aug-2021 21:49:45 DEBUG GEOparse - SAMPLE: GSM907203\n",
      "16-Aug-2021 21:49:45 DEBUG GEOparse - SAMPLE: GSM907204\n",
      "16-Aug-2021 21:49:45 DEBUG GEOparse - SAMPLE: GSM907205\n",
      "16-Aug-2021 21:49:45 DEBUG GEOparse - SAMPLE: GSM907206\n",
      "16-Aug-2021 21:49:45 DEBUG GEOparse - SAMPLE: GSM907207\n",
      "16-Aug-2021 21:49:45 DEBUG GEOparse - SAMPLE: GSM907208\n",
      "16-Aug-2021 21:49:45 DEBUG GEOparse - SAMPLE: GSM907209\n",
      "16-Aug-2021 21:49:45 DEBUG GEOparse - SAMPLE: GSM907210\n",
      "16-Aug-2021 21:49:46 DEBUG GEOparse - SAMPLE: GSM907211\n",
      "16-Aug-2021 21:49:46 DEBUG GEOparse - SAMPLE: GSM907212\n",
      "16-Aug-2021 21:49:46 DEBUG GEOparse - SAMPLE: GSM907213\n",
      "16-Aug-2021 21:49:46 DEBUG GEOparse - SAMPLE: GSM907214\n",
      "16-Aug-2021 21:49:46 DEBUG GEOparse - SAMPLE: GSM907215\n",
      "16-Aug-2021 21:49:46 DEBUG GEOparse - SAMPLE: GSM907216\n",
      "16-Aug-2021 21:49:46 DEBUG GEOparse - SAMPLE: GSM907217\n",
      "16-Aug-2021 21:49:46 DEBUG GEOparse - SAMPLE: GSM907218\n",
      "16-Aug-2021 21:49:46 DEBUG GEOparse - SAMPLE: GSM907219\n",
      "16-Aug-2021 21:49:46 DEBUG GEOparse - SAMPLE: GSM907220\n",
      "16-Aug-2021 21:49:46 DEBUG GEOparse - SAMPLE: GSM907221\n",
      "16-Aug-2021 21:49:46 DEBUG GEOparse - SAMPLE: GSM907222\n",
      "16-Aug-2021 21:49:46 DEBUG GEOparse - SAMPLE: GSM907223\n",
      "16-Aug-2021 21:49:46 DEBUG GEOparse - SAMPLE: GSM907224\n",
      "16-Aug-2021 21:49:47 DEBUG GEOparse - SAMPLE: GSM907225\n",
      "16-Aug-2021 21:49:47 DEBUG GEOparse - SAMPLE: GSM907226\n",
      "16-Aug-2021 21:49:47 DEBUG GEOparse - SAMPLE: GSM907227\n",
      "16-Aug-2021 21:49:47 DEBUG GEOparse - SAMPLE: GSM907228\n",
      "16-Aug-2021 21:49:47 DEBUG GEOparse - SAMPLE: GSM907229\n",
      "16-Aug-2021 21:49:47 DEBUG GEOparse - SAMPLE: GSM907230\n",
      "16-Aug-2021 21:49:47 DEBUG GEOparse - SAMPLE: GSM907231\n",
      "16-Aug-2021 21:49:47 DEBUG GEOparse - SAMPLE: GSM907232\n",
      "16-Aug-2021 21:49:47 DEBUG GEOparse - SAMPLE: GSM907233\n",
      "16-Aug-2021 21:49:47 DEBUG GEOparse - SAMPLE: GSM907234\n",
      "16-Aug-2021 21:49:47 DEBUG GEOparse - SAMPLE: GSM907235\n",
      "16-Aug-2021 21:49:47 DEBUG GEOparse - SAMPLE: GSM907236\n",
      "16-Aug-2021 21:49:47 DEBUG GEOparse - SAMPLE: GSM907237\n",
      "16-Aug-2021 21:49:47 DEBUG GEOparse - SAMPLE: GSM907238\n",
      "16-Aug-2021 21:49:47 DEBUG GEOparse - SAMPLE: GSM907239\n",
      "16-Aug-2021 21:49:48 DEBUG GEOparse - SAMPLE: GSM907240\n",
      "16-Aug-2021 21:49:48 DEBUG GEOparse - SAMPLE: GSM907241\n",
      "16-Aug-2021 21:49:48 DEBUG GEOparse - SAMPLE: GSM907242\n",
      "16-Aug-2021 21:49:48 DEBUG GEOparse - SAMPLE: GSM907243\n",
      "16-Aug-2021 21:49:48 DEBUG GEOparse - SAMPLE: GSM907244\n",
      "16-Aug-2021 21:49:48 DEBUG GEOparse - SAMPLE: GSM907245\n",
      "16-Aug-2021 21:49:48 DEBUG GEOparse - SAMPLE: GSM907246\n",
      "16-Aug-2021 21:49:48 DEBUG GEOparse - SAMPLE: GSM907247\n",
      "16-Aug-2021 21:49:48 DEBUG GEOparse - SAMPLE: GSM907248\n",
      "16-Aug-2021 21:49:48 DEBUG GEOparse - SAMPLE: GSM907249\n",
      "16-Aug-2021 21:49:48 DEBUG GEOparse - SAMPLE: GSM907250\n",
      "16-Aug-2021 21:49:48 DEBUG GEOparse - SAMPLE: GSM907251\n",
      "16-Aug-2021 21:49:48 DEBUG GEOparse - SAMPLE: GSM907252\n",
      "16-Aug-2021 21:49:49 DEBUG GEOparse - SAMPLE: GSM907253\n",
      "16-Aug-2021 21:49:49 DEBUG GEOparse - SAMPLE: GSM907254\n",
      "16-Aug-2021 21:49:49 DEBUG GEOparse - SAMPLE: GSM907255\n",
      "16-Aug-2021 21:49:49 DEBUG GEOparse - SAMPLE: GSM907256\n",
      "16-Aug-2021 21:49:49 DEBUG GEOparse - SAMPLE: GSM907257\n",
      "16-Aug-2021 21:49:49 DEBUG GEOparse - SAMPLE: GSM907258\n",
      "16-Aug-2021 21:49:49 DEBUG GEOparse - SAMPLE: GSM907259\n",
      "16-Aug-2021 21:49:49 DEBUG GEOparse - SAMPLE: GSM907260\n",
      "16-Aug-2021 21:49:49 DEBUG GEOparse - SAMPLE: GSM907261\n",
      "16-Aug-2021 21:49:49 DEBUG GEOparse - SAMPLE: GSM907262\n",
      "16-Aug-2021 21:49:49 DEBUG GEOparse - SAMPLE: GSM907263\n",
      "16-Aug-2021 21:49:49 DEBUG GEOparse - SAMPLE: GSM907264\n",
      "16-Aug-2021 21:49:49 DEBUG GEOparse - SAMPLE: GSM907265\n",
      "16-Aug-2021 21:49:49 DEBUG GEOparse - SAMPLE: GSM907266\n",
      "16-Aug-2021 21:49:50 DEBUG GEOparse - SAMPLE: GSM907267\n",
      "16-Aug-2021 21:49:50 DEBUG GEOparse - SAMPLE: GSM907268\n",
      "16-Aug-2021 21:49:50 DEBUG GEOparse - SAMPLE: GSM907269\n",
      "16-Aug-2021 21:49:50 DEBUG GEOparse - SAMPLE: GSM907270\n",
      "16-Aug-2021 21:49:50 DEBUG GEOparse - SAMPLE: GSM907271\n",
      "16-Aug-2021 21:49:50 DEBUG GEOparse - SAMPLE: GSM907272\n",
      "16-Aug-2021 21:49:50 DEBUG GEOparse - SAMPLE: GSM907273\n",
      "16-Aug-2021 21:49:50 DEBUG GEOparse - SAMPLE: GSM907274\n",
      "16-Aug-2021 21:49:50 DEBUG GEOparse - SAMPLE: GSM907275\n",
      "16-Aug-2021 21:49:50 DEBUG GEOparse - SAMPLE: GSM907276\n",
      "16-Aug-2021 21:49:50 DEBUG GEOparse - SAMPLE: GSM907277\n",
      "16-Aug-2021 21:49:50 DEBUG GEOparse - SAMPLE: GSM907278\n",
      "16-Aug-2021 21:49:50 DEBUG GEOparse - SAMPLE: GSM907279\n",
      "16-Aug-2021 21:49:50 DEBUG GEOparse - SAMPLE: GSM907280\n",
      "16-Aug-2021 21:49:50 DEBUG GEOparse - SAMPLE: GSM907281\n",
      "16-Aug-2021 21:49:51 DEBUG GEOparse - SAMPLE: GSM907282\n",
      "16-Aug-2021 21:49:51 DEBUG GEOparse - SAMPLE: GSM907283\n",
      "16-Aug-2021 21:49:51 DEBUG GEOparse - SAMPLE: GSM907284\n",
      "16-Aug-2021 21:49:51 DEBUG GEOparse - SAMPLE: GSM907285\n",
      "16-Aug-2021 21:49:51 DEBUG GEOparse - SAMPLE: GSM907286\n",
      "16-Aug-2021 21:49:51 DEBUG GEOparse - SAMPLE: GSM907287\n",
      "16-Aug-2021 21:49:51 DEBUG GEOparse - SAMPLE: GSM907288\n",
      "16-Aug-2021 21:49:51 DEBUG GEOparse - SAMPLE: GSM907289\n",
      "16-Aug-2021 21:49:51 DEBUG GEOparse - SAMPLE: GSM907290\n",
      "16-Aug-2021 21:49:51 DEBUG GEOparse - SAMPLE: GSM907291\n",
      "16-Aug-2021 21:49:51 DEBUG GEOparse - SAMPLE: GSM907292\n",
      "16-Aug-2021 21:49:51 DEBUG GEOparse - SAMPLE: GSM907293\n",
      "16-Aug-2021 21:49:51 DEBUG GEOparse - SAMPLE: GSM907294\n",
      "16-Aug-2021 21:49:51 DEBUG GEOparse - SAMPLE: GSM907295\n",
      "16-Aug-2021 21:49:52 DEBUG GEOparse - SAMPLE: GSM907296\n",
      "16-Aug-2021 21:49:52 DEBUG GEOparse - SAMPLE: GSM907297\n",
      "16-Aug-2021 21:49:52 DEBUG GEOparse - SAMPLE: GSM907298\n",
      "16-Aug-2021 21:49:52 DEBUG GEOparse - SAMPLE: GSM907299\n",
      "16-Aug-2021 21:49:52 DEBUG GEOparse - SAMPLE: GSM907300\n",
      "16-Aug-2021 21:49:52 DEBUG GEOparse - SAMPLE: GSM907301\n",
      "16-Aug-2021 21:49:52 DEBUG GEOparse - SAMPLE: GSM907302\n",
      "16-Aug-2021 21:49:52 DEBUG GEOparse - SAMPLE: GSM907303\n",
      "16-Aug-2021 21:49:52 DEBUG GEOparse - SAMPLE: GSM907304\n",
      "16-Aug-2021 21:49:52 DEBUG GEOparse - SAMPLE: GSM907305\n",
      "16-Aug-2021 21:49:52 DEBUG GEOparse - SAMPLE: GSM907306\n",
      "16-Aug-2021 21:49:52 DEBUG GEOparse - SAMPLE: GSM907307\n",
      "16-Aug-2021 21:49:52 DEBUG GEOparse - SAMPLE: GSM907308\n",
      "16-Aug-2021 21:49:52 DEBUG GEOparse - SAMPLE: GSM907309\n",
      "16-Aug-2021 21:49:53 DEBUG GEOparse - SAMPLE: GSM907310\n",
      "16-Aug-2021 21:49:53 DEBUG GEOparse - SAMPLE: GSM907311\n",
      "16-Aug-2021 21:49:53 DEBUG GEOparse - SAMPLE: GSM907312\n",
      "16-Aug-2021 21:49:53 DEBUG GEOparse - SAMPLE: GSM907313\n",
      "16-Aug-2021 21:49:53 DEBUG GEOparse - SAMPLE: GSM907314\n",
      "16-Aug-2021 21:49:53 DEBUG GEOparse - SAMPLE: GSM907315\n",
      "16-Aug-2021 21:49:53 DEBUG GEOparse - SAMPLE: GSM907316\n",
      "16-Aug-2021 21:49:53 DEBUG GEOparse - SAMPLE: GSM907317\n",
      "16-Aug-2021 21:49:53 DEBUG GEOparse - SAMPLE: GSM907318\n",
      "16-Aug-2021 21:49:53 DEBUG GEOparse - SAMPLE: GSM907319\n",
      "16-Aug-2021 21:49:53 DEBUG GEOparse - SAMPLE: GSM907320\n",
      "16-Aug-2021 21:49:53 DEBUG GEOparse - SAMPLE: GSM907321\n",
      "16-Aug-2021 21:49:53 DEBUG GEOparse - SAMPLE: GSM907322\n",
      "16-Aug-2021 21:49:53 DEBUG GEOparse - SAMPLE: GSM907323\n",
      "16-Aug-2021 21:49:54 DEBUG GEOparse - SAMPLE: GSM907324\n",
      "16-Aug-2021 21:49:54 DEBUG GEOparse - SAMPLE: GSM907325\n",
      "16-Aug-2021 21:49:54 DEBUG GEOparse - SAMPLE: GSM907326\n",
      "16-Aug-2021 21:49:54 DEBUG GEOparse - SAMPLE: GSM907327\n",
      "16-Aug-2021 21:49:54 DEBUG GEOparse - SAMPLE: GSM907328\n",
      "16-Aug-2021 21:49:54 DEBUG GEOparse - SAMPLE: GSM907329\n",
      "16-Aug-2021 21:49:54 DEBUG GEOparse - SAMPLE: GSM907330\n",
      "16-Aug-2021 21:49:54 DEBUG GEOparse - SAMPLE: GSM907331\n",
      "16-Aug-2021 21:49:54 DEBUG GEOparse - SAMPLE: GSM907332\n",
      "16-Aug-2021 21:49:54 DEBUG GEOparse - SAMPLE: GSM907333\n",
      "16-Aug-2021 21:49:54 DEBUG GEOparse - SAMPLE: GSM907334\n",
      "16-Aug-2021 21:49:54 DEBUG GEOparse - SAMPLE: GSM907335\n",
      "16-Aug-2021 21:49:54 DEBUG GEOparse - SAMPLE: GSM907336\n",
      "16-Aug-2021 21:49:54 DEBUG GEOparse - SAMPLE: GSM907337\n",
      "16-Aug-2021 21:49:55 DEBUG GEOparse - SAMPLE: GSM907338\n",
      "16-Aug-2021 21:49:55 DEBUG GEOparse - SAMPLE: GSM907339\n",
      "16-Aug-2021 21:49:55 DEBUG GEOparse - SAMPLE: GSM907340\n",
      "16-Aug-2021 21:49:55 DEBUG GEOparse - SAMPLE: GSM907341\n",
      "16-Aug-2021 21:49:55 DEBUG GEOparse - SAMPLE: GSM907342\n"
     ]
    },
    {
     "name": "stderr",
     "output_type": "stream",
     "text": [
      "16-Aug-2021 21:49:55 DEBUG GEOparse - SAMPLE: GSM907343\n",
      "16-Aug-2021 21:49:55 DEBUG GEOparse - SAMPLE: GSM907344\n",
      "16-Aug-2021 21:49:55 DEBUG GEOparse - SAMPLE: GSM907345\n",
      "16-Aug-2021 21:49:55 DEBUG GEOparse - SAMPLE: GSM907346\n",
      "16-Aug-2021 21:49:55 DEBUG GEOparse - SAMPLE: GSM907347\n"
     ]
    }
   ],
   "source": [
    "dataset_name = \"GSE36961\" # набор на 145 семплов\n",
    "\n",
    "gse = GEOparse.get_GEO(dataset_name)\n",
    "data_train = gse.pivot_samples('VALUE')\n",
    "\n",
    "# вытаскиваем лейблы семплов\n",
    "\n",
    "experiments = {}\n",
    "for i, (idx, row) in enumerate(gse.phenotype_data.iterrows()):\n",
    "    tmp = {}\n",
    "    tmp[\"Experiment\"] = idx\n",
    "    tmp['platform_id'] = row['platform_id']\n",
    "    tmp['status'] = 'HCM' if 'HCM' in row['source_name_ch1'] else 'CTRL'\n",
    "    experiments[i] = tmp\n",
    "experiments = pd.DataFrame(experiments).T\n",
    "\n",
    "gsm_to_stat = dict(zip(experiments['Experiment'], experiments['status']))\n",
    "data_train.columns = [gsm_to_stat[i] for i in data_train.columns]"
   ]
  },
  {
   "cell_type": "code",
   "execution_count": 4,
   "metadata": {},
   "outputs": [
    {
     "name": "stderr",
     "output_type": "stream",
     "text": [
      "16-Aug-2021 21:49:57 DEBUG utils - Directory ./ already exists. Skipping.\n",
      "16-Aug-2021 21:49:57 INFO GEOparse - File already exist: using local version.\n",
      "16-Aug-2021 21:49:57 INFO GEOparse - Parsing ./GSE1145_family.soft.gz: \n",
      "16-Aug-2021 21:49:57 DEBUG GEOparse - DATABASE: GeoMiame\n",
      "16-Aug-2021 21:49:57 DEBUG GEOparse - SERIES: GSE1145\n",
      "16-Aug-2021 21:49:57 DEBUG GEOparse - PLATFORM: GPL570\n",
      "/opt/anaconda3/lib/python3.7/site-packages/GEOparse/GEOparse.py:104: DtypeWarning: Columns (2) have mixed types. Specify dtype option on import or set low_memory=False.\n",
      "  return parse_GSE(filepath)\n",
      "16-Aug-2021 21:49:59 DEBUG GEOparse - PLATFORM: GPL8300\n",
      "16-Aug-2021 21:49:59 DEBUG GEOparse - SAMPLE: GSM18422\n",
      "16-Aug-2021 21:49:59 DEBUG GEOparse - SAMPLE: GSM18423\n",
      "16-Aug-2021 21:49:59 DEBUG GEOparse - SAMPLE: GSM18424\n",
      "16-Aug-2021 21:49:59 DEBUG GEOparse - SAMPLE: GSM18425\n",
      "16-Aug-2021 21:49:59 DEBUG GEOparse - SAMPLE: GSM18426\n",
      "16-Aug-2021 21:50:00 DEBUG GEOparse - SAMPLE: GSM18427\n",
      "16-Aug-2021 21:50:00 DEBUG GEOparse - SAMPLE: GSM18428\n",
      "16-Aug-2021 21:50:00 DEBUG GEOparse - SAMPLE: GSM18429\n",
      "16-Aug-2021 21:50:00 DEBUG GEOparse - SAMPLE: GSM18430\n",
      "16-Aug-2021 21:50:00 DEBUG GEOparse - SAMPLE: GSM18431\n",
      "16-Aug-2021 21:50:00 DEBUG GEOparse - SAMPLE: GSM18432\n",
      "16-Aug-2021 21:50:00 DEBUG GEOparse - SAMPLE: GSM18433\n",
      "16-Aug-2021 21:50:00 DEBUG GEOparse - SAMPLE: GSM18434\n",
      "16-Aug-2021 21:50:00 DEBUG GEOparse - SAMPLE: GSM18435\n",
      "16-Aug-2021 21:50:01 DEBUG GEOparse - SAMPLE: GSM18436\n",
      "16-Aug-2021 21:50:01 DEBUG GEOparse - SAMPLE: GSM18442\n",
      "16-Aug-2021 21:50:01 DEBUG GEOparse - SAMPLE: GSM18443\n",
      "16-Aug-2021 21:50:01 DEBUG GEOparse - SAMPLE: GSM18444\n",
      "16-Aug-2021 21:50:01 DEBUG GEOparse - SAMPLE: GSM18445\n",
      "16-Aug-2021 21:50:01 DEBUG GEOparse - SAMPLE: GSM18446\n",
      "16-Aug-2021 21:50:01 DEBUG GEOparse - SAMPLE: GSM18447\n",
      "16-Aug-2021 21:50:01 DEBUG GEOparse - SAMPLE: GSM18448\n",
      "16-Aug-2021 21:50:01 DEBUG GEOparse - SAMPLE: GSM18449\n",
      "16-Aug-2021 21:50:01 DEBUG GEOparse - SAMPLE: GSM18450\n",
      "16-Aug-2021 21:50:02 DEBUG GEOparse - SAMPLE: GSM18451\n",
      "16-Aug-2021 21:50:02 DEBUG GEOparse - SAMPLE: GSM18452\n",
      "16-Aug-2021 21:50:02 DEBUG GEOparse - SAMPLE: GSM18477\n",
      "16-Aug-2021 21:50:02 DEBUG GEOparse - SAMPLE: GSM18478\n",
      "16-Aug-2021 21:50:02 DEBUG GEOparse - SAMPLE: GSM18479\n",
      "16-Aug-2021 21:50:02 DEBUG GEOparse - SAMPLE: GSM18480\n",
      "16-Aug-2021 21:50:02 DEBUG GEOparse - SAMPLE: GSM18481\n",
      "16-Aug-2021 21:50:02 DEBUG GEOparse - SAMPLE: GSM18482\n",
      "16-Aug-2021 21:50:02 DEBUG GEOparse - SAMPLE: GSM18483\n",
      "16-Aug-2021 21:50:02 DEBUG GEOparse - SAMPLE: GSM18484\n",
      "16-Aug-2021 21:50:03 DEBUG GEOparse - SAMPLE: GSM18485\n",
      "16-Aug-2021 21:50:03 DEBUG GEOparse - SAMPLE: GSM18486\n",
      "16-Aug-2021 21:50:03 DEBUG GEOparse - SAMPLE: GSM18487\n",
      "16-Aug-2021 21:50:03 DEBUG GEOparse - SAMPLE: GSM25784\n",
      "16-Aug-2021 21:50:03 DEBUG GEOparse - SAMPLE: GSM25785\n",
      "16-Aug-2021 21:50:03 DEBUG GEOparse - SAMPLE: GSM25786\n",
      "16-Aug-2021 21:50:03 DEBUG GEOparse - SAMPLE: GSM25787\n",
      "16-Aug-2021 21:50:03 DEBUG GEOparse - SAMPLE: GSM25788\n",
      "16-Aug-2021 21:50:03 DEBUG GEOparse - SAMPLE: GSM25789\n",
      "16-Aug-2021 21:50:03 DEBUG GEOparse - SAMPLE: GSM25790\n",
      "16-Aug-2021 21:50:03 DEBUG GEOparse - SAMPLE: GSM25791\n",
      "16-Aug-2021 21:50:03 DEBUG GEOparse - SAMPLE: GSM25792\n",
      "16-Aug-2021 21:50:03 DEBUG GEOparse - SAMPLE: GSM25793\n",
      "16-Aug-2021 21:50:03 DEBUG GEOparse - SAMPLE: GSM25794\n",
      "16-Aug-2021 21:50:03 DEBUG GEOparse - SAMPLE: GSM25795\n",
      "16-Aug-2021 21:50:03 DEBUG GEOparse - SAMPLE: GSM25796\n",
      "16-Aug-2021 21:50:03 DEBUG GEOparse - SAMPLE: GSM25797\n",
      "16-Aug-2021 21:50:03 DEBUG GEOparse - SAMPLE: GSM25798\n",
      "16-Aug-2021 21:50:03 DEBUG GEOparse - SAMPLE: GSM25799\n",
      "16-Aug-2021 21:50:03 DEBUG GEOparse - SAMPLE: GSM25800\n",
      "16-Aug-2021 21:50:03 DEBUG GEOparse - SAMPLE: GSM25801\n",
      "16-Aug-2021 21:50:03 DEBUG GEOparse - SAMPLE: GSM25802\n",
      "16-Aug-2021 21:50:04 DEBUG GEOparse - SAMPLE: GSM25803\n",
      "16-Aug-2021 21:50:04 DEBUG GEOparse - SAMPLE: GSM25804\n",
      "16-Aug-2021 21:50:04 DEBUG GEOparse - SAMPLE: GSM25805\n",
      "16-Aug-2021 21:50:04 DEBUG GEOparse - SAMPLE: GSM25806\n",
      "16-Aug-2021 21:50:04 DEBUG GEOparse - SAMPLE: GSM25807\n",
      "16-Aug-2021 21:50:04 DEBUG GEOparse - SAMPLE: GSM25808\n",
      "16-Aug-2021 21:50:04 DEBUG GEOparse - SAMPLE: GSM25809\n",
      "16-Aug-2021 21:50:04 DEBUG GEOparse - SAMPLE: GSM25810\n",
      "16-Aug-2021 21:50:04 DEBUG GEOparse - SAMPLE: GSM25811\n",
      "16-Aug-2021 21:50:05 DEBUG GEOparse - SAMPLE: GSM25812\n",
      "16-Aug-2021 21:50:05 DEBUG GEOparse - SAMPLE: GSM25813\n",
      "16-Aug-2021 21:50:05 DEBUG GEOparse - SAMPLE: GSM25814\n",
      "16-Aug-2021 21:50:05 DEBUG GEOparse - SAMPLE: GSM25815\n",
      "16-Aug-2021 21:50:05 DEBUG GEOparse - SAMPLE: GSM25816\n",
      "16-Aug-2021 21:50:05 DEBUG GEOparse - SAMPLE: GSM25817\n",
      "16-Aug-2021 21:50:05 DEBUG GEOparse - SAMPLE: GSM25818\n",
      "16-Aug-2021 21:50:05 DEBUG GEOparse - SAMPLE: GSM25819\n",
      "16-Aug-2021 21:50:05 DEBUG GEOparse - SAMPLE: GSM25820\n",
      "16-Aug-2021 21:50:05 DEBUG GEOparse - SAMPLE: GSM25821\n",
      "16-Aug-2021 21:50:06 DEBUG GEOparse - SAMPLE: GSM25822\n",
      "16-Aug-2021 21:50:06 DEBUG GEOparse - SAMPLE: GSM25823\n",
      "16-Aug-2021 21:50:06 DEBUG GEOparse - SAMPLE: GSM25825\n",
      "16-Aug-2021 21:50:06 DEBUG GEOparse - SAMPLE: GSM25826\n",
      "16-Aug-2021 21:50:06 DEBUG GEOparse - SAMPLE: GSM25827\n",
      "16-Aug-2021 21:50:06 DEBUG GEOparse - SAMPLE: GSM25828\n",
      "16-Aug-2021 21:50:06 DEBUG GEOparse - SAMPLE: GSM25829\n",
      "16-Aug-2021 21:50:06 DEBUG GEOparse - SAMPLE: GSM25830\n",
      "16-Aug-2021 21:50:06 DEBUG GEOparse - SAMPLE: GSM25831\n",
      "16-Aug-2021 21:50:06 DEBUG GEOparse - SAMPLE: GSM25832\n",
      "16-Aug-2021 21:50:07 DEBUG GEOparse - SAMPLE: GSM25833\n",
      "16-Aug-2021 21:50:07 DEBUG GEOparse - SAMPLE: GSM25834\n",
      "16-Aug-2021 21:50:07 DEBUG GEOparse - SAMPLE: GSM25835\n",
      "16-Aug-2021 21:50:07 DEBUG GEOparse - SAMPLE: GSM25836\n",
      "16-Aug-2021 21:50:07 DEBUG GEOparse - SAMPLE: GSM25837\n",
      "16-Aug-2021 21:50:07 DEBUG GEOparse - SAMPLE: GSM25838\n",
      "16-Aug-2021 21:50:07 DEBUG GEOparse - SAMPLE: GSM25839\n",
      "16-Aug-2021 21:50:07 DEBUG GEOparse - SAMPLE: GSM25840\n",
      "16-Aug-2021 21:50:07 DEBUG GEOparse - SAMPLE: GSM25841\n",
      "16-Aug-2021 21:50:08 DEBUG GEOparse - SAMPLE: GSM25842\n",
      "16-Aug-2021 21:50:08 DEBUG GEOparse - SAMPLE: GSM25843\n",
      "16-Aug-2021 21:50:08 DEBUG GEOparse - SAMPLE: GSM25844\n",
      "16-Aug-2021 21:50:08 DEBUG GEOparse - SAMPLE: GSM25845\n",
      "16-Aug-2021 21:50:08 DEBUG GEOparse - SAMPLE: GSM25846\n",
      "16-Aug-2021 21:50:08 DEBUG GEOparse - SAMPLE: GSM25847\n",
      "16-Aug-2021 21:50:08 DEBUG GEOparse - SAMPLE: GSM25848\n",
      "16-Aug-2021 21:50:08 DEBUG GEOparse - SAMPLE: GSM25849\n",
      "16-Aug-2021 21:50:08 DEBUG GEOparse - SAMPLE: GSM25850\n",
      "16-Aug-2021 21:50:08 DEBUG GEOparse - SAMPLE: GSM25851\n",
      "16-Aug-2021 21:50:09 DEBUG GEOparse - SAMPLE: GSM25852\n",
      "16-Aug-2021 21:50:09 DEBUG GEOparse - SAMPLE: GSM25853\n",
      "16-Aug-2021 21:50:09 DEBUG GEOparse - SAMPLE: GSM25854\n",
      "/opt/anaconda3/lib/python3.7/site-packages/ipykernel_launcher.py:28: UserWarning: Boolean Series key will be reindexed to match DataFrame index.\n"
     ]
    }
   ],
   "source": [
    "dataset_name = \"GSE1145\"\n",
    "\n",
    "gse = GEOparse.get_GEO(dataset_name)\n",
    "data_test = gse.pivot_samples('VALUE')\n",
    "data_test.head()\n",
    "\n",
    "# вытаскиваем лейблы семплов\n",
    "\n",
    "def status_extr(row):\n",
    "    if 'N' in row['title']:\n",
    "        return 'CTRL'\n",
    "    elif 'hypertrophic cardiomyopathy' in row['description'].split('Keywords = ')[1]:\n",
    "        return 'HCM'\n",
    "    else:\n",
    "        return 9999\n",
    "\n",
    "experiments = {}\n",
    "for i, (idx, row) in enumerate(gse.phenotype_data.iterrows()):\n",
    "    tmp = {}\n",
    "    tmp['title'] = row['title'][3:]\n",
    "    tmp[\"Experiment\"] = idx\n",
    "    tmp['platform_id'] = row['platform_id']\n",
    "    tmp['description'] = row['description'].split('Keywords = ')[1]\n",
    "    tmp['status'] = status_extr(row)\n",
    "    experiments[i] = tmp\n",
    "experiments = pd.DataFrame(experiments).T\n",
    "\n",
    "tmp_exp = experiments[experiments['status'] != 9999][experiments['platform_id'] == 'GPL570']\n",
    "\n",
    "data_test = data_test.filter(tmp_exp['Experiment'])    #отбираем ту часть эксперимента, которая нам нужна, сделанная на GPL570. \n",
    "                                                    #Другая часть - исследование экспрессии микроРНК\n",
    "gsm_to_stat = dict(zip(tmp_exp['Experiment'], tmp_exp['status']))\n",
    "data_test.columns = [gsm_to_stat[i] for i in data_test.columns]"
   ]
  },
  {
   "cell_type": "code",
   "execution_count": 5,
   "metadata": {},
   "outputs": [],
   "source": [
    "# data_test в качестве индексов содержит probeset id, здесь перегоняем их в Gene Symbol \n",
    "\n",
    "data_test['index'] = data_test.index\n",
    "\n",
    "# annotate with GPL\n",
    "data_test = data_test.reset_index().merge(gse.gpls['GPL570'].table[[\"ID\", \"Gene Symbol\"]],\n",
    "                                left_on='index', right_on=\"ID\").set_index('index')\n",
    "del data_test[\"ID\"]\n",
    "# remove probes without ENTREZ\n",
    "data_test = data_test.dropna(subset=['Gene Symbol'])\n",
    "# remove probes with more than one gene assigned\n",
    "data_test = data_test[~data_test['Gene Symbol'].str.contains(\"///\")]\n",
    "# for each gene average LFC over probes\n",
    "data_test = data_test.groupby('Gene Symbol').median()"
   ]
  },
  {
   "cell_type": "code",
   "execution_count": 6,
   "metadata": {},
   "outputs": [
    {
     "name": "stdout",
     "output_type": "stream",
     "text": [
      "test: (21655, 16)\n",
      "train: (37846, 145)\n",
      "\n",
      "test: (14830, 16)\n",
      "train: (14830, 145)\n"
     ]
    }
   ],
   "source": [
    "print('test:', data_test.shape)\n",
    "print('train:', data_train.shape)\n",
    "\n",
    "# отбираем те гены, которые есть в обоих наборах\n",
    "set_test = set(data_test.index)\n",
    "gene_universe = set_test.intersection(data_train.index)\n",
    "\n",
    "data_train = data_train.filter(gene_universe, axis=0)\n",
    "data_test = data_test.filter(gene_universe, axis=0)\n",
    "\n",
    "print()\n",
    "print('test:', data_test.shape)\n",
    "print('train:', data_train.shape)"
   ]
  },
  {
   "cell_type": "code",
   "execution_count": 7,
   "metadata": {},
   "outputs": [],
   "source": [
    "class Data(object): \n",
    "    def __init__(self):\n",
    "        pass\n",
    "    \n",
    "Data.X = Data()\n",
    "Data.X.train = data_train\n",
    "Data.X.test = data_test\n",
    "Data.y = Data()\n",
    "Data.y.train = list(map(int, Data.X.train.columns == 'HCM'))\n",
    "Data.y.test = list(map(int, Data.X.test.columns == 'HCM'))"
   ]
  },
  {
   "cell_type": "code",
   "execution_count": 49,
   "metadata": {},
   "outputs": [],
   "source": [
    "#################################\n",
    "# Feature selection\n",
    "#################################"
   ]
  },
  {
   "cell_type": "code",
   "execution_count": null,
   "metadata": {},
   "outputs": [],
   "source": [
    "\"\"\"\n",
    "Главная идея:\n",
    "\n",
    "Выборка маленькая, поэтому не будем избегать влияния случайности, например фиксируя random_state, а будем пытаться эту случайность оседлать.\n",
    "\n",
    "Как будем отбирать фичи?\n",
    "\n",
    "1) Фичи будем отбирать на основе лог.регрессии.\n",
    "        а) подберем коэффициент L1-регуляризации\n",
    "        б) будем обучать 1000 моделей на бутстрепленных из X_train данных\n",
    "        в) фичи, которые попали в модель, которая хоть как-то работает (coef > 0) хоть в одной работающей (roc-auc > 0.7) моделе, будем сохранять в словарик\n",
    "\n",
    "2) Отобранные фичи упорядочим по их ценности, за которую примем произведение roc-auc модели, из которой пришла фича, coef и количества моделей, в которые фича была включена.\n",
    "                                            идея: чем в большее число хорошо работающих моделей включается фича - тем она ценнее\n",
    "\n",
    "3) Финально выберем какую-то долю из тех фичей, которые входят в топ-20 фичей упорядоченного списка\n",
    "\n",
    "\"\"\""
   ]
  },
  {
   "cell_type": "code",
   "execution_count": 8,
   "metadata": {},
   "outputs": [],
   "source": [
    "import pandas as pd\n",
    "import numpy as np\n",
    "from sklearn.model_selection import train_test_split, cross_val_score, GridSearchCV, RandomizedSearchCV\n",
    "from sklearn import metrics, linear_model, model_selection\n",
    "from sklearn.preprocessing import StandardScaler\n",
    "import matplotlib.pyplot as plt\n",
    "import shap\n",
    "import random\n",
    "from sklearn.manifold import MDS\n",
    "from collections import Counter\n",
    "from random import choices\n",
    "from itertools import compress\n",
    "\n",
    "roc_auc_scorer = metrics.make_scorer(metrics.roc_auc_score)\n",
    "scaler = StandardScaler()"
   ]
  },
  {
   "cell_type": "code",
   "execution_count": 9,
   "metadata": {},
   "outputs": [],
   "source": [
    "# train test split and scaling\n",
    "\n",
    "X_train, X_test, y_train, y_test = train_test_split(Data.X.train.transpose(), Data.y.train, test_size=0.2, random_state=42)\n",
    "X_train = scaler.fit_transform(X_train)\n",
    "X_test = scaler.transform(X_test)\n",
    "\n",
    "# возвращаем имена фичей\n",
    "X_train = pd.DataFrame(X_train, columns=Data.X.train.index)\n",
    "X_test = pd.DataFrame(X_test, columns=Data.X.train.index)"
   ]
  },
  {
   "cell_type": "code",
   "execution_count": 10,
   "metadata": {},
   "outputs": [],
   "source": [
    "C = np.array([0.2, 0.1, 0.05, 0.04, 0.03, 0.02, 0.01])"
   ]
  },
  {
   "cell_type": "code",
   "execution_count": 64,
   "metadata": {},
   "outputs": [
    {
     "name": "stdout",
     "output_type": "stream",
     "text": [
      "0\n",
      "1\n",
      "2\n",
      "3\n",
      "4\n",
      "5\n",
      "6\n",
      "7\n",
      "8\n",
      "9\n"
     ]
    },
    {
     "data": {
      "text/html": [
       "[<matplotlib.lines.Line2D object at 0x7fcb00b3a350>]"
      ],
      "text/plain": [
       "[<matplotlib.lines.Line2D at 0x7fcb00b3a350>]"
      ]
     },
     "execution_count": 64,
     "metadata": {},
     "output_type": "execute_result"
    },
    {
     "data": {
      "image/png": "[encoded data removed]",
      "text/plain": [
       "<Figure size 432x288 with 1 Axes>"
      ]
     },
     "metadata": {
      "needs_background": "light"
     },
     "output_type": "display_data"
    }
   ],
   "source": [
    "# Подбираем коэффициент регуляризации. Выбираем тот, после которого всё качество идет по п*зде\n",
    "\n",
    "result_df_train = pd.DataFrame()\n",
    "result_df_test = pd.DataFrame()\n",
    "\n",
    "\n",
    "# 10 раз шатаем модель по разным random_state, потом усредняем по смотрим на результат по коэффициентам\n",
    "\n",
    "for a in range(0,10):\n",
    "    print(a)\n",
    "    random_state = random.randint(1,100)\n",
    "    roc_auc_train = list()\n",
    "    roc_auc_test = list()\n",
    "    for i in C:\n",
    "        linear_regressor = linear_model.LogisticRegression(penalty='l1', C=i, solver='liblinear', random_state=random_state)\n",
    "        linear_regressor.fit(X_train, y_train)\n",
    "        roc_auc_train.append(metrics.roc_auc_score(y_train, linear_regressor.predict(X_train)))\n",
    "        roc_auc_test.append(metrics.roc_auc_score(y_test, linear_regressor.predict(X_test)))\n",
    "    result_df_train[a] = roc_auc_train\n",
    "    result_df_test[a] = roc_auc_test\n",
    "\n",
    "plt.plot(result_df_train.apply(np.mean, axis=1))\n",
    "plt.plot(result_df_test.apply(np.mean, axis=1))"
   ]
  },
  {
   "cell_type": "code",
   "execution_count": 11,
   "metadata": {},
   "outputs": [],
   "source": [
    "class FeatureExtraction(object):\n",
    "    \n",
    "    \"\"\"\n",
    "    Класс для экстракции фичей. Главная идея не фиксировать случайность, а оседлать её :)\n",
    "    \n",
    "    \"\"\"\n",
    "    \n",
    "    \n",
    "    def __init__(self, ):\n",
    "        pass\n",
    "        \n",
    "    def fit(self, n_iter, X_train, y_train, X_test, y_test, C=0.03):\n",
    "        \n",
    "        \"\"\"\n",
    "        Будем n_iter раз бутстрепить сбалансированную train выборку из X_train.\n",
    "        Обучаем лог.рег. с L1-решуляризацией, с коэффициентом как мы отобрали выше.\n",
    "        Тестим на X_test, значение добавляем в roc_auc_list\n",
    "        \n",
    "        Если на X_test модель работает круче 0.7, то: \n",
    "            1) ненулевые фичи модели добавляем в словарик отобранных фичей feature_dict\n",
    "            2) обновляем число фичей в перменной len_best_feature = len(feature_dict.keys())\n",
    "        Если нет, то:\n",
    "            3) дублируем последнее значение в len_best_feature, т.к. число фичей не изменилось\n",
    "        \"\"\"\n",
    "        \n",
    "        len_best_feature = [0] # заводим лист, в котором будем отслеживать изменение количества фичей\n",
    "        roc_auc_list = list() # аналогично, отслеживаем как меняется roc-auc, так для интереса\n",
    "        feature_dict = dict() # # словарь \"ген: log.reg.coef\"\n",
    "        \n",
    "        for i in range(0, n_iter):\n",
    "\n",
    "            random_state = random.randint(0, 500) # явным образом шатаем рандомстейт\n",
    "\n",
    "            # чтобы получить сбаланнсированную выборку, бутстрепим отдельно семплы из контроля и из опыта\n",
    "\n",
    "            mask = np.array(y_train) == 0\n",
    "\n",
    "            CTRL_rows = list(compress(range(0, len(mask)), mask))\n",
    "            HCM_rows = list(compress(range(0, len(mask)), mask == False))\n",
    "\n",
    "            _HCM_rows = choices(HCM_rows, k=50) # бутстрепим номера строк из группы больных\n",
    "            _CTRL_rows = choices(CTRL_rows, k=50) # бутстрепим номера строк из группы здоровых\n",
    "\n",
    "            # объединяем это всё дело обратно\n",
    "\n",
    "            _X_train = pd.DataFrame(X_train).iloc[_HCM_rows + _CTRL_rows,:]\n",
    "            _y_train = np.array(y_train)[_HCM_rows + _CTRL_rows]\n",
    "\n",
    "            # обучаем лог.рег. с ранее отобранным коэффициентом регуляризации\n",
    "\n",
    "            linear_regressor = linear_model.LogisticRegression(penalty='l1', C=C, solver='liblinear', \n",
    "                                                               random_state=random_state)\n",
    "            linear_regressor.fit(_X_train, _y_train)\n",
    "\n",
    "            # тестим\n",
    "\n",
    "            roc_auc = metrics.roc_auc_score(y_score=linear_regressor.predict(X_test), y_true=y_test)\n",
    "            roc_auc_list.append(roc_auc)\n",
    "\n",
    "            # далее отбираем фичи из моделей, которые хоть как-то работают (roc_auc > 0.7)\n",
    "\n",
    "            if roc_auc > 0.7:\n",
    "                # отбираем смысловые фичи\n",
    "                mask = linear_regressor.coef_ != 0 \n",
    "                genes = X_train.columns[mask[0]]\n",
    "                values = linear_regressor.coef_[mask]\n",
    "\n",
    "                _feature_dict = dict(zip(genes, abs(values)*roc_auc)) #делаем временный словарь \"ген: его ценность\"\n",
    "\n",
    "                # обнавляем глобальный словарь фичей\n",
    "                for gene, values in _feature_dict.items():\n",
    "                    if gene in feature_dict:\n",
    "                        feature_dict[gene].append(values)\n",
    "                    else:\n",
    "                        feature_dict[gene] = [values]\n",
    "\n",
    "                len_best_feature.append(len(feature_dict.keys()))\n",
    "            \n",
    "            else:\n",
    "                # если модель была говёной, то просто дублируем предыдущее значение. Ну, число фичей то не изменилось :)\n",
    "                len_best_feature.append(len_best_feature[-1]) \n",
    "        \n",
    "        self.len_best_feature = len_best_feature\n",
    "        self.feature_dict = feature_dict\n",
    "        self.roc_auc_list = roc_auc_list\n",
    "    "
   ]
  },
  {
   "cell_type": "code",
   "execution_count": 146,
   "metadata": {},
   "outputs": [],
   "source": [
    "fe = FeatureExtraction()"
   ]
  },
  {
   "cell_type": "code",
   "execution_count": 151,
   "metadata": {},
   "outputs": [],
   "source": [
    "fe.fit(1000, X_train, y_train, X_test, y_test)"
   ]
  },
  {
   "cell_type": "code",
   "execution_count": 154,
   "metadata": {},
   "outputs": [
    {
     "data": {
      "text/html": [
       "[<matplotlib.lines.Line2D object at 0x7fcb04b54150>]"
      ],
      "text/plain": [
       "[<matplotlib.lines.Line2D at 0x7fcb04b54150>]"
      ]
     },
     "execution_count": 154,
     "metadata": {},
     "output_type": "execute_result"
    },
    {
     "data": {
      "image/png": "[encoded data removed]",
      "text/plain": [
       "<Figure size 432x288 with 1 Axes>"
      ]
     },
     "metadata": {
      "needs_background": "light"
     },
     "output_type": "display_data"
    }
   ],
   "source": [
    "#посмотрим, как с каждой итерацией нарастают фичи\n",
    "\n",
    "plt.plot(fe.len_best_feature)"
   ]
  },
  {
   "cell_type": "code",
   "execution_count": 153,
   "metadata": {},
   "outputs": [
    {
     "data": {
      "text/html": [
       "[<matplotlib.lines.Line2D object at 0x7fcb047b5590>]"
      ],
      "text/plain": [
       "[<matplotlib.lines.Line2D at 0x7fcb047b5590>]"
      ]
     },
     "execution_count": 153,
     "metadata": {},
     "output_type": "execute_result"
    },
    {
     "data": {
      "image/png": "[encoded data removed]",
      "text/plain": [
       "<Figure size 432x288 with 1 Axes>"
      ]
     },
     "metadata": {
      "needs_background": "light"
     },
     "output_type": "display_data"
    }
   ],
   "source": [
    "# посмотрим как выглядит производная, видно, что, в целом, после 300 итерации прирост фичей постоянный и монотонный, \n",
    "# по одной фиче за итерацию. Ну, и всё чаще встречаются нули, т.е. новых фичей не приростает\n",
    "plt.plot(np.diff(fe.len_best_feature))"
   ]
  },
  {
   "cell_type": "code",
   "execution_count": 91,
   "metadata": {},
   "outputs": [
    {
     "data": {
      "text/plain": [
       "(array([244.,   7.,  10.,   1.,   2.,   1.,   1.,   1.,   0.,   1.]),\n",
       " array([  1. ,  64.1, 127.2, 190.3, 253.4, 316.5, 379.6, 442.7, 505.8,\n",
       "        568.9, 632. ]),\n",
       " <a list of 10 Patch objects>)"
      ]
     },
     "execution_count": 91,
     "metadata": {},
     "output_type": "execute_result"
    },
    {
     "data": {
      "image/png": "[encoded data removed]",
      "text/plain": [
       "<Figure size 432x288 with 1 Axes>"
      ]
     },
     "metadata": {
      "needs_background": "light"
     },
     "output_type": "display_data"
    }
   ],
   "source": [
    "# а вот так выглядит распределение фичей по частоте их включения в модельки.\n",
    "# больше 200 фичей включались только один раз, ну, очевидно, что это мусор.\n",
    "\n",
    "feature_distr = list(map(lambda x: len(fe.feature_dict[x]), fe.feature_dict))\n",
    "plt.hist(feature_distr)"
   ]
  },
  {
   "cell_type": "code",
   "execution_count": 12,
   "metadata": {},
   "outputs": [],
   "source": [
    "\"\"\"\n",
    "Идея: повторим экстракцию фичей 40 раз (вычислительно емко получается для ноутбучика), \n",
    "отсортируем каждый из получившихся наборов по важности фичей, найдем размер окна для отбора n-топ фичей, \n",
    "в котором состав фичей минимально изменяется от набора к набору. А потом отберем те фичи, которые всегда встречаются в окне этого размера.\n",
    "\"\"\"\n",
    "\n",
    "list_feature_dicts = list()\n",
    "for i in range(0,40):\n",
    "    fe = FeatureExtraction()\n",
    "    fe.fit(300, \n",
    "           X_train, y_train, X_test, y_test)\n",
    "    list_feature_dicts.append(fe.feature_dict)"
   ]
  },
  {
   "cell_type": "code",
   "execution_count": 13,
   "metadata": {},
   "outputs": [],
   "source": [
    "lfd = list_feature_dicts"
   ]
  },
  {
   "cell_type": "code",
   "execution_count": 14,
   "metadata": {},
   "outputs": [],
   "source": [
    "# удаляем фичи, которые были включены только в одну модель, как сказали выше - это мусор\n",
    "\n",
    "for i in range(0, len(lfd)):\n",
    "    d = lfd[i]\n",
    "    lfd[i] = {k : v for k, v in d.items() if len(v)>1}"
   ]
  },
  {
   "cell_type": "code",
   "execution_count": 124,
   "metadata": {},
   "outputs": [],
   "source": [
    "#сортируем фичи в порядке убывания их значимости\n",
    "#значимость считаем как (число включений в моедль)*(roc_auc_модели)*(abs(coef_))\n",
    "\n",
    "lfd_sort = list()\n",
    "for d in lfd:\n",
    "    lfd_sort.append(dict(sorted(d.items(), key=lambda item: len(item[1])*np.median(item[1]), reverse=True)))"
   ]
  },
  {
   "cell_type": "code",
   "execution_count": 125,
   "metadata": {},
   "outputs": [],
   "source": [
    "\"\"\"\n",
    "Идея:\n",
    "\n",
    "Хотим выбрать топ n генов, который минимально изменяется от набора в lfd к набору (с точностью до перестановки). \n",
    "Очевидно 1 < n < минимального набора генов.\n",
    "\n",
    "\"\"\"\n",
    "\n",
    "result = list()\n",
    "\n",
    "min_len = min(list(map(lambda x: len(x.keys()), lfd_sort))) # минимальная длина словаря feature_dict \n",
    "\n",
    "for yeld in range(1, min_len):\n",
    "    \n",
    "    similarity = np.zeros((20,20))\n",
    "    \n",
    "    for i in range(0,20):\n",
    "        for j in range(0,20):\n",
    "            one_set = set(list(lfd_sort[i].keys())[:yeld])\n",
    "            two_set = set(list(lfd_sort[j].keys())[:yeld])\n",
    "            sim = len(one_set.intersection(two_set))/yeld\n",
    "            similarity[i,j] = sim\n",
    "    \n",
    "    result.append(np.mean(similarity))"
   ]
  },
  {
   "cell_type": "code",
   "execution_count": 126,
   "metadata": {},
   "outputs": [
    {
     "data": {
      "text/html": [
       "[<matplotlib.lines.Line2D object at 0x7fea36bb0490>]"
      ],
      "text/plain": [
       "[<matplotlib.lines.Line2D at 0x7fea36bb0490>]"
      ]
     },
     "execution_count": 126,
     "metadata": {},
     "output_type": "execute_result"
    },
    {
     "data": {
      "image/png": "[encoded data removed]",
      "text/plain": [
       "<Figure size 504x504 with 1 Axes>"
      ]
     },
     "metadata": {
      "needs_background": "light"
     },
     "output_type": "display_data"
    }
   ],
   "source": [
    "plt.plot(result)\n",
    "\n",
    "\"\"\"\n",
    "В окне до 20 фичей всё немного колабисит. Очевидно топовые фичи прыгают по позициям от 0 до 20. \n",
    "После 20 график стабильно падает, стало быть на следующих позициях уже становится всё больше и больше рандома.\n",
    "Найдем точку перелома (она оказалась равна 18), и дальше будем оперировать окном этого размера.\n",
    "\"\"\""
   ]
  },
  {
   "cell_type": "code",
   "execution_count": 232,
   "metadata": {},
   "outputs": [
    {
     "data": {
      "text/plain": [
       "array([False, False, False,  True, False, False, False, False, False,\n",
       "       False])"
      ]
     },
     "execution_count": 232,
     "metadata": {},
     "output_type": "execute_result"
    }
   ],
   "source": [
    "result[15:25] == max(result[15:25])"
   ]
  },
  {
   "cell_type": "code",
   "execution_count": 169,
   "metadata": {},
   "outputs": [],
   "source": [
    "#отбираем гены, которые входят в топ 20 словарей\n",
    "TOP = 18\n",
    "\n",
    "top_20_gene_list = map(lambda x: list(x.keys())[:TOP], lfd_sort)\n",
    "\n",
    "top_gene = set()\n",
    "for i in top_20_gene_list:\n",
    "    top_gene.update(i)"
   ]
  },
  {
   "cell_type": "code",
   "execution_count": 170,
   "metadata": {},
   "outputs": [],
   "source": [
    "gene_weight = dict()\n",
    "for gene in top_gene:\n",
    "    value = sum(list(map(lambda x: gene in list(x.keys())[:TOP], lfd_sort)))/len(lfd_sort)\n",
    "    gene_weight[gene] = value"
   ]
  },
  {
   "cell_type": "code",
   "execution_count": 171,
   "metadata": {},
   "outputs": [
    {
     "data": {
      "text/plain": [
       "(array([ 4.,  2.,  2.,  0.,  0.,  1.,  0.,  0.,  4., 13.]),\n",
       " array([0.025 , 0.1225, 0.22  , 0.3175, 0.415 , 0.5125, 0.61  , 0.7075,\n",
       "        0.805 , 0.9025, 1.    ]),\n",
       " <a list of 10 Patch objects>)"
      ]
     },
     "execution_count": 171,
     "metadata": {},
     "output_type": "execute_result"
    },
    {
     "data": {
      "image/png": "[encoded data removed]",
      "text/plain": [
       "<Figure size 504x504 with 1 Axes>"
      ]
     },
     "metadata": {
      "needs_background": "light"
     },
     "output_type": "display_data"
    }
   ],
   "source": [
    "plt.hist(list(gene_weight.values()))"
   ]
  },
  {
   "cell_type": "code",
   "execution_count": 172,
   "metadata": {},
   "outputs": [],
   "source": [
    "best_features = [k for k in gene_weight.keys() if gene_weight[k] > 0.95]"
   ]
  },
  {
   "cell_type": "code",
   "execution_count": 173,
   "metadata": {},
   "outputs": [
    {
     "name": "stdout",
     "output_type": "stream",
     "text": [
      "FCN3 MT1X PROS1 MYH6 CDC42EP4 ZFP36 PRKCD LYVE1 CEBPD MT1M RASD1 S1PR3\n"
     ]
    }
   ],
   "source": [
    "print(*best_features)"
   ]
  },
  {
   "cell_type": "code",
   "execution_count": null,
   "metadata": {},
   "outputs": [],
   "source": [
    "#################################\n",
    "# model train\n",
    "#################################"
   ]
  },
  {
   "cell_type": "code",
   "execution_count": 1,
   "metadata": {},
   "outputs": [],
   "source": [
    "import pandas as pd\n",
    "import numpy as np\n",
    "import matplotlib.pyplot as plt\n",
    "from sklearn.preprocessing import StandardScaler\n",
    "from sklearn.manifold import MDS\n",
    "from sklearn.preprocessing import Normalizer\n",
    "from sklearn.ensemble import StackingClassifier\n",
    "from sklearn.linear_model import LogisticRegression\n",
    "from sklearn.pipeline import make_pipeline\n",
    "from sklearn.model_selection import train_test_split, cross_val_score\n",
    "from sklearn.ensemble import RandomForestClassifier\n",
    "from sklearn import metrics\n",
    "from sklearn.preprocessing import Normalizer\n",
    "\n",
    "# для визуализации распределения семплов в пространстве признаков\n",
    "def plot_mds(X, target, colors = ['green', 'red'], labels = ['CTRL', 'HCM']):\n",
    "    scaler = StandardScaler()\n",
    "    X_scaled = scaler.fit_transform(X)\n",
    "    mds = MDS(2,random_state=0)\n",
    "    X_2d = mds.fit_transform(X_scaled)\n",
    "    \n",
    "    plt.rcParams['figure.figsize'] = [7, 7]\n",
    "    plt.rc('font', size=14)\n",
    "    for i in np.unique(target):\n",
    "        subset = X_2d[target == i]\n",
    "        x = [row[0] for row in subset]\n",
    "        y = [row[1] for row in subset]\n",
    "        plt.scatter(x, y, c=colors[i], label = labels[i])\n",
    "    plt.legend()\n",
    "    plt.show()\n",
    "\n",
    "scaler = StandardScaler()\n",
    "Normalizer = Normalizer()\n",
    "\n",
    "def StandartScaling(X):\n",
    "    \n",
    "    scaler = StandardScaler()\n",
    "    \"\"\"\n",
    "    X - matrix, features in columns, samples in rows\n",
    "    \"\"\"\n",
    "    \n",
    "    colnames = X.columns \n",
    "    X = X.transpose()   # StandardScaler работает по столбцам, поэтому транспонируем, чтобы в столбцах оказались семплы\n",
    "    X = scaler.fit_transform(X)\n",
    "    X = pd.DataFrame(X.transpose(), columns=colnames)\n",
    "    return(X)"
   ]
  },
  {
   "cell_type": "code",
   "execution_count": 2,
   "metadata": {},
   "outputs": [
    {
     "name": "stdout",
     "output_type": "stream",
     "text": [
      "(145, 12) (16, 12)\n"
     ]
    }
   ],
   "source": [
    "best_features = ['FCN3', 'MT1X', 'PROS1', 'MYH6', 'CDC42EP4', 'ZFP36', 'PRKCD', 'LYVE1', 'CEBPD', 'MT1M', 'RASD1', 'S1PR3']\n",
    "\n",
    "X = pd.read_csv('./X_train.csv', index_col=0).transpose().filter(best_features, axis=1)\n",
    "X_test_out = pd.read_csv('./X_test_out.csv', index_col=0).transpose().filter(best_features, axis=1)\n",
    "\n",
    "y = list(pd.read_csv('./y_train.csv').iloc[:,1])\n",
    "y_test_out = list(pd.read_csv('./y_test_out.csv').iloc[:,1])\n",
    "\n",
    "print(X.shape, X_test_out.shape)"
   ]
  },
  {
   "cell_type": "code",
   "execution_count": 3,
   "metadata": {},
   "outputs": [
    {
     "ename": "NameError",
     "evalue": "name 'Data' is not defined",
     "output_type": "error",
     "traceback": [
      "\u001b[0;31m---------------------------------------------------------------------------\u001b[0m",
      "\u001b[0;31mNameError\u001b[0m                                 Traceback (most recent call last)",
      "\u001b[0;32m<ipython-input-3-1cefc091e120>\u001b[0m in \u001b[0;36m<module>\u001b[0;34m\u001b[0m\n\u001b[0;32m----> 1\u001b[0;31m \u001b[0mX\u001b[0m \u001b[0;34m=\u001b[0m \u001b[0mData\u001b[0m\u001b[0;34m.\u001b[0m\u001b[0mX\u001b[0m\u001b[0;34m.\u001b[0m\u001b[0mtrain\u001b[0m\u001b[0;34m.\u001b[0m\u001b[0mtranspose\u001b[0m\u001b[0;34m(\u001b[0m\u001b[0;34m)\u001b[0m\u001b[0;34m.\u001b[0m\u001b[0mfilter\u001b[0m\u001b[0;34m(\u001b[0m\u001b[0mbest_features\u001b[0m\u001b[0;34m,\u001b[0m \u001b[0maxis\u001b[0m\u001b[0;34m=\u001b[0m\u001b[0;36m1\u001b[0m\u001b[0;34m)\u001b[0m\u001b[0;34m\u001b[0m\u001b[0;34m\u001b[0m\u001b[0m\n\u001b[0m\u001b[1;32m      2\u001b[0m \u001b[0mX_test_out\u001b[0m \u001b[0;34m=\u001b[0m \u001b[0mData\u001b[0m\u001b[0;34m.\u001b[0m\u001b[0mX\u001b[0m\u001b[0;34m.\u001b[0m\u001b[0mtest\u001b[0m\u001b[0;34m.\u001b[0m\u001b[0mtranspose\u001b[0m\u001b[0;34m(\u001b[0m\u001b[0;34m)\u001b[0m\u001b[0;34m.\u001b[0m\u001b[0mfilter\u001b[0m\u001b[0;34m(\u001b[0m\u001b[0mbest_features\u001b[0m\u001b[0;34m,\u001b[0m \u001b[0maxis\u001b[0m\u001b[0;34m=\u001b[0m\u001b[0;36m1\u001b[0m\u001b[0;34m)\u001b[0m\u001b[0;34m\u001b[0m\u001b[0;34m\u001b[0m\u001b[0m\n\u001b[1;32m      3\u001b[0m \u001b[0my\u001b[0m \u001b[0;34m=\u001b[0m \u001b[0mData\u001b[0m\u001b[0;34m.\u001b[0m\u001b[0my\u001b[0m\u001b[0;34m.\u001b[0m\u001b[0mtrain\u001b[0m\u001b[0;34m\u001b[0m\u001b[0;34m\u001b[0m\u001b[0m\n\u001b[1;32m      4\u001b[0m \u001b[0my_test_out\u001b[0m \u001b[0;34m=\u001b[0m \u001b[0mData\u001b[0m\u001b[0;34m.\u001b[0m\u001b[0my\u001b[0m\u001b[0;34m.\u001b[0m\u001b[0mtest\u001b[0m\u001b[0;34m\u001b[0m\u001b[0;34m\u001b[0m\u001b[0m\n",
      "\u001b[0;31mNameError\u001b[0m: name 'Data' is not defined"
     ]
    }
   ],
   "source": [
    "X = Data.X.train.transpose().filter(best_features, axis=1)\n",
    "X_test_out = Data.X.test.transpose().filter(best_features, axis=1)\n",
    "y = Data.y.train\n",
    "y_test_out = Data.y.test"
   ]
  },
  {
   "cell_type": "code",
   "execution_count": 3,
   "metadata": {},
   "outputs": [
    {
     "name": "stdout",
     "output_type": "stream",
     "text": [
      "(145, 12) (16, 12)\n"
     ]
    }
   ],
   "source": [
    "colnames = X.columns\n",
    "X = StandartScaling(X)\n",
    "X_test_out = StandartScaling(X_test_out)\n",
    "\n",
    "#X = pd.DataFrame(Normalizer.fit_transform(X), columns=colnames)\n",
    "#X_test_out = pd.DataFrame(Normalizer.fit_transform(X_test_out), columns=colnames)\n",
    "\n",
    "print(X.shape, X_test_out.shape)"
   ]
  },
  {
   "cell_type": "code",
   "execution_count": 4,
   "metadata": {},
   "outputs": [
    {
     "data": {
      "image/png": "[encoded data removed]",
      "text/plain": [
       "<Figure size 504x504 with 1 Axes>"
      ]
     },
     "metadata": {
      "needs_background": "light"
     },
     "output_type": "display_data"
    }
   ],
   "source": [
    "plot_mds(X_test_out, y_test_out)"
   ]
  },
  {
   "cell_type": "code",
   "execution_count": 5,
   "metadata": {},
   "outputs": [
    {
     "data": {
      "image/png": "[encoded data removed]",
      "text/plain": [
       "<Figure size 504x504 with 1 Axes>"
      ]
     },
     "metadata": {
      "needs_background": "light"
     },
     "output_type": "display_data"
    }
   ],
   "source": [
    "plot_mds(X, y)"
   ]
  },
  {
   "cell_type": "code",
   "execution_count": 6,
   "metadata": {},
   "outputs": [
    {
     "data": {
      "image/png": "[encoded data removed]",
      "text/plain": [
       "<Figure size 504x504 with 1 Axes>"
      ]
     },
     "metadata": {
      "needs_background": "light"
     },
     "output_type": "display_data"
    }
   ],
   "source": [
    "plot_mds(pd.concat([X, X_test_out]), y + y_test_out)"
   ]
  },
  {
   "cell_type": "code",
   "execution_count": 7,
   "metadata": {},
   "outputs": [],
   "source": [
    "rf_params = {'random_state': 42, 'n_estimators': 3, 'max_samples': 0.5, 'max_features': 'auto', \n",
    "             'max_depth': 1, 'class_weight': 'balanced', 'bootstrap': 'True'}\n",
    "\n",
    "estimators = [\n",
    "    ('rf', make_pipeline(StandardScaler(),\n",
    "                         RandomForestClassifier(**rf_params))),\n",
    "    ('logreg', make_pipeline(StandardScaler(),\n",
    "                             LogisticRegression(solver='liblinear', random_state=42, class_weight='balanced', \n",
    "                                                penalty='l2', C=0.05)))\n",
    "     ]\n",
    "clf = StackingClassifier(estimators=estimators, \n",
    "                         final_estimator=LogisticRegression(penalty='l2', C=1), \n",
    "                         passthrough = False)"
   ]
  },
  {
   "cell_type": "code",
   "execution_count": 8,
   "metadata": {},
   "outputs": [],
   "source": [
    "X_train, X_test, y_train, y_test = train_test_split(X, y, test_size=0.2, random_state=42)"
   ]
  },
  {
   "cell_type": "code",
   "execution_count": 9,
   "metadata": {},
   "outputs": [
    {
     "name": "stdout",
     "output_type": "stream",
     "text": [
      "train: 0.9767441860465116\n",
      "test_in: 0.975\n",
      "test_out: 0.9545454545454545\n"
     ]
    }
   ],
   "source": [
    "clfStack = clf.fit(X_train, y_train)\n",
    "\n",
    "print(\"train:\", metrics.roc_auc_score(y_score=clfStack.predict(X_train), \n",
    "                                      y_true=y_train))\n",
    "print('test_in:', metrics.roc_auc_score(y_score=clfStack.predict(X_test), \n",
    "                                           y_true=y_test))\n",
    "print(\"test_out:\", metrics.roc_auc_score(y_score=clfStack.predict(X_test_out), \n",
    "                                     y_true=y_test_out))"
   ]
  },
  {
   "cell_type": "code",
   "execution_count": 10,
   "metadata": {},
   "outputs": [
    {
     "data": {
      "text/plain": [
       "0.8545454545454545"
      ]
     },
     "execution_count": 10,
     "metadata": {},
     "output_type": "execute_result"
    }
   ],
   "source": [
    "linear_regressor = LogisticRegression(solver='liblinear', random_state=42, class_weight='balanced', \n",
    "                                                penalty='l2', C=0.05)\n",
    "linear_regressor.fit(X_train, y_train)\n",
    "metrics.roc_auc_score(y_true=y_test_out, y_score=linear_regressor.predict(X_test_out))"
   ]
  },
  {
   "cell_type": "code",
   "execution_count": 11,
   "metadata": {},
   "outputs": [
    {
     "data": {
      "text/plain": [
       "[<matplotlib.lines.Line2D at 0x7fadb8029e50>]"
      ]
     },
     "execution_count": 11,
     "metadata": {},
     "output_type": "execute_result"
    },
    {
     "data": {
      "image/png": "[encoded data removed]",
      "text/plain": [
       "<Figure size 504x504 with 1 Axes>"
      ]
     },
     "metadata": {
      "needs_background": "light"
     },
     "output_type": "display_data"
    }
   ],
   "source": [
    "plt.plot(clf.estimators_[0].predict_proba(X_test_out)[:,1], 'blue')\n",
    "plt.plot(clf.estimators_[1].predict_proba(X_test_out)[:,1], 'red')\n",
    "plt.plot(clf.predict_proba(X_test_out)[:,1], 'green')"
   ]
  },
  {
   "cell_type": "code",
   "execution_count": null,
   "metadata": {},
   "outputs": [],
   "source": []
  }
 ],
 "metadata": {
  "kernelspec": {
   "display_name": "Python 3",
   "language": "python",
   "name": "python3"
  },
  "language_info": {
   "codemirror_mode": {
    "name": "ipython",
    "version": 3
   },
   "file_extension": ".py",
   "mimetype": "text/x-python",
   "name": "python",
   "nbconvert_exporter": "python",
   "pygments_lexer": "ipython3",
   "version": "3.7.6"
  }
 },
 "nbformat": 4,
 "nbformat_minor": 4
}
