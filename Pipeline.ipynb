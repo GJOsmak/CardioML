{
 "cells": [
  {
   "cell_type": "code",
   "execution_count": 1,
   "metadata": {},
   "outputs": [],
   "source": [
    "##################################\n",
    "# Download, merging and annotation\n",
    "##################################"
   ]
  },
  {
   "cell_type": "code",
   "execution_count": 2,
   "metadata": {},
   "outputs": [],
   "source": [
    "import GEOparse\n",
    "import pandas as pd\n",
    "import numpy as np\n",
    "\n",
    "\n",
    "# для визуализации распределения семплов в пространстве признаков\n",
    "def plot_mds(X, target, colors = ['green', 'red'], labels = ['CTRL', 'HCM']):\n",
    "    scaler = StandardScaler()\n",
    "    X_scaled = scaler.fit_transform(X)\n",
    "    mds = MDS(2,random_state=0)\n",
    "    X_2d = mds.fit_transform(X_scaled)\n",
    "    \n",
    "    plt.rcParams['figure.figsize'] = [7, 7]\n",
    "    plt.rc('font', size=14)\n",
    "    for i in np.unique(target):\n",
    "        subset = X_2d[target == i]\n",
    "        x = [row[0] for row in subset]\n",
    "        y = [row[1] for row in subset]\n",
    "        plt.scatter(x, y, c=colors[i], label = labels[i])\n",
    "    plt.legend()\n",
    "    plt.show()"
   ]
  },
  {
   "cell_type": "code",
   "execution_count": 3,
   "metadata": {},
   "outputs": [
    {
     "name": "stderr",
     "output_type": "stream",
     "text": [
      "16-Aug-2021 21:49:45 DEBUG utils - Directory ./ already exists. Skipping.\n",
      "16-Aug-2021 21:49:45 INFO GEOparse - File already exist: using local version.\n",
      "16-Aug-2021 21:49:45 INFO GEOparse - Parsing ./GSE36961_family.soft.gz: \n",
      "16-Aug-2021 21:49:45 DEBUG GEOparse - DATABASE: GeoMiame\n",
      "16-Aug-2021 21:49:45 DEBUG GEOparse - SERIES: GSE36961\n",
      "16-Aug-2021 21:49:45 DEBUG GEOparse - PLATFORM: GPL15389\n",
      "16-Aug-2021 21:49:45 DEBUG GEOparse - SAMPLE: GSM907203\n",
      "16-Aug-2021 21:49:45 DEBUG GEOparse - SAMPLE: GSM907204\n",
      "16-Aug-2021 21:49:45 DEBUG GEOparse - SAMPLE: GSM907205\n",
      "16-Aug-2021 21:49:45 DEBUG GEOparse - SAMPLE: GSM907206\n",
      "16-Aug-2021 21:49:45 DEBUG GEOparse - SAMPLE: GSM907207\n",
      "16-Aug-2021 21:49:45 DEBUG GEOparse - SAMPLE: GSM907208\n",
      "16-Aug-2021 21:49:45 DEBUG GEOparse - SAMPLE: GSM907209\n",
      "16-Aug-2021 21:49:45 DEBUG GEOparse - SAMPLE: GSM907210\n",
      "16-Aug-2021 21:49:46 DEBUG GEOparse - SAMPLE: GSM907211\n",
      "16-Aug-2021 21:49:46 DEBUG GEOparse - SAMPLE: GSM907212\n",
      "16-Aug-2021 21:49:46 DEBUG GEOparse - SAMPLE: GSM907213\n",
      "16-Aug-2021 21:49:46 DEBUG GEOparse - SAMPLE: GSM907214\n",
      "16-Aug-2021 21:49:46 DEBUG GEOparse - SAMPLE: GSM907215\n",
      "16-Aug-2021 21:49:46 DEBUG GEOparse - SAMPLE: GSM907216\n",
      "16-Aug-2021 21:49:46 DEBUG GEOparse - SAMPLE: GSM907217\n",
      "16-Aug-2021 21:49:46 DEBUG GEOparse - SAMPLE: GSM907218\n",
      "16-Aug-2021 21:49:46 DEBUG GEOparse - SAMPLE: GSM907219\n",
      "16-Aug-2021 21:49:46 DEBUG GEOparse - SAMPLE: GSM907220\n",
      "16-Aug-2021 21:49:46 DEBUG GEOparse - SAMPLE: GSM907221\n",
      "16-Aug-2021 21:49:46 DEBUG GEOparse - SAMPLE: GSM907222\n",
      "16-Aug-2021 21:49:46 DEBUG GEOparse - SAMPLE: GSM907223\n",
      "16-Aug-2021 21:49:46 DEBUG GEOparse - SAMPLE: GSM907224\n",
      "16-Aug-2021 21:49:47 DEBUG GEOparse - SAMPLE: GSM907225\n",
      "16-Aug-2021 21:49:47 DEBUG GEOparse - SAMPLE: GSM907226\n",
      "16-Aug-2021 21:49:47 DEBUG GEOparse - SAMPLE: GSM907227\n",
      "16-Aug-2021 21:49:47 DEBUG GEOparse - SAMPLE: GSM907228\n",
      "16-Aug-2021 21:49:47 DEBUG GEOparse - SAMPLE: GSM907229\n",
      "16-Aug-2021 21:49:47 DEBUG GEOparse - SAMPLE: GSM907230\n",
      "16-Aug-2021 21:49:47 DEBUG GEOparse - SAMPLE: GSM907231\n",
      "16-Aug-2021 21:49:47 DEBUG GEOparse - SAMPLE: GSM907232\n",
      "16-Aug-2021 21:49:47 DEBUG GEOparse - SAMPLE: GSM907233\n",
      "16-Aug-2021 21:49:47 DEBUG GEOparse - SAMPLE: GSM907234\n",
      "16-Aug-2021 21:49:47 DEBUG GEOparse - SAMPLE: GSM907235\n",
      "16-Aug-2021 21:49:47 DEBUG GEOparse - SAMPLE: GSM907236\n",
      "16-Aug-2021 21:49:47 DEBUG GEOparse - SAMPLE: GSM907237\n",
      "16-Aug-2021 21:49:47 DEBUG GEOparse - SAMPLE: GSM907238\n",
      "16-Aug-2021 21:49:47 DEBUG GEOparse - SAMPLE: GSM907239\n",
      "16-Aug-2021 21:49:48 DEBUG GEOparse - SAMPLE: GSM907240\n",
      "16-Aug-2021 21:49:48 DEBUG GEOparse - SAMPLE: GSM907241\n",
      "16-Aug-2021 21:49:48 DEBUG GEOparse - SAMPLE: GSM907242\n",
      "16-Aug-2021 21:49:48 DEBUG GEOparse - SAMPLE: GSM907243\n",
      "16-Aug-2021 21:49:48 DEBUG GEOparse - SAMPLE: GSM907244\n",
      "16-Aug-2021 21:49:48 DEBUG GEOparse - SAMPLE: GSM907245\n",
      "16-Aug-2021 21:49:48 DEBUG GEOparse - SAMPLE: GSM907246\n",
      "16-Aug-2021 21:49:48 DEBUG GEOparse - SAMPLE: GSM907247\n",
      "16-Aug-2021 21:49:48 DEBUG GEOparse - SAMPLE: GSM907248\n",
      "16-Aug-2021 21:49:48 DEBUG GEOparse - SAMPLE: GSM907249\n",
      "16-Aug-2021 21:49:48 DEBUG GEOparse - SAMPLE: GSM907250\n",
      "16-Aug-2021 21:49:48 DEBUG GEOparse - SAMPLE: GSM907251\n",
      "16-Aug-2021 21:49:48 DEBUG GEOparse - SAMPLE: GSM907252\n",
      "16-Aug-2021 21:49:49 DEBUG GEOparse - SAMPLE: GSM907253\n",
      "16-Aug-2021 21:49:49 DEBUG GEOparse - SAMPLE: GSM907254\n",
      "16-Aug-2021 21:49:49 DEBUG GEOparse - SAMPLE: GSM907255\n",
      "16-Aug-2021 21:49:49 DEBUG GEOparse - SAMPLE: GSM907256\n",
      "16-Aug-2021 21:49:49 DEBUG GEOparse - SAMPLE: GSM907257\n",
      "16-Aug-2021 21:49:49 DEBUG GEOparse - SAMPLE: GSM907258\n",
      "16-Aug-2021 21:49:49 DEBUG GEOparse - SAMPLE: GSM907259\n",
      "16-Aug-2021 21:49:49 DEBUG GEOparse - SAMPLE: GSM907260\n",
      "16-Aug-2021 21:49:49 DEBUG GEOparse - SAMPLE: GSM907261\n",
      "16-Aug-2021 21:49:49 DEBUG GEOparse - SAMPLE: GSM907262\n",
      "16-Aug-2021 21:49:49 DEBUG GEOparse - SAMPLE: GSM907263\n",
      "16-Aug-2021 21:49:49 DEBUG GEOparse - SAMPLE: GSM907264\n",
      "16-Aug-2021 21:49:49 DEBUG GEOparse - SAMPLE: GSM907265\n",
      "16-Aug-2021 21:49:49 DEBUG GEOparse - SAMPLE: GSM907266\n",
      "16-Aug-2021 21:49:50 DEBUG GEOparse - SAMPLE: GSM907267\n",
      "16-Aug-2021 21:49:50 DEBUG GEOparse - SAMPLE: GSM907268\n",
      "16-Aug-2021 21:49:50 DEBUG GEOparse - SAMPLE: GSM907269\n",
      "16-Aug-2021 21:49:50 DEBUG GEOparse - SAMPLE: GSM907270\n",
      "16-Aug-2021 21:49:50 DEBUG GEOparse - SAMPLE: GSM907271\n",
      "16-Aug-2021 21:49:50 DEBUG GEOparse - SAMPLE: GSM907272\n",
      "16-Aug-2021 21:49:50 DEBUG GEOparse - SAMPLE: GSM907273\n",
      "16-Aug-2021 21:49:50 DEBUG GEOparse - SAMPLE: GSM907274\n",
      "16-Aug-2021 21:49:50 DEBUG GEOparse - SAMPLE: GSM907275\n",
      "16-Aug-2021 21:49:50 DEBUG GEOparse - SAMPLE: GSM907276\n",
      "16-Aug-2021 21:49:50 DEBUG GEOparse - SAMPLE: GSM907277\n",
      "16-Aug-2021 21:49:50 DEBUG GEOparse - SAMPLE: GSM907278\n",
      "16-Aug-2021 21:49:50 DEBUG GEOparse - SAMPLE: GSM907279\n",
      "16-Aug-2021 21:49:50 DEBUG GEOparse - SAMPLE: GSM907280\n",
      "16-Aug-2021 21:49:50 DEBUG GEOparse - SAMPLE: GSM907281\n",
      "16-Aug-2021 21:49:51 DEBUG GEOparse - SAMPLE: GSM907282\n",
      "16-Aug-2021 21:49:51 DEBUG GEOparse - SAMPLE: GSM907283\n",
      "16-Aug-2021 21:49:51 DEBUG GEOparse - SAMPLE: GSM907284\n",
      "16-Aug-2021 21:49:51 DEBUG GEOparse - SAMPLE: GSM907285\n",
      "16-Aug-2021 21:49:51 DEBUG GEOparse - SAMPLE: GSM907286\n",
      "16-Aug-2021 21:49:51 DEBUG GEOparse - SAMPLE: GSM907287\n",
      "16-Aug-2021 21:49:51 DEBUG GEOparse - SAMPLE: GSM907288\n",
      "16-Aug-2021 21:49:51 DEBUG GEOparse - SAMPLE: GSM907289\n",
      "16-Aug-2021 21:49:51 DEBUG GEOparse - SAMPLE: GSM907290\n",
      "16-Aug-2021 21:49:51 DEBUG GEOparse - SAMPLE: GSM907291\n",
      "16-Aug-2021 21:49:51 DEBUG GEOparse - SAMPLE: GSM907292\n",
      "16-Aug-2021 21:49:51 DEBUG GEOparse - SAMPLE: GSM907293\n",
      "16-Aug-2021 21:49:51 DEBUG GEOparse - SAMPLE: GSM907294\n",
      "16-Aug-2021 21:49:51 DEBUG GEOparse - SAMPLE: GSM907295\n",
      "16-Aug-2021 21:49:52 DEBUG GEOparse - SAMPLE: GSM907296\n",
      "16-Aug-2021 21:49:52 DEBUG GEOparse - SAMPLE: GSM907297\n",
      "16-Aug-2021 21:49:52 DEBUG GEOparse - SAMPLE: GSM907298\n",
      "16-Aug-2021 21:49:52 DEBUG GEOparse - SAMPLE: GSM907299\n",
      "16-Aug-2021 21:49:52 DEBUG GEOparse - SAMPLE: GSM907300\n",
      "16-Aug-2021 21:49:52 DEBUG GEOparse - SAMPLE: GSM907301\n",
      "16-Aug-2021 21:49:52 DEBUG GEOparse - SAMPLE: GSM907302\n",
      "16-Aug-2021 21:49:52 DEBUG GEOparse - SAMPLE: GSM907303\n",
      "16-Aug-2021 21:49:52 DEBUG GEOparse - SAMPLE: GSM907304\n",
      "16-Aug-2021 21:49:52 DEBUG GEOparse - SAMPLE: GSM907305\n",
      "16-Aug-2021 21:49:52 DEBUG GEOparse - SAMPLE: GSM907306\n",
      "16-Aug-2021 21:49:52 DEBUG GEOparse - SAMPLE: GSM907307\n",
      "16-Aug-2021 21:49:52 DEBUG GEOparse - SAMPLE: GSM907308\n",
      "16-Aug-2021 21:49:52 DEBUG GEOparse - SAMPLE: GSM907309\n",
      "16-Aug-2021 21:49:53 DEBUG GEOparse - SAMPLE: GSM907310\n",
      "16-Aug-2021 21:49:53 DEBUG GEOparse - SAMPLE: GSM907311\n",
      "16-Aug-2021 21:49:53 DEBUG GEOparse - SAMPLE: GSM907312\n",
      "16-Aug-2021 21:49:53 DEBUG GEOparse - SAMPLE: GSM907313\n",
      "16-Aug-2021 21:49:53 DEBUG GEOparse - SAMPLE: GSM907314\n",
      "16-Aug-2021 21:49:53 DEBUG GEOparse - SAMPLE: GSM907315\n",
      "16-Aug-2021 21:49:53 DEBUG GEOparse - SAMPLE: GSM907316\n",
      "16-Aug-2021 21:49:53 DEBUG GEOparse - SAMPLE: GSM907317\n",
      "16-Aug-2021 21:49:53 DEBUG GEOparse - SAMPLE: GSM907318\n",
      "16-Aug-2021 21:49:53 DEBUG GEOparse - SAMPLE: GSM907319\n",
      "16-Aug-2021 21:49:53 DEBUG GEOparse - SAMPLE: GSM907320\n",
      "16-Aug-2021 21:49:53 DEBUG GEOparse - SAMPLE: GSM907321\n",
      "16-Aug-2021 21:49:53 DEBUG GEOparse - SAMPLE: GSM907322\n",
      "16-Aug-2021 21:49:53 DEBUG GEOparse - SAMPLE: GSM907323\n",
      "16-Aug-2021 21:49:54 DEBUG GEOparse - SAMPLE: GSM907324\n",
      "16-Aug-2021 21:49:54 DEBUG GEOparse - SAMPLE: GSM907325\n",
      "16-Aug-2021 21:49:54 DEBUG GEOparse - SAMPLE: GSM907326\n",
      "16-Aug-2021 21:49:54 DEBUG GEOparse - SAMPLE: GSM907327\n",
      "16-Aug-2021 21:49:54 DEBUG GEOparse - SAMPLE: GSM907328\n",
      "16-Aug-2021 21:49:54 DEBUG GEOparse - SAMPLE: GSM907329\n",
      "16-Aug-2021 21:49:54 DEBUG GEOparse - SAMPLE: GSM907330\n",
      "16-Aug-2021 21:49:54 DEBUG GEOparse - SAMPLE: GSM907331\n",
      "16-Aug-2021 21:49:54 DEBUG GEOparse - SAMPLE: GSM907332\n",
      "16-Aug-2021 21:49:54 DEBUG GEOparse - SAMPLE: GSM907333\n",
      "16-Aug-2021 21:49:54 DEBUG GEOparse - SAMPLE: GSM907334\n",
      "16-Aug-2021 21:49:54 DEBUG GEOparse - SAMPLE: GSM907335\n",
      "16-Aug-2021 21:49:54 DEBUG GEOparse - SAMPLE: GSM907336\n",
      "16-Aug-2021 21:49:54 DEBUG GEOparse - SAMPLE: GSM907337\n",
      "16-Aug-2021 21:49:55 DEBUG GEOparse - SAMPLE: GSM907338\n",
      "16-Aug-2021 21:49:55 DEBUG GEOparse - SAMPLE: GSM907339\n",
      "16-Aug-2021 21:49:55 DEBUG GEOparse - SAMPLE: GSM907340\n",
      "16-Aug-2021 21:49:55 DEBUG GEOparse - SAMPLE: GSM907341\n",
      "16-Aug-2021 21:49:55 DEBUG GEOparse - SAMPLE: GSM907342\n"
     ]
    },
    {
     "name": "stderr",
     "output_type": "stream",
     "text": [
      "16-Aug-2021 21:49:55 DEBUG GEOparse - SAMPLE: GSM907343\n",
      "16-Aug-2021 21:49:55 DEBUG GEOparse - SAMPLE: GSM907344\n",
      "16-Aug-2021 21:49:55 DEBUG GEOparse - SAMPLE: GSM907345\n",
      "16-Aug-2021 21:49:55 DEBUG GEOparse - SAMPLE: GSM907346\n",
      "16-Aug-2021 21:49:55 DEBUG GEOparse - SAMPLE: GSM907347\n"
     ]
    }
   ],
   "source": [
    "dataset_name = \"GSE36961\" # набор на 145 семплов\n",
    "\n",
    "gse = GEOparse.get_GEO(dataset_name)\n",
    "data_train = gse.pivot_samples('VALUE')\n",
    "\n",
    "# вытаскиваем лейблы семплов\n",
    "\n",
    "experiments = {}\n",
    "for i, (idx, row) in enumerate(gse.phenotype_data.iterrows()):\n",
    "    tmp = {}\n",
    "    tmp[\"Experiment\"] = idx\n",
    "    tmp['platform_id'] = row['platform_id']\n",
    "    tmp['status'] = 'HCM' if 'HCM' in row['source_name_ch1'] else 'CTRL'\n",
    "    experiments[i] = tmp\n",
    "experiments = pd.DataFrame(experiments).T\n",
    "\n",
    "gsm_to_stat = dict(zip(experiments['Experiment'], experiments['status']))\n",
    "data_train.columns = [gsm_to_stat[i] for i in data_train.columns]"
   ]
  },
  {
   "cell_type": "code",
   "execution_count": 4,
   "metadata": {},
   "outputs": [
    {
     "name": "stderr",
     "output_type": "stream",
     "text": [
      "16-Aug-2021 21:49:57 DEBUG utils - Directory ./ already exists. Skipping.\n",
      "16-Aug-2021 21:49:57 INFO GEOparse - File already exist: using local version.\n",
      "16-Aug-2021 21:49:57 INFO GEOparse - Parsing ./GSE1145_family.soft.gz: \n",
      "16-Aug-2021 21:49:57 DEBUG GEOparse - DATABASE: GeoMiame\n",
      "16-Aug-2021 21:49:57 DEBUG GEOparse - SERIES: GSE1145\n",
      "16-Aug-2021 21:49:57 DEBUG GEOparse - PLATFORM: GPL570\n",
      "/opt/anaconda3/lib/python3.7/site-packages/GEOparse/GEOparse.py:104: DtypeWarning: Columns (2) have mixed types. Specify dtype option on import or set low_memory=False.\n",
      "  return parse_GSE(filepath)\n",
      "16-Aug-2021 21:49:59 DEBUG GEOparse - PLATFORM: GPL8300\n",
      "16-Aug-2021 21:49:59 DEBUG GEOparse - SAMPLE: GSM18422\n",
      "16-Aug-2021 21:49:59 DEBUG GEOparse - SAMPLE: GSM18423\n",
      "16-Aug-2021 21:49:59 DEBUG GEOparse - SAMPLE: GSM18424\n",
      "16-Aug-2021 21:49:59 DEBUG GEOparse - SAMPLE: GSM18425\n",
      "16-Aug-2021 21:49:59 DEBUG GEOparse - SAMPLE: GSM18426\n",
      "16-Aug-2021 21:50:00 DEBUG GEOparse - SAMPLE: GSM18427\n",
      "16-Aug-2021 21:50:00 DEBUG GEOparse - SAMPLE: GSM18428\n",
      "16-Aug-2021 21:50:00 DEBUG GEOparse - SAMPLE: GSM18429\n",
      "16-Aug-2021 21:50:00 DEBUG GEOparse - SAMPLE: GSM18430\n",
      "16-Aug-2021 21:50:00 DEBUG GEOparse - SAMPLE: GSM18431\n",
      "16-Aug-2021 21:50:00 DEBUG GEOparse - SAMPLE: GSM18432\n",
      "16-Aug-2021 21:50:00 DEBUG GEOparse - SAMPLE: GSM18433\n",
      "16-Aug-2021 21:50:00 DEBUG GEOparse - SAMPLE: GSM18434\n",
      "16-Aug-2021 21:50:00 DEBUG GEOparse - SAMPLE: GSM18435\n",
      "16-Aug-2021 21:50:01 DEBUG GEOparse - SAMPLE: GSM18436\n",
      "16-Aug-2021 21:50:01 DEBUG GEOparse - SAMPLE: GSM18442\n",
      "16-Aug-2021 21:50:01 DEBUG GEOparse - SAMPLE: GSM18443\n",
      "16-Aug-2021 21:50:01 DEBUG GEOparse - SAMPLE: GSM18444\n",
      "16-Aug-2021 21:50:01 DEBUG GEOparse - SAMPLE: GSM18445\n",
      "16-Aug-2021 21:50:01 DEBUG GEOparse - SAMPLE: GSM18446\n",
      "16-Aug-2021 21:50:01 DEBUG GEOparse - SAMPLE: GSM18447\n",
      "16-Aug-2021 21:50:01 DEBUG GEOparse - SAMPLE: GSM18448\n",
      "16-Aug-2021 21:50:01 DEBUG GEOparse - SAMPLE: GSM18449\n",
      "16-Aug-2021 21:50:01 DEBUG GEOparse - SAMPLE: GSM18450\n",
      "16-Aug-2021 21:50:02 DEBUG GEOparse - SAMPLE: GSM18451\n",
      "16-Aug-2021 21:50:02 DEBUG GEOparse - SAMPLE: GSM18452\n",
      "16-Aug-2021 21:50:02 DEBUG GEOparse - SAMPLE: GSM18477\n",
      "16-Aug-2021 21:50:02 DEBUG GEOparse - SAMPLE: GSM18478\n",
      "16-Aug-2021 21:50:02 DEBUG GEOparse - SAMPLE: GSM18479\n",
      "16-Aug-2021 21:50:02 DEBUG GEOparse - SAMPLE: GSM18480\n",
      "16-Aug-2021 21:50:02 DEBUG GEOparse - SAMPLE: GSM18481\n",
      "16-Aug-2021 21:50:02 DEBUG GEOparse - SAMPLE: GSM18482\n",
      "16-Aug-2021 21:50:02 DEBUG GEOparse - SAMPLE: GSM18483\n",
      "16-Aug-2021 21:50:02 DEBUG GEOparse - SAMPLE: GSM18484\n",
      "16-Aug-2021 21:50:03 DEBUG GEOparse - SAMPLE: GSM18485\n",
      "16-Aug-2021 21:50:03 DEBUG GEOparse - SAMPLE: GSM18486\n",
      "16-Aug-2021 21:50:03 DEBUG GEOparse - SAMPLE: GSM18487\n",
      "16-Aug-2021 21:50:03 DEBUG GEOparse - SAMPLE: GSM25784\n",
      "16-Aug-2021 21:50:03 DEBUG GEOparse - SAMPLE: GSM25785\n",
      "16-Aug-2021 21:50:03 DEBUG GEOparse - SAMPLE: GSM25786\n",
      "16-Aug-2021 21:50:03 DEBUG GEOparse - SAMPLE: GSM25787\n",
      "16-Aug-2021 21:50:03 DEBUG GEOparse - SAMPLE: GSM25788\n",
      "16-Aug-2021 21:50:03 DEBUG GEOparse - SAMPLE: GSM25789\n",
      "16-Aug-2021 21:50:03 DEBUG GEOparse - SAMPLE: GSM25790\n",
      "16-Aug-2021 21:50:03 DEBUG GEOparse - SAMPLE: GSM25791\n",
      "16-Aug-2021 21:50:03 DEBUG GEOparse - SAMPLE: GSM25792\n",
      "16-Aug-2021 21:50:03 DEBUG GEOparse - SAMPLE: GSM25793\n",
      "16-Aug-2021 21:50:03 DEBUG GEOparse - SAMPLE: GSM25794\n",
      "16-Aug-2021 21:50:03 DEBUG GEOparse - SAMPLE: GSM25795\n",
      "16-Aug-2021 21:50:03 DEBUG GEOparse - SAMPLE: GSM25796\n",
      "16-Aug-2021 21:50:03 DEBUG GEOparse - SAMPLE: GSM25797\n",
      "16-Aug-2021 21:50:03 DEBUG GEOparse - SAMPLE: GSM25798\n",
      "16-Aug-2021 21:50:03 DEBUG GEOparse - SAMPLE: GSM25799\n",
      "16-Aug-2021 21:50:03 DEBUG GEOparse - SAMPLE: GSM25800\n",
      "16-Aug-2021 21:50:03 DEBUG GEOparse - SAMPLE: GSM25801\n",
      "16-Aug-2021 21:50:03 DEBUG GEOparse - SAMPLE: GSM25802\n",
      "16-Aug-2021 21:50:04 DEBUG GEOparse - SAMPLE: GSM25803\n",
      "16-Aug-2021 21:50:04 DEBUG GEOparse - SAMPLE: GSM25804\n",
      "16-Aug-2021 21:50:04 DEBUG GEOparse - SAMPLE: GSM25805\n",
      "16-Aug-2021 21:50:04 DEBUG GEOparse - SAMPLE: GSM25806\n",
      "16-Aug-2021 21:50:04 DEBUG GEOparse - SAMPLE: GSM25807\n",
      "16-Aug-2021 21:50:04 DEBUG GEOparse - SAMPLE: GSM25808\n",
      "16-Aug-2021 21:50:04 DEBUG GEOparse - SAMPLE: GSM25809\n",
      "16-Aug-2021 21:50:04 DEBUG GEOparse - SAMPLE: GSM25810\n",
      "16-Aug-2021 21:50:04 DEBUG GEOparse - SAMPLE: GSM25811\n",
      "16-Aug-2021 21:50:05 DEBUG GEOparse - SAMPLE: GSM25812\n",
      "16-Aug-2021 21:50:05 DEBUG GEOparse - SAMPLE: GSM25813\n",
      "16-Aug-2021 21:50:05 DEBUG GEOparse - SAMPLE: GSM25814\n",
      "16-Aug-2021 21:50:05 DEBUG GEOparse - SAMPLE: GSM25815\n",
      "16-Aug-2021 21:50:05 DEBUG GEOparse - SAMPLE: GSM25816\n",
      "16-Aug-2021 21:50:05 DEBUG GEOparse - SAMPLE: GSM25817\n",
      "16-Aug-2021 21:50:05 DEBUG GEOparse - SAMPLE: GSM25818\n",
      "16-Aug-2021 21:50:05 DEBUG GEOparse - SAMPLE: GSM25819\n",
      "16-Aug-2021 21:50:05 DEBUG GEOparse - SAMPLE: GSM25820\n",
      "16-Aug-2021 21:50:05 DEBUG GEOparse - SAMPLE: GSM25821\n",
      "16-Aug-2021 21:50:06 DEBUG GEOparse - SAMPLE: GSM25822\n",
      "16-Aug-2021 21:50:06 DEBUG GEOparse - SAMPLE: GSM25823\n",
      "16-Aug-2021 21:50:06 DEBUG GEOparse - SAMPLE: GSM25825\n",
      "16-Aug-2021 21:50:06 DEBUG GEOparse - SAMPLE: GSM25826\n",
      "16-Aug-2021 21:50:06 DEBUG GEOparse - SAMPLE: GSM25827\n",
      "16-Aug-2021 21:50:06 DEBUG GEOparse - SAMPLE: GSM25828\n",
      "16-Aug-2021 21:50:06 DEBUG GEOparse - SAMPLE: GSM25829\n",
      "16-Aug-2021 21:50:06 DEBUG GEOparse - SAMPLE: GSM25830\n",
      "16-Aug-2021 21:50:06 DEBUG GEOparse - SAMPLE: GSM25831\n",
      "16-Aug-2021 21:50:06 DEBUG GEOparse - SAMPLE: GSM25832\n",
      "16-Aug-2021 21:50:07 DEBUG GEOparse - SAMPLE: GSM25833\n",
      "16-Aug-2021 21:50:07 DEBUG GEOparse - SAMPLE: GSM25834\n",
      "16-Aug-2021 21:50:07 DEBUG GEOparse - SAMPLE: GSM25835\n",
      "16-Aug-2021 21:50:07 DEBUG GEOparse - SAMPLE: GSM25836\n",
      "16-Aug-2021 21:50:07 DEBUG GEOparse - SAMPLE: GSM25837\n",
      "16-Aug-2021 21:50:07 DEBUG GEOparse - SAMPLE: GSM25838\n",
      "16-Aug-2021 21:50:07 DEBUG GEOparse - SAMPLE: GSM25839\n",
      "16-Aug-2021 21:50:07 DEBUG GEOparse - SAMPLE: GSM25840\n",
      "16-Aug-2021 21:50:07 DEBUG GEOparse - SAMPLE: GSM25841\n",
      "16-Aug-2021 21:50:08 DEBUG GEOparse - SAMPLE: GSM25842\n",
      "16-Aug-2021 21:50:08 DEBUG GEOparse - SAMPLE: GSM25843\n",
      "16-Aug-2021 21:50:08 DEBUG GEOparse - SAMPLE: GSM25844\n",
      "16-Aug-2021 21:50:08 DEBUG GEOparse - SAMPLE: GSM25845\n",
      "16-Aug-2021 21:50:08 DEBUG GEOparse - SAMPLE: GSM25846\n",
      "16-Aug-2021 21:50:08 DEBUG GEOparse - SAMPLE: GSM25847\n",
      "16-Aug-2021 21:50:08 DEBUG GEOparse - SAMPLE: GSM25848\n",
      "16-Aug-2021 21:50:08 DEBUG GEOparse - SAMPLE: GSM25849\n",
      "16-Aug-2021 21:50:08 DEBUG GEOparse - SAMPLE: GSM25850\n",
      "16-Aug-2021 21:50:08 DEBUG GEOparse - SAMPLE: GSM25851\n",
      "16-Aug-2021 21:50:09 DEBUG GEOparse - SAMPLE: GSM25852\n",
      "16-Aug-2021 21:50:09 DEBUG GEOparse - SAMPLE: GSM25853\n",
      "16-Aug-2021 21:50:09 DEBUG GEOparse - SAMPLE: GSM25854\n",
      "/opt/anaconda3/lib/python3.7/site-packages/ipykernel_launcher.py:28: UserWarning: Boolean Series key will be reindexed to match DataFrame index.\n"
     ]
    }
   ],
   "source": [
    "dataset_name = \"GSE1145\"\n",
    "\n",
    "gse = GEOparse.get_GEO(dataset_name)\n",
    "data_test = gse.pivot_samples('VALUE')\n",
    "data_test.head()\n",
    "\n",
    "# вытаскиваем лейблы семплов\n",
    "\n",
    "def status_extr(row):\n",
    "    if 'N' in row['title']:\n",
    "        return 'CTRL'\n",
    "    elif 'hypertrophic cardiomyopathy' in row['description'].split('Keywords = ')[1]:\n",
    "        return 'HCM'\n",
    "    else:\n",
    "        return 9999\n",
    "\n",
    "experiments = {}\n",
    "for i, (idx, row) in enumerate(gse.phenotype_data.iterrows()):\n",
    "    tmp = {}\n",
    "    tmp['title'] = row['title'][3:]\n",
    "    tmp[\"Experiment\"] = idx\n",
    "    tmp['platform_id'] = row['platform_id']\n",
    "    tmp['description'] = row['description'].split('Keywords = ')[1]\n",
    "    tmp['status'] = status_extr(row)\n",
    "    experiments[i] = tmp\n",
    "experiments = pd.DataFrame(experiments).T\n",
    "\n",
    "tmp_exp = experiments[experiments['status'] != 9999][experiments['platform_id'] == 'GPL570']\n",
    "\n",
    "data_test = data_test.filter(tmp_exp['Experiment'])    #отбираем ту часть эксперимента, которая нам нужна, сделанная на GPL570. \n",
    "                                                    #Другая часть - исследование экспрессии микроРНК\n",
    "gsm_to_stat = dict(zip(tmp_exp['Experiment'], tmp_exp['status']))\n",
    "data_test.columns = [gsm_to_stat[i] for i in data_test.columns]"
   ]
  },
  {
   "cell_type": "code",
   "execution_count": 5,
   "metadata": {},
   "outputs": [],
   "source": [
    "# data_test в качестве индексов содержит probeset id, здесь перегоняем их в Gene Symbol \n",
    "\n",
    "data_test['index'] = data_test.index\n",
    "\n",
    "# annotate with GPL\n",
    "data_test = data_test.reset_index().merge(gse.gpls['GPL570'].table[[\"ID\", \"Gene Symbol\"]],\n",
    "                                left_on='index', right_on=\"ID\").set_index('index')\n",
    "del data_test[\"ID\"]\n",
    "# remove probes without ENTREZ\n",
    "data_test = data_test.dropna(subset=['Gene Symbol'])\n",
    "# remove probes with more than one gene assigned\n",
    "data_test = data_test[~data_test['Gene Symbol'].str.contains(\"///\")]\n",
    "# for each gene average LFC over probes\n",
    "data_test = data_test.groupby('Gene Symbol').median()"
   ]
  },
  {
   "cell_type": "code",
   "execution_count": 6,
   "metadata": {},
   "outputs": [
    {
     "name": "stdout",
     "output_type": "stream",
     "text": [
      "test: (21655, 16)\n",
      "train: (37846, 145)\n",
      "\n",
      "test: (14830, 16)\n",
      "train: (14830, 145)\n"
     ]
    }
   ],
   "source": [
    "print('test:', data_test.shape)\n",
    "print('train:', data_train.shape)\n",
    "\n",
    "# отбираем те гены, которые есть в обоих наборах\n",
    "set_test = set(data_test.index)\n",
    "gene_universe = set_test.intersection(data_train.index)\n",
    "\n",
    "data_train = data_train.filter(gene_universe, axis=0)\n",
    "data_test = data_test.filter(gene_universe, axis=0)\n",
    "\n",
    "print()\n",
    "print('test:', data_test.shape)\n",
    "print('train:', data_train.shape)"
   ]
  },
  {
   "cell_type": "code",
   "execution_count": 7,
   "metadata": {},
   "outputs": [],
   "source": [
    "class Data(object): \n",
    "    def __init__(self):\n",
    "        pass\n",
    "    \n",
    "Data.X = Data()\n",
    "Data.X.train = data_train\n",
    "Data.X.test = data_test\n",
    "Data.y = Data()\n",
    "Data.y.train = list(map(int, Data.X.train.columns == 'HCM'))\n",
    "Data.y.test = list(map(int, Data.X.test.columns == 'HCM'))"
   ]
  },
  {
   "cell_type": "code",
   "execution_count": 49,
   "metadata": {},
   "outputs": [],
   "source": [
    "#################################\n",
    "# Feature selection\n",
    "#################################"
   ]
  },
  {
   "cell_type": "code",
   "execution_count": null,
   "metadata": {},
   "outputs": [],
   "source": [
    "\"\"\"\n",
    "Главная идея:\n",
    "\n",
    "Выборка маленькая, поэтому не будем избегать влияния случайности, например фиксируя random_state, а будем пытаться эту случайность оседлать.\n",
    "\n",
    "Как будем отбирать фичи?\n",
    "\n",
    "1) Фичи будем отбирать на основе лог.регрессии.\n",
    "        а) подберем коэффициент L1-регуляризации\n",
    "        б) будем обучать 1000 моделей на бутстрепленных из X_train данных\n",
    "        в) фичи, которые попали в модель, которая хоть как-то работает (coef > 0) хоть в одной работающей (roc-auc > 0.7) моделе, будем сохранять в словарик\n",
    "\n",
    "2) Отобранные фичи упорядочим по их ценности, за которую примем произведение roc-auc модели, из которой пришла фича, coef и количества моделей, в которые фича была включена.\n",
    "                                            идея: чем в большее число хорошо работающих моделей включается фича - тем она ценнее\n",
    "\n",
    "3) Финально выберем какую-то долю из тех фичей, которые входят в топ-20 фичей упорядоченного списка\n",
    "\n",
    "\"\"\""
   ]
  },
  {
   "cell_type": "code",
   "execution_count": 8,
   "metadata": {},
   "outputs": [],
   "source": [
    "import pandas as pd\n",
    "import numpy as np\n",
    "from sklearn.model_selection import train_test_split, cross_val_score, GridSearchCV, RandomizedSearchCV\n",
    "from sklearn import metrics, linear_model, model_selection\n",
    "from sklearn.preprocessing import StandardScaler\n",
    "import matplotlib.pyplot as plt\n",
    "import shap\n",
    "import random\n",
    "from sklearn.manifold import MDS\n",
    "from collections import Counter\n",
    "from random import choices\n",
    "from itertools import compress\n",
    "\n",
    "roc_auc_scorer = metrics.make_scorer(metrics.roc_auc_score)\n",
    "scaler = StandardScaler()"
   ]
  },
  {
   "cell_type": "code",
   "execution_count": 9,
   "metadata": {},
   "outputs": [],
   "source": [
    "# train test split and scaling\n",
    "\n",
    "X_train, X_test, y_train, y_test = train_test_split(Data.X.train.transpose(), Data.y.train, test_size=0.2, random_state=42)\n",
    "X_train = scaler.fit_transform(X_train)\n",
    "X_test = scaler.transform(X_test)\n",
    "\n",
    "# возвращаем имена фичей\n",
    "X_train = pd.DataFrame(X_train, columns=Data.X.train.index)\n",
    "X_test = pd.DataFrame(X_test, columns=Data.X.train.index)"
   ]
  },
  {
   "cell_type": "code",
   "execution_count": 10,
   "metadata": {},
   "outputs": [],
   "source": [
    "C = np.array([0.2, 0.1, 0.05, 0.04, 0.03, 0.02, 0.01])"
   ]
  },
  {
   "cell_type": "code",
   "execution_count": 64,
   "metadata": {},
   "outputs": [
    {
     "name": "stdout",
     "output_type": "stream",
     "text": [
      "0\n",
      "1\n",
      "2\n",
      "3\n",
      "4\n",
      "5\n",
      "6\n",
      "7\n",
      "8\n",
      "9\n"
     ]
    },
    {
     "data": {
      "text/html": [
       "[<matplotlib.lines.Line2D object at 0x7fcb00b3a350>]"
      ],
      "text/plain": [
       "[<matplotlib.lines.Line2D at 0x7fcb00b3a350>]"
      ]
     },
     "execution_count": 64,
     "metadata": {},
     "output_type": "execute_result"
    },
    {
     "data": {
      "image/png": "[encoded data removed]",
      "text/plain": [
       "<Figure size 432x288 with 1 Axes>"
      ]
     },
     "metadata": {
      "needs_background": "light"
     },
     "output_type": "display_data"
    }
   ],
   "source": [
    "# Подбираем коэффициент регуляризации. Выбираем тот, после которого всё качество идет по п*зде\n",
    "\n",
    "result_df_train = pd.DataFrame()\n",
    "result_df_test = pd.DataFrame()\n",
    "\n",
    "\n",
    "# 10 раз шатаем модель по разным random_state, потом усредняем по смотрим на результат по коэффициентам\n",
    "\n",
    "for a in range(0,10):\n",
    "    print(a)\n",
    "    random_state = random.randint(1,100)\n",
    "    roc_auc_train = list()\n",
    "    roc_auc_test = list()\n",
    "    for i in C:\n",
    "        linear_regressor = linear_model.LogisticRegression(penalty='l1', C=i, solver='liblinear', random_state=random_state)\n",
    "        linear_regressor.fit(X_train, y_train)\n",
    "        roc_auc_train.append(metrics.roc_auc_score(y_train, linear_regressor.predict(X_train)))\n",
    "        roc_auc_test.append(metrics.roc_auc_score(y_test, linear_regressor.predict(X_test)))\n",
    "    result_df_train[a] = roc_auc_train\n",
    "    result_df_test[a] = roc_auc_test\n",
    "\n",
    "plt.plot(result_df_train.apply(np.mean, axis=1))\n",
    "plt.plot(result_df_test.apply(np.mean, axis=1))"
   ]
  },
  {
   "cell_type": "code",
   "execution_count": 11,
   "metadata": {},
   "outputs": [],
   "source": [
    "class FeatureExtraction(object):\n",
    "    \n",
    "    \"\"\"\n",
    "    Класс для экстракции фичей. Главная идея не фиксировать случайность, а оседлать её :)\n",
    "    \n",
    "    \"\"\"\n",
    "    \n",
    "    \n",
    "    def __init__(self, ):\n",
    "        pass\n",
    "        \n",
    "    def fit(self, n_iter, X_train, y_train, X_test, y_test, C=0.03):\n",
    "        \n",
    "        \"\"\"\n",
    "        Будем n_iter раз бутстрепить сбалансированную train выборку из X_train.\n",
    "        Обучаем лог.рег. с L1-решуляризацией, с коэффициентом как мы отобрали выше.\n",
    "        Тестим на X_test, значение добавляем в roc_auc_list\n",
    "        \n",
    "        Если на X_test модель работает круче 0.7, то: \n",
    "            1) ненулевые фичи модели добавляем в словарик отобранных фичей feature_dict\n",
    "            2) обновляем число фичей в перменной len_best_feature = len(feature_dict.keys())\n",
    "        Если нет, то:\n",
    "            3) дублируем последнее значение в len_best_feature, т.к. число фичей не изменилось\n",
    "        \"\"\"\n",
    "        \n",
    "        len_best_feature = [0] # заводим лист, в котором будем отслеживать изменение количества фичей\n",
    "        roc_auc_list = list() # аналогично, отслеживаем как меняется roc-auc, так для интереса\n",
    "        feature_dict = dict() # # словарь \"ген: log.reg.coef\"\n",
    "        \n",
    "        for i in range(0, n_iter):\n",
    "\n",
    "            random_state = random.randint(0, 500) # явным образом шатаем рандомстейт\n",
    "\n",
    "            # чтобы получить сбаланнсированную выборку, бутстрепим отдельно семплы из контроля и из опыта\n",
    "\n",
    "            mask = np.array(y_train) == 0\n",
    "\n",
    "            CTRL_rows = list(compress(range(0, len(mask)), mask))\n",
    "            HCM_rows = list(compress(range(0, len(mask)), mask == False))\n",
    "\n",
    "            _HCM_rows = choices(HCM_rows, k=50) # бутстрепим номера строк из группы больных\n",
    "            _CTRL_rows = choices(CTRL_rows, k=50) # бутстрепим номера строк из группы здоровых\n",
    "\n",
    "            # объединяем это всё дело обратно\n",
    "\n",
    "            _X_train = pd.DataFrame(X_train).iloc[_HCM_rows + _CTRL_rows,:]\n",
    "            _y_train = np.array(y_train)[_HCM_rows + _CTRL_rows]\n",
    "\n",
    "            # обучаем лог.рег. с ранее отобранным коэффициентом регуляризации\n",
    "\n",
    "            linear_regressor = linear_model.LogisticRegression(penalty='l1', C=C, solver='liblinear', \n",
    "                                                               random_state=random_state)\n",
    "            linear_regressor.fit(_X_train, _y_train)\n",
    "\n",
    "            # тестим\n",
    "\n",
    "            roc_auc = metrics.roc_auc_score(y_score=linear_regressor.predict(X_test), y_true=y_test)\n",
    "            roc_auc_list.append(roc_auc)\n",
    "\n",
    "            # далее отбираем фичи из моделей, которые хоть как-то работают (roc_auc > 0.7)\n",
    "\n",
    "            if roc_auc > 0.7:\n",
    "                # отбираем смысловые фичи\n",
    "                mask = linear_regressor.coef_ != 0 \n",
    "                genes = X_train.columns[mask[0]]\n",
    "                values = linear_regressor.coef_[mask]\n",
    "\n",
    "                _feature_dict = dict(zip(genes, abs(values)*roc_auc)) #делаем временный словарь \"ген: его ценность\"\n",
    "\n",
    "                # обнавляем глобальный словарь фичей\n",
    "                for gene, values in _feature_dict.items():\n",
    "                    if gene in feature_dict:\n",
    "                        feature_dict[gene].append(values)\n",
    "                    else:\n",
    "                        feature_dict[gene] = [values]\n",
    "\n",
    "                len_best_feature.append(len(feature_dict.keys()))\n",
    "            \n",
    "            else:\n",
    "                # если модель была говёной, то просто дублируем предыдущее значение. Ну, число фичей то не изменилось :)\n",
    "                len_best_feature.append(len_best_feature[-1]) \n",
    "        \n",
    "        self.len_best_feature = len_best_feature\n",
    "        self.feature_dict = feature_dict\n",
    "        self.roc_auc_list = roc_auc_list\n",
    "    "
   ]
  },
  {
   "cell_type": "code",
   "execution_count": 146,
   "metadata": {},
   "outputs": [],
   "source": [
    "fe = FeatureExtraction()"
   ]
  },
  {
   "cell_type": "code",
   "execution_count": 151,
   "metadata": {},
   "outputs": [],
   "source": [
    "fe.fit(1000, X_train, y_train, X_test, y_test)"
   ]
  },
  {
   "cell_type": "code",
   "execution_count": 154,
   "metadata": {},
   "outputs": [
    {
     "data": {
      "text/html": [
       "[<matplotlib.lines.Line2D object at 0x7fcb04b54150>]"
      ],
      "text/plain": [
       "[<matplotlib.lines.Line2D at 0x7fcb04b54150>]"
      ]
     },
     "execution_count": 154,
     "metadata": {},
     "output_type": "execute_result"
    },
    {
     "data": {
      "image/png": "[encoded data removed]",
      "text/plain": [
       "<Figure size 432x288 with 1 Axes>"
      ]
     },
     "metadata": {
      "needs_background": "light"
     },
     "output_type": "display_data"
    }
   ],
   "source": [
    "#посмотрим, как с каждой итерацией нарастают фичи\n",
    "\n",
    "plt.plot(fe.len_best_feature)"
   ]
  },
  {
   "cell_type": "code",
   "execution_count": 153,
   "metadata": {},
   "outputs": [
    {
     "data": {
      "text/html": [
       "[<matplotlib.lines.Line2D object at 0x7fcb047b5590>]"
      ],
      "text/plain": [
       "[<matplotlib.lines.Line2D at 0x7fcb047b5590>]"
      ]
     },
     "execution_count": 153,
     "metadata": {},
     "output_type": "execute_result"
    },
    {
     "data": {
      "image/png": "[encoded data removed]",
      "text/plain": [
       "<Figure size 432x288 with 1 Axes>"
      ]
     },
     "metadata": {
      "needs_background": "light"
     },
     "output_type": "display_data"
    }
   ],
   "source": [
    "# посмотрим как выглядит производная, видно, что, в целом, после 300 итерации прирост фичей постоянный и монотонный, \n",
    "# по одной фиче за итерацию. Ну, и всё чаще встречаются нули, т.е. новых фичей не приростает\n",
    "plt.plot(np.diff(fe.len_best_feature))"
   ]
  },
  {
   "cell_type": "code",
   "execution_count": 91,
   "metadata": {},
   "outputs": [
    {
     "data": {
      "text/plain": [
       "(array([244.,   7.,  10.,   1.,   2.,   1.,   1.,   1.,   0.,   1.]),\n",
       " array([  1. ,  64.1, 127.2, 190.3, 253.4, 316.5, 379.6, 442.7, 505.8,\n",
       "        568.9, 632. ]),\n",
       " <a list of 10 Patch objects>)"
      ]
     },
     "execution_count": 91,
     "metadata": {},
     "output_type": "execute_result"
    },
    {
     "data": {
      "image/png": "[encoded data removed]",
      "text/plain": [
       "<Figure size 432x288 with 1 Axes>"
      ]
     },
     "metadata": {
      "needs_background": "light"
     },
     "output_type": "display_data"
    }
   ],
   "source": [
    "# а вот так выглядит распределение фичей по частоте их включения в модельки.\n",
    "# больше 200 фичей включались только один раз, ну, очевидно, что это мусор.\n",
    "\n",
    "feature_distr = list(map(lambda x: len(fe.feature_dict[x]), fe.feature_dict))\n",
    "plt.hist(feature_distr)"
   ]
  },
  {
   "cell_type": "code",
   "execution_count": 12,
   "metadata": {},
   "outputs": [],
   "source": [
    "\"\"\"\n",
    "Идея: повторим экстракцию фичей 40 раз (вычислительно емко получается для ноутбучика), \n",
    "отсортируем каждый из получившихся наборов по важности фичей, найдем размер окна для отбора n-топ фичей, \n",
    "в котором состав фичей минимально изменяется от набора к набору. А потом отберем те фичи, которые всегда встречаются в окне этого размера.\n",
    "\"\"\"\n",
    "\n",
    "list_feature_dicts = list()\n",
    "for i in range(0,40):\n",
    "    fe = FeatureExtraction()\n",
    "    fe.fit(300, \n",
    "           X_train, y_train, X_test, y_test)\n",
    "    list_feature_dicts.append(fe.feature_dict)"
   ]
  },
  {
   "cell_type": "code",
   "execution_count": 13,
   "metadata": {},
   "outputs": [],
   "source": [
    "lfd = list_feature_dicts"
   ]
  },
  {
   "cell_type": "code",
   "execution_count": 14,
   "metadata": {},
   "outputs": [],
   "source": [
    "# удаляем фичи, которые были включены только в одну модель, как сказали выше - это мусор\n",
    "\n",
    "for i in range(0, len(lfd)):\n",
    "    d = lfd[i]\n",
    "    lfd[i] = {k : v for k, v in d.items() if len(v)>1}"
   ]
  },
  {
   "cell_type": "code",
   "execution_count": 124,
   "metadata": {},
   "outputs": [],
   "source": [
    "#сортируем фичи в порядке убывания их значимости\n",
    "#значимость считаем как (число включений в моедль)*(roc_auc_модели)*(abs(coef_))\n",
    "\n",
    "lfd_sort = list()\n",
    "for d in lfd:\n",
    "    lfd_sort.append(dict(sorted(d.items(), key=lambda item: len(item[1])*np.median(item[1]), reverse=True)))"
   ]
  },
  {
   "cell_type": "code",
   "execution_count": 125,
   "metadata": {},
   "outputs": [],
   "source": [
    "\"\"\"\n",
    "Идея:\n",
    "\n",
    "Хотим выбрать топ n генов, который минимально изменяется от набора в lfd к набору (с точностью до перестановки). \n",
    "Очевидно 1 < n < минимального набора генов.\n",
    "\n",
    "\"\"\"\n",
    "\n",
    "result = list()\n",
    "\n",
    "min_len = min(list(map(lambda x: len(x.keys()), lfd_sort))) # минимальная длина словаря feature_dict \n",
    "\n",
    "for yeld in range(1, min_len):\n",
    "    \n",
    "    similarity = np.zeros((20,20))\n",
    "    \n",
    "    for i in range(0,20):\n",
    "        for j in range(0,20):\n",
    "            one_set = set(list(lfd_sort[i].keys())[:yeld])\n",
    "            two_set = set(list(lfd_sort[j].keys())[:yeld])\n",
    "            sim = len(one_set.intersection(two_set))/yeld\n",
    "            similarity[i,j] = sim\n",
    "    \n",
    "    result.append(np.mean(similarity))"
   ]
  },
  {
   "cell_type": "code",
   "execution_count": 126,
   "metadata": {},
   "outputs": [
    {
     "data": {
      "text/html": [
       "[<matplotlib.lines.Line2D object at 0x7fea36bb0490>]"
      ],
      "text/plain": [
       "[<matplotlib.lines.Line2D at 0x7fea36bb0490>]"
      ]
     },
     "execution_count": 126,
     "metadata": {},
     "output_type": "execute_result"
    },
    {
     "data": {
      "image/png": "[encoded data removed]",
      "text/plain": [
       "<Figure size 504x504 with 1 Axes>"
      ]
     },
     "metadata": {
      "needs_background": "light"
     },
     "output_type": "display_data"
    }
   ],
   "source": [
    "plt.plot(result)\n",
    "\n",
    "\"\"\"\n",
    "В окне до 20 фичей всё немного колабисит. Очевидно топовые фичи прыгают по позициям от 0 до 20. \n",
    "После 20 график стабильно падает, стало быть на следующих позициях уже становится всё больше и больше рандома.\n",
    "Найдем точку перелома (она оказалась равна 18), и дальше будем оперировать окном этого размера.\n",
    "\"\"\""
   ]
  },
  {
   "cell_type": "code",
   "execution_count": 232,
   "metadata": {},
   "outputs": [
    {
     "data": {
      "text/plain": [
       "array([False, False, False,  True, False, False, False, False, False,\n",
       "       False])"
      ]
     },
     "execution_count": 232,
     "metadata": {},
     "output_type": "execute_result"
    }
   ],
   "source": [
    "result[15:25] == max(result[15:25])"
   ]
  },
  {
   "cell_type": "code",
   "execution_count": 169,
   "metadata": {},
   "outputs": [],
   "source": [
    "#отбираем гены, которые входят в топ 20 словарей\n",
    "TOP = 18\n",
    "\n",
    "top_20_gene_list = map(lambda x: list(x.keys())[:TOP], lfd_sort)\n",
    "\n",
    "top_gene = set()\n",
    "for i in top_20_gene_list:\n",
    "    top_gene.update(i)"
   ]
  },
  {
   "cell_type": "code",
   "execution_count": 170,
   "metadata": {},
   "outputs": [],
   "source": [
    "gene_weight = dict()\n",
    "for gene in top_gene:\n",
    "    value = sum(list(map(lambda x: gene in list(x.keys())[:TOP], lfd_sort)))/len(lfd_sort)\n",
    "    gene_weight[gene] = value"
   ]
  },
  {
   "cell_type": "code",
   "execution_count": 171,
   "metadata": {},
   "outputs": [
    {
     "data": {
      "text/plain": [
       "(array([ 4.,  2.,  2.,  0.,  0.,  1.,  0.,  0.,  4., 13.]),\n",
       " array([0.025 , 0.1225, 0.22  , 0.3175, 0.415 , 0.5125, 0.61  , 0.7075,\n",
       "        0.805 , 0.9025, 1.    ]),\n",
       " <a list of 10 Patch objects>)"
      ]
     },
     "execution_count": 171,
     "metadata": {},
     "output_type": "execute_result"
    },
    {
     "data": {
      "image/png": "[encoded data removed]",
      "text/plain": [
       "<Figure size 504x504 with 1 Axes>"
      ]
     },
     "metadata": {
      "needs_background": "light"
     },
     "output_type": "display_data"
    }
   ],
   "source": [
    "plt.hist(list(gene_weight.values()))"
   ]
  },
  {
   "cell_type": "code",
   "execution_count": 172,
   "metadata": {},
   "outputs": [],
   "source": [
    "best_features = [k for k in gene_weight.keys() if gene_weight[k] > 0.95]"
   ]
  },
  {
   "cell_type": "code",
   "execution_count": 173,
   "metadata": {},
   "outputs": [
    {
     "name": "stdout",
     "output_type": "stream",
     "text": [
      "FCN3 MT1X PROS1 MYH6 CDC42EP4 ZFP36 PRKCD LYVE1 CEBPD MT1M RASD1 S1PR3\n"
     ]
    }
   ],
   "source": [
    "print(*best_features)"
   ]
  },
  {
   "cell_type": "code",
   "execution_count": null,
   "metadata": {},
   "outputs": [],
   "source": [
    "#################################\n",
    "# model train\n",
    "#################################"
   ]
  },
  {
   "cell_type": "code",
   "execution_count": 1,
   "metadata": {},
   "outputs": [],
   "source": [
    "import pandas as pd\n",
    "import numpy as np\n",
    "import matplotlib.pyplot as plt\n",
    "from sklearn.preprocessing import StandardScaler\n",
    "from sklearn.manifold import MDS\n",
    "from sklearn.preprocessing import Normalizer\n",
    "from sklearn.ensemble import StackingClassifier\n",
    "from sklearn.linear_model import LogisticRegression\n",
    "from sklearn.pipeline import make_pipeline\n",
    "from sklearn.model_selection import train_test_split, cross_val_score\n",
    "from sklearn.ensemble import RandomForestClassifier\n",
    "from sklearn import metrics\n",
    "from sklearn.preprocessing import Normalizer\n",
    "\n",
    "# для визуализации распределения семплов в пространстве признаков\n",
    "def plot_mds(X, target, colors = ['green', 'red'], labels = ['CTRL', 'HCM']):\n",
    "    scaler = StandardScaler()\n",
    "    X_scaled = scaler.fit_transform(X)\n",
    "    mds = MDS(2,random_state=0)\n",
    "    X_2d = mds.fit_transform(X_scaled)\n",
    "    \n",
    "    plt.rcParams['figure.figsize'] = [7, 7]\n",
    "    plt.rc('font', size=14)\n",
    "    for i in np.unique(target):\n",
    "        subset = X_2d[target == i]\n",
    "        x = [row[0] for row in subset]\n",
    "        y = [row[1] for row in subset]\n",
    "        plt.scatter(x, y, c=colors[i], label = labels[i])\n",
    "    plt.legend()\n",
    "    plt.show()\n",
    "\n",
    "scaler = StandardScaler()\n",
    "normalizer = Normalizer()\n",
    "\n",
    "def StandartScaling(X):\n",
    "    \n",
    "    scaler = StandardScaler()\n",
    "    \"\"\"\n",
    "    X - matrix, features in columns, samples in rows\n",
    "    \"\"\"\n",
    "    \n",
    "    colnames = X.columns \n",
    "    X = X.transpose()   # StandardScaler работает по столбцам, поэтому транспонируем, чтобы в столбцах оказались семплы\n",
    "    X = scaler.fit_transform(X)\n",
    "    X = pd.DataFrame(X.transpose(), columns=colnames)\n",
    "    return(X)"
   ]
  },
  {
   "cell_type": "code",
   "execution_count": 2,
   "metadata": {},
   "outputs": [
    {
     "name": "stdout",
     "output_type": "stream",
     "text": [
      "(145, 12) (16, 12)\n"
     ]
    }
   ],
   "source": [
    "best_features = ['FCN3', 'MT1X', 'PROS1', 'MYH6', 'CDC42EP4', 'ZFP36', 'PRKCD', 'LYVE1', 'CEBPD', 'MT1M', 'RASD1', 'S1PR3']\n",
    "\n",
    "#X = Data.X.train.transpose().filter(best_features, axis=1)\n",
    "#X_test_out = Data.X.test.transpose().filter(best_features, axis=1)\n",
    "#y = Data.y.train\n",
    "#y_test_out = Data.y.test\n",
    "\n",
    "X = pd.read_csv('./X_train.csv', index_col=0).transpose().filter(best_features, axis=1)\n",
    "X_test_out = pd.read_csv('./X_test_out.csv', index_col=0).transpose().filter(best_features, axis=1)\n",
    "\n",
    "y = list(pd.read_csv('./y_train.csv').iloc[:,1])\n",
    "y_test_out = list(pd.read_csv('./y_test_out.csv').iloc[:,1])\n",
    "\n",
    "print(X.shape, X_test_out.shape)"
   ]
  },
  {
   "cell_type": "code",
   "execution_count": 3,
   "metadata": {},
   "outputs": [
    {
     "data": {
      "image/png": "[encoded data removed]",
      "text/plain": [
       "<Figure size 504x504 with 1 Axes>"
      ]
     },
     "metadata": {
      "needs_background": "light"
     },
     "output_type": "display_data"
    }
   ],
   "source": [
    "plot_mds(X_test_out, y_test_out)"
   ]
  },
  {
   "cell_type": "code",
   "execution_count": 4,
   "metadata": {},
   "outputs": [
    {
     "data": {
      "image/png": "[encoded data removed]",
      "text/plain": [
       "<Figure size 504x504 with 1 Axes>"
      ]
     },
     "metadata": {
      "needs_background": "light"
     },
     "output_type": "display_data"
    }
   ],
   "source": [
    "plot_mds(X, y)"
   ]
  },
  {
   "cell_type": "code",
   "execution_count": 5,
   "metadata": {},
   "outputs": [
    {
     "data": {
      "image/png": "[encoded data removed]",
      "text/plain": [
       "<Figure size 504x504 with 1 Axes>"
      ]
     },
     "metadata": {
      "needs_background": "light"
     },
     "output_type": "display_data"
    }
   ],
   "source": [
    "plot_mds(pd.concat([X, X_test_out]), y + y_test_out)"
   ]
  },
  {
   "cell_type": "code",
   "execution_count": 8,
   "metadata": {},
   "outputs": [
    {
     "data": {
      "image/png": "[encoded data removed]",
      "text/plain": [
       "<Figure size 504x504 with 1 Axes>"
      ]
     },
     "metadata": {
      "needs_background": "light"
     },
     "output_type": "display_data"
    }
   ],
   "source": [
    "colnames = X.columns\n",
    "X_norm = pd.DataFrame(normalizer.fit_transform(X), columns=colnames)\n",
    "X_test_out_norm = pd.DataFrame(normalizer.fit_transform(X_test_out), columns=colnames)\n",
    "plot_mds(pd.concat([X_norm, X_test_out_norm]), y + y_test_out)"
   ]
  },
  {
   "cell_type": "code",
   "execution_count": 85,
   "metadata": {},
   "outputs": [
    {
     "data": {
      "text/html": [
       "[<matplotlib.lines.Line2D object at 0x7fbb7a5eae50>]"
      ],
      "text/plain": [
       "[<matplotlib.lines.Line2D at 0x7fbb7a5eae50>]"
      ]
     },
     "execution_count": 85,
     "metadata": {},
     "output_type": "execute_result"
    },
    {
     "data": {
      "image/png": "[encoded data removed]",
      "text/plain": [
       "<Figure size 432x288 with 1 Axes>"
      ]
     },
     "metadata": {
      "needs_background": "light"
     },
     "output_type": "display_data"
    }
   ],
   "source": [
    "\"\"\"\n",
    "\n",
    "##\n",
    "## Тюнинг случайного леса\n",
    "##\n",
    "##\n",
    "\n",
    "class stack_model(object):\n",
    "    \n",
    "    def __init__(self, rf_params):\n",
    "        \n",
    "        self.rf_params = rf_params\n",
    "\n",
    "        self.estimators = [\n",
    "            ('rf', make_pipeline(StandardScaler(),\n",
    "                                 RandomForestClassifier(**self.rf_params))),\n",
    "            ('logreg', make_pipeline(StandardScaler(),\n",
    "                                     LogisticRegression(solver='liblinear', random_state=42, class_weight='balanced', \n",
    "                                                        penalty='l2', C=0.05)))\n",
    "             ]\n",
    "        self.clf = StackingClassifier(estimators=self.estimators, \n",
    "                                 final_estimator=LogisticRegression(penalty='l2', C=1), \n",
    "                                 passthrough = False)\n",
    "\n",
    "X_train, X_test, y_train, y_test = train_test_split(X, y, test_size=0.2, random_state=42)\n",
    "\n",
    "test_res = list()\n",
    "test_out = list()\n",
    "train_res = list()\n",
    "\n",
    "for i in range(1,10):\n",
    "    d = {'random_state': 42, 'n_estimators': 50, 'max_samples': 0.5, 'max_features': 'auto', \n",
    "                     'max_depth': i, 'class_weight': 'balanced', 'bootstrap': 'True'}\n",
    "    model = stack_model(d)\n",
    "    clfStack = model.clf.fit(X_train, y_train)\n",
    "    \n",
    "    train_res.append(metrics.roc_auc_score(y_score=clfStack.predict(X_train), y_true=y_train))\n",
    "    test_out.append(metrics.roc_auc_score(y_score=clfStack.predict(X_test_out), y_true=y_test_out))\n",
    "    test_res.append(metrics.roc_auc_score(y_score=clfStack.predict(X_test), y_true=y_test))\n",
    "\n",
    "plt.plot(train_res)\n",
    "plt.plot(test_out)\n",
    "plt.plot(test_res)\n",
    "\n",
    "\"\"\""
   ]
  },
  {
   "cell_type": "code",
   "execution_count": 9,
   "metadata": {},
   "outputs": [],
   "source": [
    "rf_params = {'random_state': 42, 'n_estimators': 50, 'max_samples': 0.5, 'max_features': 'auto', \n",
    "             'max_depth': 3, 'class_weight': 'balanced', 'bootstrap': 'True'}\n",
    "\n",
    "estimators = [\n",
    "    ('rf', make_pipeline(Normalizer(),\n",
    "                         RandomForestClassifier(**rf_params))),\n",
    "    ('logreg', make_pipeline(Normalizer(),\n",
    "                             StandardScaler(),\n",
    "                             LogisticRegression(solver='liblinear', random_state=42, class_weight='balanced', \n",
    "                                                penalty='l2', C=0.05)))\n",
    "     ]\n",
    "clf = StackingClassifier(estimators=estimators, \n",
    "                         final_estimator=LogisticRegression(penalty='l2', C=1), \n",
    "                         passthrough = False)"
   ]
  },
  {
   "cell_type": "code",
   "execution_count": 10,
   "metadata": {},
   "outputs": [
    {
     "name": "stdout",
     "output_type": "stream",
     "text": [
      "train: 1.0\n",
      "test_in: 0.9444444444444444\n",
      "test_out: 0.9545454545454545\n"
     ]
    }
   ],
   "source": [
    "X_train, X_test, y_train, y_test = train_test_split(X, y, test_size=0.2, random_state=42)\n",
    "\n",
    "clfStack = clf.fit(X_train, y_train)\n",
    "\n",
    "print(\"train:\", metrics.roc_auc_score(y_score=clfStack.predict(X_train), \n",
    "                                      y_true=y_train))\n",
    "print('test_in:', metrics.roc_auc_score(y_score=clfStack.predict(X_test), \n",
    "                                           y_true=y_test))\n",
    "print(\"test_out:\", metrics.roc_auc_score(y_score=clfStack.predict(X_test_out), \n",
    "                                     y_true=y_test_out))"
   ]
  },
  {
   "cell_type": "code",
   "execution_count": 11,
   "metadata": {},
   "outputs": [
    {
     "data": {
      "text/plain": [
       "[<matplotlib.lines.Line2D at 0x7fdd28dddb10>]"
      ]
     },
     "execution_count": 11,
     "metadata": {},
     "output_type": "execute_result"
    },
    {
     "data": {
      "image/png": "[encoded data removed]",
      "text/plain": [
       "<Figure size 504x504 with 1 Axes>"
      ]
     },
     "metadata": {
      "needs_background": "light"
     },
     "output_type": "display_data"
    }
   ],
   "source": [
    "plt.plot(clf.estimators_[0].predict_proba(X_test_out)[:,1], 'blue')\n",
    "plt.plot(clf.estimators_[1].predict_proba(X_test_out)[:,1], 'red')\n",
    "plt.plot(clf.predict_proba(X_test_out)[:,1], 'green')"
   ]
  },
  {
   "cell_type": "code",
   "execution_count": 12,
   "metadata": {},
   "outputs": [],
   "source": [
    "#################################\n",
    "# interpretaion\n",
    "#################################"
   ]
  },
  {
   "cell_type": "code",
   "execution_count": 13,
   "metadata": {},
   "outputs": [],
   "source": [
    "import shap"
   ]
  },
  {
   "cell_type": "code",
   "execution_count": 14,
   "metadata": {},
   "outputs": [],
   "source": [
    "X_train_summary = shap.kmeans(X_train, 10)\n",
    "ex = shap.KernelExplainer(clfStack.predict, X_train_summary)"
   ]
  },
  {
   "cell_type": "code",
   "execution_count": 15,
   "metadata": {},
   "outputs": [
    {
     "data": {
      "application/vnd.jupyter.widget-view+json": {
       "model_id": "181a91ecd8414b1698999812fac1c863",
       "version_major": 2,
       "version_minor": 0
      },
      "text/plain": [
       "  0%|          | 0/16 [00:00<?, ?it/s]"
      ]
     },
     "metadata": {},
     "output_type": "display_data"
    },
    {
     "name": "stderr",
     "output_type": "stream",
     "text": [
      "l1_reg=\"auto\" is deprecated and in the next version (v0.29) the behavior will change from a conditional use of AIC to simply \"num_features(10)\"!\n",
      "l1_reg=\"auto\" is deprecated and in the next version (v0.29) the behavior will change from a conditional use of AIC to simply \"num_features(10)\"!\n",
      "l1_reg=\"auto\" is deprecated and in the next version (v0.29) the behavior will change from a conditional use of AIC to simply \"num_features(10)\"!\n",
      "l1_reg=\"auto\" is deprecated and in the next version (v0.29) the behavior will change from a conditional use of AIC to simply \"num_features(10)\"!\n",
      "l1_reg=\"auto\" is deprecated and in the next version (v0.29) the behavior will change from a conditional use of AIC to simply \"num_features(10)\"!\n",
      "l1_reg=\"auto\" is deprecated and in the next version (v0.29) the behavior will change from a conditional use of AIC to simply \"num_features(10)\"!\n",
      "l1_reg=\"auto\" is deprecated and in the next version (v0.29) the behavior will change from a conditional use of AIC to simply \"num_features(10)\"!\n",
      "l1_reg=\"auto\" is deprecated and in the next version (v0.29) the behavior will change from a conditional use of AIC to simply \"num_features(10)\"!\n",
      "l1_reg=\"auto\" is deprecated and in the next version (v0.29) the behavior will change from a conditional use of AIC to simply \"num_features(10)\"!\n",
      "l1_reg=\"auto\" is deprecated and in the next version (v0.29) the behavior will change from a conditional use of AIC to simply \"num_features(10)\"!\n",
      "l1_reg=\"auto\" is deprecated and in the next version (v0.29) the behavior will change from a conditional use of AIC to simply \"num_features(10)\"!\n",
      "l1_reg=\"auto\" is deprecated and in the next version (v0.29) the behavior will change from a conditional use of AIC to simply \"num_features(10)\"!\n",
      "l1_reg=\"auto\" is deprecated and in the next version (v0.29) the behavior will change from a conditional use of AIC to simply \"num_features(10)\"!\n",
      "l1_reg=\"auto\" is deprecated and in the next version (v0.29) the behavior will change from a conditional use of AIC to simply \"num_features(10)\"!\n",
      "l1_reg=\"auto\" is deprecated and in the next version (v0.29) the behavior will change from a conditional use of AIC to simply \"num_features(10)\"!\n",
      "l1_reg=\"auto\" is deprecated and in the next version (v0.29) the behavior will change from a conditional use of AIC to simply \"num_features(10)\"!\n"
     ]
    },
    {
     "data": {
      "text/html": [
       "\n",
       "<div id='iDAPXREEJB6ZKU4ZEFKAL'>\n",
       "<div style='color: #900; text-align: center;'>\n",
       "  <b>Visualization omitted, Javascript library not loaded!</b><br>\n",
       "  Have you run `initjs()` in this notebook? If this notebook was from another\n",
       "  user you must also trust this notebook (File -> Trust notebook). If you are viewing\n",
       "  this notebook on github the Javascript has been stripped for security. If you are using\n",
       "  JupyterLab this error is because a JupyterLab extension has not yet been written.\n",
       "</div></div>\n",
       " <script>\n",
       "   if (window.SHAP) SHAP.ReactDom.render(\n",
       "    SHAP.React.createElement(SHAP.AdditiveForceArrayVisualizer, {\"outNames\": [\"model output value\"], \"baseValue\": 0.7672413793103448, \"link\": \"identity\", \"featureNames\": [\"FCN3\", \"MT1X\", \"PROS1\", \"MYH6\", \"CDC42EP4\", \"ZFP36\", \"PRKCD\", \"LYVE1\", \"CEBPD\", \"MT1M\", \"RASD1\", \"S1PR3\"], \"explanations\": [{\"outValue\": 0.0, \"simIndex\": 14.0, \"features\": {\"0\": {\"effect\": -0.11465943480093038, \"value\": 2109.3}, \"1\": {\"effect\": -0.28180774171520373, \"value\": 11589.4}, \"2\": {\"effect\": 0.18915209887859352, \"value\": 2770.8}, \"3\": {\"effect\": -0.27879161112914014, \"value\": 26159.6}, \"4\": {\"effect\": 0.07927899329266519, \"value\": 1574.3}, \"5\": {\"effect\": -0.08516310501092528, \"value\": 2487.9}, \"6\": {\"effect\": 0.028636687381087045, \"value\": 267.9}, \"7\": {\"effect\": -0.08690080818036827, \"value\": 1152.95}, \"8\": {\"effect\": -0.0807532936750125, \"value\": 2321.4}, \"9\": {\"effect\": -0.11102801763733822, \"value\": 1289.6}, \"10\": {\"effect\": -0.12540410620674225, \"value\": 3229.5}, \"11\": {\"effect\": 0.10019895949297031, \"value\": 1234.3}}}, {\"outValue\": 0.0, \"simIndex\": 8.0, \"features\": {\"0\": {\"effect\": -0.12548071836086783, \"value\": 2250.0}, \"1\": {\"effect\": -0.11203160598719464, \"value\": 5862.35}, \"2\": {\"effect\": 0.3445391143330205, \"value\": 3276.7}, \"3\": {\"effect\": -0.6508453363684038, \"value\": 23277.6}, \"4\": {\"effect\": 0.06373267440746494, \"value\": 1192.8}, \"5\": {\"effect\": -0.10935495390919026, \"value\": 2903.9}, \"6\": {\"effect\": 0.041344979772029444, \"value\": 333.4}, \"7\": {\"effect\": -0.09495185452508748, \"value\": 1274.05}, \"8\": {\"effect\": -0.10718106593202614, \"value\": 3420.3}, \"9\": {\"effect\": -0.07867194655374854, \"value\": 439.9}, \"10\": {\"effect\": -0.08643321717110153, \"value\": 1216.1}, \"11\": {\"effect\": 0.1480925509847606, \"value\": 1994.3}}}, {\"outValue\": 2.220446049250313e-16, \"simIndex\": 13.0, \"features\": {\"0\": {\"effect\": -0.1553521410640099, \"value\": 2446.4}, \"1\": {\"effect\": -0.23607786864445024, \"value\": 7245.15}, \"2\": {\"effect\": 0.16927073644173668, \"value\": 1787.4}, \"3\": {\"effect\": -0.2908033884842566, \"value\": 27761.5}, \"4\": {\"effect\": 0.07298606030829485, \"value\": 1011.1}, \"5\": {\"effect\": -0.12923478912746866, \"value\": 2978.6}, \"6\": {\"effect\": 0.05295865917345266, \"value\": 332.1}, \"7\": {\"effect\": -0.07271810793907157, \"value\": 449.4}, \"8\": {\"effect\": -0.1309824246425108, \"value\": 3126.4500000000007}, \"9\": {\"effect\": -0.1055030030477227, \"value\": 968.9}, \"10\": {\"effect\": -0.11729060996916257, \"value\": 1678.5}, \"11\": {\"effect\": 0.17550549768482426, \"value\": 2087.6}}}, {\"outValue\": 1.0, \"simIndex\": 3.0, \"features\": {\"0\": {\"effect\": -0.09112969684042872, \"value\": 543.5}, \"1\": {\"effect\": -0.12480295989786312, \"value\": 3330.45}, \"2\": {\"effect\": 0.8467499546067111, \"value\": 7343.1}, \"3\": {\"effect\": -0.13389642478615718, \"value\": 4447.5}, \"4\": {\"effect\": 0.08037802108367843, \"value\": 819.5}, \"5\": {\"effect\": -0.1308489258458131, \"value\": 2020.8}, \"6\": {\"effect\": 0.05789306052151192, \"value\": 221.9}, \"7\": {\"effect\": -0.0933331418377599, \"value\": 698.65}, \"8\": {\"effect\": -0.12732879685717735, \"value\": 2901.45}, \"9\": {\"effect\": -0.07003682257510419, \"value\": 272.0}, \"10\": {\"effect\": -0.07434731360205456, \"value\": 473.0}, \"11\": {\"effect\": 0.09346166672011191, \"value\": 643.7}}}, {\"outValue\": 2.220446049250313e-16, \"simIndex\": 7.0, \"features\": {\"0\": {\"effect\": -0.09360107292409775, \"value\": 1374.7}, \"1\": {\"effect\": -0.1231045105032541, \"value\": 4945.1}, \"2\": {\"effect\": 0.3505738668619541, \"value\": 4300.6}, \"3\": {\"effect\": -0.6642150765530109, \"value\": 31970.9}, \"4\": {\"effect\": 0.08508100149758324, \"value\": 1362.2}, \"5\": {\"effect\": -0.11081142489493706, \"value\": 3214.4}, \"6\": {\"effect\": 0.038419673633472595, \"value\": 286.4}, \"7\": {\"effect\": -0.09893003079520563, \"value\": 852.8}, \"8\": {\"effect\": -0.09633498634555027, \"value\": 2773.75}, \"9\": {\"effect\": -0.0808534223558135, \"value\": 593.2}, \"10\": {\"effect\": -0.09115458146613614, \"value\": 1448.3}, \"11\": {\"effect\": 0.11768918453465083, \"value\": 1318.3}}}, {\"outValue\": -1.1102230246251565e-16, \"simIndex\": 10.0, \"features\": {\"0\": {\"effect\": -0.12016519899699285, \"value\": 1317.9}, \"1\": {\"effect\": -0.13779177471637816, \"value\": 3824.5}, \"2\": {\"effect\": 0.39026169262567073, \"value\": 3396.7}, \"3\": {\"effect\": -0.5870669664912599, \"value\": 8973.1}, \"4\": {\"effect\": 0.11465662381407704, \"value\": 1409.8}, \"5\": {\"effect\": -0.2126758835928798, \"value\": 5915.9}, \"6\": {\"effect\": 0.049563540029447295, \"value\": 593.0}, \"7\": {\"effect\": -0.1032525434362585, \"value\": 1222.85}, \"8\": {\"effect\": -0.17502350345464013, \"value\": 4392.25}, \"9\": {\"effect\": -0.07697086660455743, \"value\": 257.7}, \"10\": {\"effect\": -0.05924372595482297, \"value\": 189.9}, \"11\": {\"effect\": 0.1504672274682498, \"value\": 1368.35}}}, {\"outValue\": 0.0, \"simIndex\": 16.0, \"features\": {\"0\": {\"effect\": -0.09111448169960068, \"value\": 1534.5}, \"1\": {\"effect\": -0.22095662353423406, \"value\": 21252.55}, \"2\": {\"effect\": 0.09371987476157978, \"value\": 2216.7}, \"3\": {\"effect\": -0.17291100651904978, \"value\": 11718.8}, \"4\": {\"effect\": 0.10258760226957664, \"value\": 2671.7}, \"5\": {\"effect\": -0.22308616827044142, \"value\": 14121.5}, \"6\": {\"effect\": 0.0666964814596509, \"value\": 699.3}, \"7\": {\"effect\": -0.07334482648837465, \"value\": 670.1}, \"8\": {\"effect\": -0.18760980616187495, \"value\": 8987.25}, \"9\": {\"effect\": -0.09929646453017255, \"value\": 2234.5}, \"10\": {\"effect\": -0.06810574523216134, \"value\": 725.9}, \"11\": {\"effect\": 0.10617978463475741, \"value\": 2016.35}}}, {\"outValue\": 0.0, \"simIndex\": 12.0, \"features\": {\"0\": {\"effect\": -0.16128710824610326, \"value\": 3671.1}, \"1\": {\"effect\": -0.23352390340811263, \"value\": 6871.05}, \"2\": {\"effect\": 0.24707805203799105, \"value\": 2920.7}, \"3\": {\"effect\": -0.360280996000783, \"value\": 32426.7}, \"4\": {\"effect\": 0.06202972803831153, \"value\": 1320.6}, \"5\": {\"effect\": -0.12453019263638887, \"value\": 3754.7}, \"6\": {\"effect\": 0.03478901038991439, \"value\": 406.0}, \"7\": {\"effect\": -0.10981368531030267, \"value\": 1630.5}, \"8\": {\"effect\": -0.12387706620316496, \"value\": 3775.0}, \"9\": {\"effect\": -0.06278348869888689, \"value\": 436.8}, \"10\": {\"effect\": -0.0919209472960536, \"value\": 1280.9}, \"11\": {\"effect\": 0.15687921802323412, \"value\": 2376.3}}}, {\"outValue\": 0.0, \"simIndex\": 9.0, \"features\": {\"0\": {\"effect\": -0.11410389255243802, \"value\": 1770.5}, \"1\": {\"effect\": -0.1211023315193811, \"value\": 6106.85}, \"2\": {\"effect\": 0.3669540143595488, \"value\": 3436.0}, \"3\": {\"effect\": -0.6372156659329494, \"value\": 13369.5}, \"4\": {\"effect\": 0.060876668983337434, \"value\": 1165.3}, \"5\": {\"effect\": -0.11296820725651491, \"value\": 2613.8}, \"6\": {\"effect\": 0.03974647278717802, \"value\": 193.5}, \"7\": {\"effect\": -0.10047124437103455, \"value\": 1311.7}, \"8\": {\"effect\": -0.11664625095997538, \"value\": 4241.85}, \"9\": {\"effect\": -0.0676009932021086, \"value\": 386.9}, \"10\": {\"effect\": -0.11039131684036807, \"value\": 2398.3}, \"11\": {\"effect\": 0.1456813671943611, \"value\": 1817.35}}}, {\"outValue\": 0.0, \"simIndex\": 11.0, \"features\": {\"0\": {\"effect\": -0.13370333372587523, \"value\": 2284.9}, \"1\": {\"effect\": -0.23721777786460302, \"value\": 8797.45}, \"2\": {\"effect\": 0.2451987745029289, \"value\": 3403.9}, \"3\": {\"effect\": -0.3670287683438674, \"value\": 21923.3}, \"4\": {\"effect\": 0.05699405893300208, \"value\": 996.4}, \"5\": {\"effect\": -0.10229933132622937, \"value\": 1848.7}, \"6\": {\"effect\": 0.04584496660975723, \"value\": 361.4}, \"7\": {\"effect\": -0.14059085958917478, \"value\": 2112.35}, \"8\": {\"effect\": -0.1390211853307804, \"value\": 3381.65}, \"9\": {\"effect\": -0.07105353423488592, \"value\": 527.3}, \"10\": {\"effect\": -0.08231506023435431, \"value\": 874.6}, \"11\": {\"effect\": 0.15795067129373752, \"value\": 2213.2}}}, {\"outValue\": 0.0, \"simIndex\": 15.0, \"features\": {\"0\": {\"effect\": -0.12909302797474054, \"value\": 2582.8}, \"1\": {\"effect\": -0.17521187846723374, \"value\": 8247.0}, \"2\": {\"effect\": 0.164083454832205, \"value\": 3021.2}, \"3\": {\"effect\": -0.22724406324952107, \"value\": 18162.8}, \"4\": {\"effect\": 0.06236865735368391, \"value\": 1407.1}, \"5\": {\"effect\": -0.1920801713212158, \"value\": 7863.2}, \"6\": {\"effect\": 0.025176606444447525, \"value\": 275.5}, \"7\": {\"effect\": -0.11092434720738409, \"value\": 1523.1}, \"8\": {\"effect\": -0.12699972649406394, \"value\": 6845.2}, \"9\": {\"effect\": -0.08762103759824658, \"value\": 830.7}, \"10\": {\"effect\": -0.09854385690597905, \"value\": 2357.8}, \"11\": {\"effect\": 0.1288480112777035, \"value\": 2464.55}}}, {\"outValue\": 1.0, \"simIndex\": 6.0, \"features\": {\"0\": {\"effect\": -0.08185159482112274, \"value\": 641.3}, \"1\": {\"effect\": -0.12381729238314765, \"value\": 4157.7}, \"2\": {\"effect\": 0.817629551592657, \"value\": 8685.7}, \"3\": {\"effect\": -0.12247844933132447, \"value\": 5945.1}, \"4\": {\"effect\": 0.06034579741373494, \"value\": 1080.2}, \"5\": {\"effect\": -0.12428577825985579, \"value\": 3281.9}, \"6\": {\"effect\": 0.04383581900157767, \"value\": 232.1}, \"7\": {\"effect\": -0.06857932188384569, \"value\": 200.25}, \"8\": {\"effect\": -0.11847719088675561, \"value\": 3323.100000000001}, \"9\": {\"effect\": -0.0707717316123278, \"value\": 276.3}, \"10\": {\"effect\": -0.15000672191792236, \"value\": 4136.0}, \"11\": {\"effect\": 0.17121553377798776, \"value\": 1643.1}}}, {\"outValue\": 1.0, \"simIndex\": 4.0, \"features\": {\"0\": {\"effect\": -0.09688792480134471, \"value\": 809.1}, \"1\": {\"effect\": -0.11048446305281116, \"value\": 3485.8}, \"2\": {\"effect\": 0.8516382006788237, \"value\": 8056.2}, \"3\": {\"effect\": -0.13639342663916523, \"value\": 6658.6}, \"4\": {\"effect\": 0.06953334355224686, \"value\": 913.7}, \"5\": {\"effect\": -0.10222098909749523, \"value\": 2733.1}, \"6\": {\"effect\": 0.03512816403322057, \"value\": 269.7}, \"7\": {\"effect\": -0.10191972008472719, \"value\": 996.65}, \"8\": {\"effect\": -0.13388135344647462, \"value\": 3712.75}, \"9\": {\"effect\": -0.06441912112260414, \"value\": 359.5}, \"10\": {\"effect\": -0.10504774517313872, \"value\": 1984.7}, \"11\": {\"effect\": 0.1277136558431251, \"value\": 1173.15}}}, {\"outValue\": 1.0, \"simIndex\": 5.0, \"features\": {\"0\": {\"effect\": -0.07187620272951456, \"value\": 416.4}, \"1\": {\"effect\": -0.11879653695510775, \"value\": 2787.65}, \"2\": {\"effect\": 0.8502997650076864, \"value\": 4957.4}, \"3\": {\"effect\": -0.1238441501449769, \"value\": 5078.7}, \"4\": {\"effect\": 0.048958234668382714, \"value\": 569.2}, \"5\": {\"effect\": -0.11462161499168483, \"value\": 1964.1}, \"6\": {\"effect\": 0.04863122149604018, \"value\": 283.7}, \"7\": {\"effect\": -0.1303709553205553, \"value\": 1560.9}, \"8\": {\"effect\": -0.12150458414410582, \"value\": 3096.7}, \"9\": {\"effect\": -0.07145056442644451, \"value\": 392.1}, \"10\": {\"effect\": -0.11050018138742833, \"value\": 1714.5}, \"11\": {\"effect\": 0.14783418961736383, \"value\": 1128.0}}}, {\"outValue\": 1.0, \"simIndex\": 1.0, \"features\": {\"0\": {\"effect\": -0.08083984634942049, \"value\": 564.4}, \"1\": {\"effect\": -0.14490549606494457, \"value\": 3746.1}, \"2\": {\"effect\": 0.8283428948076472, \"value\": 4270.9}, \"3\": {\"effect\": -0.09238989605632207, \"value\": 3372.3}, \"4\": {\"effect\": 0.06511232058644845, \"value\": 1006.1}, \"5\": {\"effect\": -0.14482889226672643, \"value\": 2531.0}, \"6\": {\"effect\": 0.023799539069686577, \"value\": 255.3}, \"7\": {\"effect\": -0.1598008039795744, \"value\": 2363.95}, \"8\": {\"effect\": 0.05215335379500538, \"value\": 3579.3}, \"9\": {\"effect\": -0.0873162236664912, \"value\": 785.5}, \"10\": {\"effect\": -0.1431979948080852, \"value\": 2930.9}, \"11\": {\"effect\": 0.11662966562243199, \"value\": 1110.95}}}, {\"outValue\": 0.9999999999999999, \"simIndex\": 2.0, \"features\": {\"0\": {\"effect\": -0.08651144503377468, \"value\": 339.5}, \"1\": {\"effect\": -0.11749072743935872, \"value\": 7634.45}, \"2\": {\"effect\": 0.8850699960134558, \"value\": 7600.4}, \"3\": {\"effect\": -0.08865692500677742, \"value\": 3827.9}, \"4\": {\"effect\": 0.07766738464283657, \"value\": 1419.9}, \"5\": {\"effect\": -0.12201338969784428, \"value\": 4056.2}, \"6\": {\"effect\": 0.01892804860734229, \"value\": 157.2}, \"7\": {\"effect\": -0.09054053550268717, \"value\": 1730.2}, \"8\": {\"effect\": -0.10949627789341725, \"value\": 4420.7}, \"9\": {\"effect\": -0.07814213257135191, \"value\": 406.4}, \"10\": {\"effect\": -0.12100561292742405, \"value\": 5470.2}, \"11\": {\"effect\": 0.06495023749865592, \"value\": 957.15}}}], \"plot_cmap\": \"RdBu\", \"ordering_keys\": null, \"ordering_keys_time_format\": null}),\n",
       "    document.getElementById('iDAPXREEJB6ZKU4ZEFKAL')\n",
       "  );\n",
       "</script>"
      ],
      "text/plain": [
       "<IPython.core.display.HTML object>"
      ]
     },
     "execution_count": 15,
     "metadata": {},
     "output_type": "execute_result"
    }
   ],
   "source": [
    "shap_values = ex.shap_values(X_test_out)\n",
    "shap.force_plot(ex.expected_value, shap_values, X_test_out)"
   ]
  },
  {
   "cell_type": "code",
   "execution_count": 16,
   "metadata": {},
   "outputs": [],
   "source": [
    "def shap_plot(X, y, shap_values):\n",
    "\n",
    "    spdf = pd.DataFrame(shap_values[np.array(y) != 1,:], columns=X.columns)\n",
    "\n",
    "    spdf_ctrl = pd.DataFrame(spdf.sum(axis=0), columns=['CTRL'])\n",
    "\n",
    "    spdf_hcn = pd.DataFrame(shap_values[np.array(y) == 1,:], columns=X.columns)\n",
    "    spdf_hcn = pd.DataFrame(spdf_hcn.sum(axis=0), columns=['HCM'])\n",
    "\n",
    "    spdf = pd.concat([spdf_hcn, spdf_ctrl], axis=1)\n",
    "\n",
    "    x = spdf['CTRL']\n",
    "    y = spdf['HCM']\n",
    "\n",
    "    plt.figure(figsize=(13,13))\n",
    "    plt.scatter(x, y)\n",
    "    plt.axvline(0)\n",
    "    plt.axhline(0)\n",
    "    plt.xlabel('CTRL SHAPE value')\n",
    "    plt.ylabel('HCM SHAPE value')\n",
    "    for i, txt in enumerate(spdf.index):\n",
    "        plt.annotate(txt, (x[i], y[i]))\n",
    "\n",
    "    return(spdf)\n",
    "    #plt.savefig('./shape_by_gene.png', dpi = 300)"
   ]
  },
  {
   "cell_type": "code",
   "execution_count": 17,
   "metadata": {},
   "outputs": [
    {
     "data": {
      "application/vnd.jupyter.widget-view+json": {
       "model_id": "ec3e29e2dfa341c8893e7c1ca62ccad3",
       "version_major": 2,
       "version_minor": 0
      },
      "text/plain": [
       "  0%|          | 0/16 [00:00<?, ?it/s]"
      ]
     },
     "metadata": {},
     "output_type": "display_data"
    },
    {
     "name": "stderr",
     "output_type": "stream",
     "text": [
      "l1_reg=\"auto\" is deprecated and in the next version (v0.29) the behavior will change from a conditional use of AIC to simply \"num_features(10)\"!\n",
      "l1_reg=\"auto\" is deprecated and in the next version (v0.29) the behavior will change from a conditional use of AIC to simply \"num_features(10)\"!\n",
      "l1_reg=\"auto\" is deprecated and in the next version (v0.29) the behavior will change from a conditional use of AIC to simply \"num_features(10)\"!\n",
      "l1_reg=\"auto\" is deprecated and in the next version (v0.29) the behavior will change from a conditional use of AIC to simply \"num_features(10)\"!\n",
      "l1_reg=\"auto\" is deprecated and in the next version (v0.29) the behavior will change from a conditional use of AIC to simply \"num_features(10)\"!\n",
      "l1_reg=\"auto\" is deprecated and in the next version (v0.29) the behavior will change from a conditional use of AIC to simply \"num_features(10)\"!\n",
      "l1_reg=\"auto\" is deprecated and in the next version (v0.29) the behavior will change from a conditional use of AIC to simply \"num_features(10)\"!\n",
      "l1_reg=\"auto\" is deprecated and in the next version (v0.29) the behavior will change from a conditional use of AIC to simply \"num_features(10)\"!\n",
      "l1_reg=\"auto\" is deprecated and in the next version (v0.29) the behavior will change from a conditional use of AIC to simply \"num_features(10)\"!\n",
      "l1_reg=\"auto\" is deprecated and in the next version (v0.29) the behavior will change from a conditional use of AIC to simply \"num_features(10)\"!\n",
      "l1_reg=\"auto\" is deprecated and in the next version (v0.29) the behavior will change from a conditional use of AIC to simply \"num_features(10)\"!\n",
      "l1_reg=\"auto\" is deprecated and in the next version (v0.29) the behavior will change from a conditional use of AIC to simply \"num_features(10)\"!\n",
      "l1_reg=\"auto\" is deprecated and in the next version (v0.29) the behavior will change from a conditional use of AIC to simply \"num_features(10)\"!\n",
      "l1_reg=\"auto\" is deprecated and in the next version (v0.29) the behavior will change from a conditional use of AIC to simply \"num_features(10)\"!\n",
      "l1_reg=\"auto\" is deprecated and in the next version (v0.29) the behavior will change from a conditional use of AIC to simply \"num_features(10)\"!\n",
      "l1_reg=\"auto\" is deprecated and in the next version (v0.29) the behavior will change from a conditional use of AIC to simply \"num_features(10)\"!\n"
     ]
    },
    {
     "data": {
      "image/png": "[encoded data removed]",
      "text/plain": [
       "<Figure size 936x936 with 1 Axes>"
      ]
     },
     "metadata": {
      "needs_background": "light"
     },
     "output_type": "display_data"
    }
   ],
   "source": [
    "shap_values = ex.shap_values(X_test_out)\n",
    "spdf = shap_plot(X_test_out, y_test_out, shap_values)\n",
    "spdf.to_csv('../best_genes_SHAPE_distance.csv')"
   ]
  },
  {
   "cell_type": "code",
   "execution_count": 21,
   "metadata": {},
   "outputs": [],
   "source": [
    "#################################\n",
    "# reactome \n",
    "#################################"
   ]
  },
  {
   "cell_type": "code",
   "execution_count": 22,
   "metadata": {},
   "outputs": [],
   "source": [
    "import json"
   ]
  },
  {
   "cell_type": "code",
   "execution_count": 23,
   "metadata": {},
   "outputs": [],
   "source": [
    "f = open('../Data/ReactomePathways.gmt', 'r')\n",
    "\n",
    "Reactome_path = dict()\n",
    "for i in f:\n",
    "    line = i.rstrip('\\n').split('\\t')\n",
    "    Reactome_path[line[1]] = {'name': line[0], \n",
    "                           'genes': line[2:]}"
   ]
  },
  {
   "cell_type": "code",
   "execution_count": 25,
   "metadata": {},
   "outputs": [],
   "source": [
    "def grep_path_ID(x, gene):\n",
    "    if gene in Reactome_path[x]['genes']:\n",
    "        return x\n",
    "\n",
    "gene_to_path = dict()\n",
    "for gene in best_features:\n",
    "    _paths = np.array(list(map(lambda x: grep_path_ID(x, gene=gene), Reactome_path.keys())))\n",
    "    \n",
    "    _paths = list(_paths[_paths != None])\n",
    "    \n",
    "    gene_to_path[gene] = dict()\n",
    "    \n",
    "    if len(_paths) != 0:\n",
    "    \n",
    "        for path in _paths:\n",
    "            if len(Reactome_path[path]['genes']) < 500:\n",
    "                gene_to_path[gene][path] = Reactome_path[path]['genes']"
   ]
  },
  {
   "cell_type": "code",
   "execution_count": 26,
   "metadata": {},
   "outputs": [],
   "source": [
    "with open('../Data/best_gene_to_path.json', 'w') as outfile:\n",
    "    json.dump(gene_to_path, outfile)"
   ]
  },
  {
   "cell_type": "code",
   "execution_count": 18,
   "metadata": {},
   "outputs": [
    {
     "data": {
      "text/plain": [
       "array([[<matplotlib.axes._subplots.AxesSubplot object at 0x7fdd28a04c10>,\n",
       "        <matplotlib.axes._subplots.AxesSubplot object at 0x7fdd29c6e850>,\n",
       "        <matplotlib.axes._subplots.AxesSubplot object at 0x7fdd3c507b10>],\n",
       "       [<matplotlib.axes._subplots.AxesSubplot object at 0x7fdd3c521e90>,\n",
       "        <matplotlib.axes._subplots.AxesSubplot object at 0x7fdd29f7be10>,\n",
       "        <matplotlib.axes._subplots.AxesSubplot object at 0x7fdd29f997d0>],\n",
       "       [<matplotlib.axes._subplots.AxesSubplot object at 0x7fdd29fb3c50>,\n",
       "        <matplotlib.axes._subplots.AxesSubplot object at 0x7fdd29fd4110>,\n",
       "        <matplotlib.axes._subplots.AxesSubplot object at 0x7fdd29fd4bd0>],\n",
       "       [<matplotlib.axes._subplots.AxesSubplot object at 0x7fdd29ff8210>,\n",
       "        <matplotlib.axes._subplots.AxesSubplot object at 0x7fdd2a02ae90>,\n",
       "        <matplotlib.axes._subplots.AxesSubplot object at 0x7fdd2a04de10>]],\n",
       "      dtype=object)"
      ]
     },
     "execution_count": 18,
     "metadata": {},
     "output_type": "execute_result"
    },
    {
     "data": {
      "image/png": "[encoded data removed]",
      "text/plain": [
       "<Figure size 864x864 with 12 Axes>"
      ]
     },
     "metadata": {
      "needs_background": "light"
     },
     "output_type": "display_data"
    }
   ],
   "source": [
    "data = X\n",
    "data['y'] = y\n",
    "data.head()\n",
    "data.boxplot(by='y', figsize=(12,12))"
   ]
  },
  {
   "cell_type": "code",
   "execution_count": null,
   "metadata": {},
   "outputs": [],
   "source": []
  },
  {
   "cell_type": "code",
   "execution_count": null,
   "metadata": {},
   "outputs": [],
   "source": []
  }
 ],
 "metadata": {
  "kernelspec": {
   "display_name": "Python 3",
   "language": "python",
   "name": "python3"
  },
  "language_info": {
   "codemirror_mode": {
    "name": "ipython",
    "version": 3
   },
   "file_extension": ".py",
   "mimetype": "text/x-python",
   "name": "python",
   "nbconvert_exporter": "python",
   "pygments_lexer": "ipython3",
   "version": "3.7.6"
  }
 },
 "nbformat": 4,
 "nbformat_minor": 4
}
