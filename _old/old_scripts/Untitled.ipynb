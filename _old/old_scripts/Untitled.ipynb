{
 "cells": [
  {
   "cell_type": "code",
   "execution_count": null,
   "metadata": {},
   "outputs": [],
   "source": [
    "import pandas as pd\n",
    "import numpy as np\n",
    "from sklearn.model_selection import train_test_split, cross_val_score\n",
    "from sklearn import metrics, linear_model, model_selection\n",
    "from sklearn.preprocessing import StandardScaler\n",
    "import matplotlib.pyplot as plt\n",
    "\n",
    "\n",
    "class Data(object): \n",
    "    def __init__(self):\n",
    "        pass\n",
    "    \n",
    "Data.X = Data()\n",
    "Data.X.train = pd.read_csv('./train_GSE36961.csv', index_col=0)\n",
    "Data.y = Data()\n",
    "Data.y.train = list(pd.read_csv('./train_GSE36961_target.csv').iloc[:,1])"
   ]
  },
  {
   "cell_type": "code",
   "execution_count": null,
   "metadata": {},
   "outputs": [],
   "source": [
    "# train test split and scaling\n",
    "X_train, X_test, y_train, y_test = train_test_split(Data.X.train.transpose(), \n",
    "                                                    Data.y.train, \n",
    "                                                    test_size=0.2, \n",
    "                                                    random_state=42)\n",
    "\n",
    "C = np.array([0.2, 0.1, 0.05, 0.04, 0.03, 0.02, 0.01])\n",
    "\n",
    "X_train = scaler.fit_transform(X_train)\n",
    "# возвращаем имена фичей\n",
    "X_train = pd.DataFrame(X_train, columns=Data.X.train.index)\n",
    "\n",
    "# Подбираем коэффициент регуляризации. Выбираем тот, после которого всё качество идет по п*зде\n",
    "\n",
    "result_df_train = pd.DataFrame()\n",
    "result_df_test = pd.DataFrame()\n",
    "\n",
    "\n",
    "# 10 раз шатаем модель по разным random_state, потом усредняем по смотрим на результат по коэффициентам\n",
    "\n",
    "for a in range(0,5):\n",
    "    print(a)\n",
    "    random_state = random.randint(1,100)\n",
    "    roc_auc_train = list()\n",
    "    roc_auc_test = list()\n",
    "    for i in C:\n",
    "        linear_regressor = linear_model.LogisticRegression(penalty='l1', C=i, solver='liblinear', random_state=random_state)\n",
    "        roc_auc_train.append(np.mean(cross_val_score(linear_regressor, X_train, y_train, scoring='roc_auc')))\n",
    "    result_df_train[a] = roc_auc_train\n",
    "\n",
    "plt.plot(result_df_train.apply(np.mean, axis=1))"
   ]
  }
 ],
 "metadata": {
  "kernelspec": {
   "display_name": "Python 3",
   "language": "python",
   "name": "python3"
  },
  "language_info": {
   "codemirror_mode": {
    "name": "ipython",
    "version": 3
   },
   "file_extension": ".py",
   "mimetype": "text/x-python",
   "name": "python",
   "nbconvert_exporter": "python",
   "pygments_lexer": "ipython3",
   "version": "3.7.6"
  }
 },
 "nbformat": 4,
 "nbformat_minor": 4
}
